{
 "cells": [
  {
   "cell_type": "code",
   "execution_count": null,
   "id": "7cac3c26-13eb-487c-a2ce-2bf8f1c2039d",
   "metadata": {},
   "outputs": [],
   "source": [
    "import pandas as pd\n",
    "from sklearn import metrics\n",
    "\n",
    "patient_data_path = '/home/tstrebel/repos/umich-mads-capstone-project/assets/rsna-patient-details.csv'"
   ]
  },
  {
   "cell_type": "code",
   "execution_count": null,
   "id": "ca49d623-903c-41e3-8a02-a1240b489090",
   "metadata": {},
   "outputs": [],
   "source": [
    "df_patients = pd.read_csv(patient_data_path, index_col='index')\n",
    "\n",
    "df_patients['age_group'] = pd.cut(df_patients.patient_age, \n",
    "                                  [0, 1, 5, 12, 18, 44, 64, 79, np.inf], \n",
    "                                  labels=['Infant 1 year-old', \n",
    "                                          'preschool (2-5)', \n",
    "                                          'Child (6-12)', \n",
    "                                          'Adolescent (13-18)', \n",
    "                                          'Adult (19-44)', \n",
    "                                          'Middle age (45-64)', \n",
    "                                          'Aged (65-79)', 'Aged 80+'])\n",
    "df_patients['view_position'] = df_patients['view_position'].map({'AP':'Anterior/Posterior', 'PA':'Posterior/Anterior'})\n",
    "\n",
    "df_patients['densenet_prediction'] = (df_patients['densenet_predict_proba'] >= TL_THRESH).astype(int)\n",
    "\n",
    "df_patients.head()"
   ]
  },
  {
   "cell_type": "code",
   "execution_count": null,
   "id": "358e566c-5760-42aa-b22a-36b13ab90ef4",
   "metadata": {},
   "outputs": [],
   "source": [
    "pd.set_option('display.precision', 3)\n",
    "\n",
    "df_test = df_patients[df_patients['split'] == 'test']\n",
    "\n",
    "def get_metrics_by_group(data, group):\n",
    "    n = data[group].value_counts().rename('n-patients')\n",
    "    n_neg = data[data.target == 0][group].value_counts().rename('n-negative')\n",
    "    n_pos = data[data.target == 1][group].value_counts().rename('n-positive')\n",
    "    n = n.to_frame().join([n_neg, n_pos])\n",
    "    \n",
    "    results = []\n",
    "    \n",
    "    def get_metrics(grp, metric_fn):\n",
    "        if len(grp) > 0:\n",
    "            return metric_fn(grp['target'], grp['densenet_prediction'])\n",
    "        else:\n",
    "            return 0\n",
    "    \n",
    "    for metric_name, metric_fn in [('Precision', partial(metrics.precision_score, zero_division=0)), \n",
    "                                   ('Recall', metrics.recall_score), \n",
    "                                   ('F1', metrics.f1_score), \n",
    "                                   ('Accuracy', metrics.accuracy_score)]:\n",
    "        metric_result = (data.groupby(group)\n",
    "                  .apply(get_metrics, metric_fn)).rename(metric_name)\n",
    "        results.append(metric_result)\n",
    "        \n",
    "    def get_average_precision_score(grp):\n",
    "        if len(grp) > 0:\n",
    "            return metrics.average_precision_score(grp['target'], grp['densenet_predict_proba'])\n",
    "        else:\n",
    "            return 0\n",
    "        \n",
    "    avg_precision = (data.groupby(group)\n",
    "              .apply(get_average_precision_score).rename('Average Precision'))\n",
    "    results.append(avg_precision)\n",
    "    \n",
    "    return n.join(results).sort_index()\n",
    "\n",
    "def get_f1_adjusted_metrics_by_group(data, group):\n",
    "    n = data[group].value_counts().rename('n-patients')\n",
    "    n_neg = data[data.target == 0][group].value_counts().rename('n-negative')\n",
    "    n_pos = data[data.target == 1][group].value_counts().rename('n-positive')\n",
    "    n = n.to_frame().join([n_neg, n_pos])\n",
    "    \n",
    "    results = []\n",
    "    \n",
    "    def get_f1_adj_trhes(grp):\n",
    "        if len(grp) > 0:\n",
    "            precision, recall, pr_thresholds = metrics.precision_recall_curve(grp['target'], grp['densenet_predict_proba'])\n",
    "            f1_scores = (2 * precision * recall) / ((precision + recall) + 1e-8)\n",
    "\n",
    "            ix = np.argmax(f1_scores)\n",
    "            best_thresh = pr_thresholds[ix]\n",
    "            return best_thresh\n",
    "        else:\n",
    "            return 0\n",
    "        \n",
    "    adj_thresh = data.groupby(group).apply(get_f1_adj_trhes).rename('Adjusted Threshold')\n",
    "    adj_thresh_dict = adj_thresh.to_dict()\n",
    "    \n",
    "    def get_metrics(grp, metric_fn):\n",
    "        if len(grp) > 0:\n",
    "            best_thresh = adj_thresh_dict[grp.name]\n",
    "            \n",
    "            adj_prediction = (grp['densenet_predict_proba'] >= best_thresh).astype(int)\n",
    "            return metric_fn(grp['target'], adj_prediction)\n",
    "        else:\n",
    "            return 0\n",
    "    \n",
    "    for metric_name, metric_fn in [('Precision', partial(metrics.precision_score, zero_division=0)), \n",
    "                                   ('Recall', metrics.recall_score), \n",
    "                                   ('F1', metrics.f1_score),\n",
    "                                   ('Accuracy', metrics.accuracy_score)]:\n",
    "        metric_result = (data.groupby(group)\n",
    "                  .apply(get_metrics, metric_fn)).rename(metric_name)\n",
    "        results.append(metric_result)\n",
    "        \n",
    "    def get_average_precision_score(grp):\n",
    "        if len(grp) > 0:\n",
    "            \n",
    "            return metrics.average_precision_score(grp['target'], grp['densenet_predict_proba'])\n",
    "        else:\n",
    "            return 0\n",
    "        \n",
    "    avg_precision = (data.groupby(group)\n",
    "              .apply(get_average_precision_score).rename('Average Precision'))\n",
    "    results.append(avg_precision)\n",
    "    results.append(adj_thresh)\n",
    "    \n",
    "    return n.join(results).sort_index()\n",
    "\n",
    "def print_metrics(data, adjust_by=None):\n",
    "    n = len(data)\n",
    "    n_neg = len(data[data.target == 0])\n",
    "    n_pos = len(data[data.target == 1])\n",
    "    \n",
    "    def get_f1_adj_trhes(grp):\n",
    "        if len(grp) > 0:\n",
    "            precision, recall, pr_thresholds = metrics.precision_recall_curve(grp['target'], grp['densenet_predict_proba'])\n",
    "            f1_scores = (2 * precision * recall) / ((precision + recall) + 1e-8)\n",
    "\n",
    "            ix = np.argmax(f1_scores)\n",
    "            best_thresh = pr_thresholds[ix]\n",
    "            return best_thresh\n",
    "        else:\n",
    "            return 0\n",
    "    \n",
    "    if adjust_by:\n",
    "        adj_thresh_dict = (data\n",
    "                           .groupby(adjust_by)\n",
    "                           .apply(get_f1_adj_trhes)\n",
    "                           .rename('Adjusted Threshold')\n",
    "                           .to_dict())\n",
    "        adj_thresh = data[adjust_by].astype(str).map(adj_thresh_dict)\n",
    "        preds = (data['densenet_predict_proba'] >= adj_thresh).astype(int)\n",
    "    else:\n",
    "        preds = data['densenet_prediction']\n",
    "        \n",
    "    targets = data['target']\n",
    "    precision = metrics.precision_score(targets, preds)\n",
    "    recall = metrics.recall_score(targets, preds)\n",
    "    f1 = metrics.f1_score(targets, preds)\n",
    "    accuracy = metrics.accuracy_score(targets, preds)\n",
    "    \n",
    "    print('N Samples:\\t{:,}'.format(n))\n",
    "    print('N Negative:\\t{:,}'.format(n_neg))\n",
    "    print('N Positive:\\t{:,}'.format(n_pos))\n",
    "    print()\n",
    "    print('Precision:\\t{:.3f}'.format(precision))\n",
    "    print('Recall:\\t{:.3f}'.format(recall))\n",
    "    print('F1:\\t\\t{:.3f}'.format(f1))\n",
    "    print('Accuracy:\\t{:.3f}'.format(accuracy))"
   ]
  },
  {
   "cell_type": "code",
   "execution_count": null,
   "id": "be5cba4f-66e8-4ed1-843c-e0c6971b03e7",
   "metadata": {},
   "outputs": [],
   "source": [
    "get_metrics_by_group(df_test, group='patient_sex')"
   ]
  },
  {
   "cell_type": "code",
   "execution_count": null,
   "id": "a7a9ed16-eae9-4684-983b-8d6704fa0cfd",
   "metadata": {},
   "outputs": [],
   "source": [
    "get_f1_adjusted_metrics_by_group(df_test, group='patient_sex')"
   ]
  },
  {
   "cell_type": "code",
   "execution_count": null,
   "id": "a122145e-d996-4129-97d6-c1eb1e08c827",
   "metadata": {},
   "outputs": [],
   "source": [
    "get_metrics_by_group(df_test, group='view_position')"
   ]
  },
  {
   "cell_type": "code",
   "execution_count": null,
   "id": "b2f324ff-5a17-4add-bc5e-9c9f7a1b2a30",
   "metadata": {},
   "outputs": [],
   "source": [
    "get_f1_adjusted_metrics_by_group(df_test, group='view_position')"
   ]
  },
  {
   "cell_type": "code",
   "execution_count": null,
   "id": "363c462d-2a92-4834-a6bf-a4f0418617a3",
   "metadata": {},
   "outputs": [],
   "source": [
    "get_metrics_by_group(df_test, group='age_group')"
   ]
  },
  {
   "cell_type": "code",
   "execution_count": null,
   "id": "6d57b25c-dfa6-43da-871a-039b678a3891",
   "metadata": {},
   "outputs": [],
   "source": [
    "get_f1_adjusted_metrics_by_group(df_test, group='age_group')"
   ]
  },
  {
   "cell_type": "code",
   "execution_count": null,
   "id": "0d6edc07-cce7-4529-89fd-2b2e9fd7c1e0",
   "metadata": {},
   "outputs": [],
   "source": [
    "print_metrics(df_test)"
   ]
  },
  {
   "cell_type": "code",
   "execution_count": null,
   "id": "55704c33-803d-4028-bdd2-c737f457d5c6",
   "metadata": {},
   "outputs": [],
   "source": [
    "print_metrics(df_test, adjust_by='age_group')"
   ]
  }
 ],
 "metadata": {
  "kernelspec": {
   "display_name": "Python 3 (ipykernel)",
   "language": "python",
   "name": "python3"
  },
  "language_info": {
   "codemirror_mode": {
    "name": "ipython",
    "version": 3
   },
   "file_extension": ".py",
   "mimetype": "text/x-python",
   "name": "python",
   "nbconvert_exporter": "python",
   "pygments_lexer": "ipython3",
   "version": "3.9.7"
  }
 },
 "nbformat": 4,
 "nbformat_minor": 5
}
