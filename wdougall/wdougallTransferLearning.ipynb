{
 "cells": [
  {
   "cell_type": "code",
   "execution_count": 7,
   "metadata": {},
   "outputs": [],
   "source": [
    "from __future__ import print_function, division\n",
    "\n",
    "import torch\n",
    "import torch.nn as nn\n",
    "import torch.optim as optim\n",
    "from torch.optim import lr_scheduler\n",
    "import torchvision\n",
    "from torchvision import datasets, models, transforms\n",
    "#from matplotlib.pyplot import plt\n",
    "import numpy as np\n",
    "import pandas as pd\n",
    "import time\n",
    "import os\n",
    "import copy\n",
    "from functools import partial"
   ]
  },
  {
   "cell_type": "markdown",
   "metadata": {},
   "source": [
    "Import/Load Data \n"
   ]
  },
  {
   "cell_type": "code",
   "execution_count": 6,
   "metadata": {},
   "outputs": [],
   "source": [
    "model_save_path = '/home/wdougall/models/rnsa-densenet.pt'\n",
    "\n",
    "#change to chest xrays transfer from rnsa to chest xray\n",
    "\n",
    "#maybe not\n",
    "\n",
    "train_img_dir = '/home/wdougall/assets/rnsa-pneumonia/train-images'\n",
    "annotations_file_path = '/home/wdougall/assets/rnsa-pneumonia/stage_2_train_labels.csv.zip'\n",
    "\n",
    "device = torch.device(\"cuda\" if torch.cuda.is_available() else \"cpu\")"
   ]
  },
  {
   "cell_type": "code",
   "execution_count": null,
   "metadata": {},
   "outputs": [],
   "source": [
    "# transform = torchvision.transforms.Compose([\n",
    "#     torchvision.transforms.Resize(512),\n",
    "#     torchvision.transforms.CenterCrop(448),\n",
    "#     torchvision.transforms.ToTensor(),\n",
    "#     torchvision.transforms.Normalize(mean, std),\n",
    "# ])\n",
    "\n",
    "# label_transform = torchvision.transforms.Compose([\n",
    "#     partial(torch.tensor, dtype=torch.float),\n",
    "#     partial(torch.unsqueeze, dim=0),\n",
    "# ])\n",
    "    \n",
    "# test_dataset = rnsa.RNSADataset(train_img_dir, annotations_file_path, test_ix, transform, label_transform)\n",
    "# test_data_loader = rnsa.get_data_loader(test_dataset, batch_size=32)"
   ]
  },
  {
   "cell_type": "markdown",
   "metadata": {},
   "source": [
    "Import Model"
   ]
  },
  {
   "cell_type": "code",
   "execution_count": null,
   "metadata": {},
   "outputs": [],
   "source": [
    "#Try with pretrained model \n",
    "#model = models.densenet121(pretrained=True, weights= \"DEFAULT\")\n",
    "model, best_loss, best_acc, lr = rnsa.load_checkpoint(model_save_path, 'cpu')\n",
    "\n",
    "print('checkpoint best loss: {:.4}'.format(best_loss))\n",
    "print('checkpoint best acc: {:.4}'.format(best_acc))"
   ]
  },
  {
   "cell_type": "markdown",
   "metadata": {},
   "source": [
    "Extract Features "
   ]
  },
  {
   "cell_type": "code",
   "execution_count": 8,
   "metadata": {},
   "outputs": [
    {
     "ename": "ModuleNotFoundError",
     "evalue": "No module named 'sklearn'",
     "output_type": "error",
     "traceback": [
      "\u001b[0;31m---------------------------------------------------------------------------\u001b[0m",
      "\u001b[0;31mModuleNotFoundError\u001b[0m                       Traceback (most recent call last)",
      "\u001b[1;32m/Users/willdougall/Downloads/wdougallTransferLearning.ipynb Cell 9\u001b[0m in \u001b[0;36m<module>\u001b[0;34m\u001b[0m\n\u001b[0;32m----> <a href='vscode-notebook-cell:/Users/willdougall/Downloads/wdougallTransferLearning.ipynb#X44sZmlsZQ%3D%3D?line=0'>1</a>\u001b[0m \u001b[39mimport\u001b[39;00m \u001b[39msklearn\u001b[39;00m\n\u001b[1;32m      <a href='vscode-notebook-cell:/Users/willdougall/Downloads/wdougallTransferLearning.ipynb#X44sZmlsZQ%3D%3D?line=1'>2</a>\u001b[0m \u001b[39mfrom\u001b[39;00m \u001b[39msklearn\u001b[39;00m \u001b[39mimport\u001b[39;00m cross_validation, grid_search\n\u001b[1;32m      <a href='vscode-notebook-cell:/Users/willdougall/Downloads/wdougallTransferLearning.ipynb#X44sZmlsZQ%3D%3D?line=2'>3</a>\u001b[0m \u001b[39mfrom\u001b[39;00m \u001b[39msklearn\u001b[39;00m\u001b[39m.\u001b[39;00m\u001b[39mmetrics\u001b[39;00m \u001b[39mimport\u001b[39;00m confusion_matrix, classification_report\n",
      "\u001b[0;31mModuleNotFoundError\u001b[0m: No module named 'sklearn'"
     ]
    }
   ],
   "source": [
    "import sklearn\n",
    "from sklearn import cross_validation, grid_search\n",
    "from sklearn.metrics import confusion_matrix, classification_report\n",
    "from sklearn.svm import SVC\n",
    "from sklearn.externals import joblib\n",
    "\n",
    "def train_svm(features, labels, model_save_path):\n",
    "    # label_df = pd.read_csv(annotations_file_path).groupby('patientId').first().reset_index()\n",
    "\n",
    "    # X_train, X_test = train_test_split(label_df, test_size=.2, stratify=label_df.Target, random_state=99)\n",
    "    # X_val, X_test, = train_test_split(X_test, test_size=.4, stratify=X_test.Target, random_state=99)\n",
    "    #train_ix, val_ix, test_ix = X_train.index.tolist(), X_val.index.tolist(), (X_test.index.tolist())\n",
    "    \n",
    "    #print('train {:,} - validate {:,} - test {:,}'.format(len(train_ix), len(val_ix), len(test_ix)))\n",
    "    \n",
    "    # Single channel mean & standard deviation.\n",
    "    mean = [0.5]\n",
    "    std = [0.225]\n",
    "\n",
    "    params = [{\"kernel\": [\"linear\"],\n",
    "        \"C\" : [1,5, 10, 50, 100, 1000]}, \n",
    "        {\"kernel\": [\"rbf\"],\n",
    "        \"C\" : [1,5, 10, 50, 100, 1000],\n",
    "        \"gamma\": [1e-2, 1e-3, 1e-4, 1e-5, 1e-6]\n",
    "        }]\n",
    "\n",
    "    svm = SVC(probability = True)\n",
    "\n",
    "    clf = grid_search.GridSearchCV(svm, params, cv = 10, n_jobs = 4, verbose = 3)\n",
    "\n",
    "    #PAINPOINT \n",
    "\n",
    "\n",
    "    #we want to fit the SVM on the extracted features from the images,\n",
    "    #this will require a new train test split of image features and classes \n",
    "    clf.fit(X_train, y_train) \n",
    "\n",
    "    if os.path.exists(model_save_path):\n",
    "        joblib.dump(clf.best_estimator_, model_save_path)\n",
    "\n",
    "    else: \n",
    "        print(\"Check model save path, SVM save failed\")\n",
    "\n",
    "    \n",
    "    print('SVM: Optimal Parameters: ', str(clf.best_params_))\n",
    "\n",
    "    y_pred = clf.predict(X_test)\n",
    "\n",
    "    labels = sorted(list(set()))\n",
    "\n",
    "\n"
   ]
  },
  {
   "cell_type": "markdown",
   "metadata": {},
   "source": [
    "Train SVM/SVC on Features from PT/CKPT File "
   ]
  },
  {
   "cell_type": "code",
   "execution_count": null,
   "metadata": {},
   "outputs": [],
   "source": []
  },
  {
   "cell_type": "markdown",
   "metadata": {},
   "source": [
    "Predict "
   ]
  },
  {
   "cell_type": "code",
   "execution_count": null,
   "metadata": {},
   "outputs": [],
   "source": []
  },
  {
   "cell_type": "markdown",
   "metadata": {},
   "source": [
    "Validate"
   ]
  },
  {
   "cell_type": "markdown",
   "metadata": {},
   "source": []
  }
 ],
 "metadata": {
  "kernelspec": {
   "display_name": "Python 3.9.2 64-bit",
   "language": "python",
   "name": "python3"
  },
  "language_info": {
   "codemirror_mode": {
    "name": "ipython",
    "version": 3
   },
   "file_extension": ".py",
   "mimetype": "text/x-python",
   "name": "python",
   "nbconvert_exporter": "python",
   "pygments_lexer": "ipython3",
   "version": "3.9.2"
  },
  "orig_nbformat": 4,
  "vscode": {
   "interpreter": {
    "hash": "aee8b7b246df8f9039afb4144a1f6fd8d2ca17a180786b69acc140d282b71a49"
   }
  }
 },
 "nbformat": 4,
 "nbformat_minor": 2
}
