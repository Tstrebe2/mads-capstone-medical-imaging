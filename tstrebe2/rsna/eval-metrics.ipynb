{
 "cells": [
  {
   "cell_type": "code",
   "execution_count": null,
   "id": "431ced0f-0c45-4ea5-9ef8-dd308402303c",
   "metadata": {},
   "outputs": [],
   "source": [
    "import pandas as pd\n",
    "import numpy as np\n",
    "from sklearn import metrics\n",
    "import matplotlib.pyplot as plt\n",
    "%matplotlib inline\n",
    "\n",
    "patient_data_path = '/home/tstrebel/repos/umich-mads-capstone-project/assets/rsna-patient-details.csv'"
   ]
  },
  {
   "cell_type": "code",
   "execution_count": null,
   "id": "c15ea2c2-fe0c-4e94-b5f2-46f8e948496b",
   "metadata": {},
   "outputs": [],
   "source": [
    "df = pd.read_csv(patient_data_path)\n",
    "\n",
    "df['age_group'] = pd.cut(df.patient_age, \n",
    "                                  [0, 1, 5, 12, 18, 44, 64, 79, np.inf], \n",
    "                                  labels=['Infant 1 year-old', \n",
    "                                          'preschool (2-5)', \n",
    "                                          'Child (6-12)', \n",
    "                                          'Adolescent (13-18)', \n",
    "                                          'Adult (19-44)', \n",
    "                                          'Middle age (45-64)', \n",
    "                                          'Aged (65-79)', 'Aged 80+'])\n",
    "df['view_position'] = df['view_position'].map({'AP':'Anterior/Posterior', 'PA':'Posterior/Anterior'})\n",
    "\n",
    "df.head()"
   ]
  },
  {
   "cell_type": "code",
   "execution_count": null,
   "id": "6b0a7138-fc13-4864-a18d-4719f4b874d6",
   "metadata": {},
   "outputs": [],
   "source": [
    "def get_y_test_y_score(proba_col_name=None) -> None:\n",
    "    if not proba_col_name:\n",
    "        raise Exception('Must specify probal_col_name!')\n",
    "    df_test = df[df['split']=='test']\n",
    "    return df_test.target, df_test[proba_col_name]\n",
    "\n",
    "def print_metrics(ytest, y_score, model_name):\n",
    "    # Threshold tuning\n",
    "    precision, recall, thresh = metrics.precision_recall_curve(y_test, y_score)\n",
    "    fscore = (2 * precision * recall) / (precision + recall)\n",
    "    ix = np.argmax(fscore)\n",
    "    y_pred = (y_score >= thresh[ix]).astype(int)\n",
    "\n",
    "    precision = metrics.precision_score(y_test, y_pred)\n",
    "    recall = metrics.recall_score(y_test, y_pred)\n",
    "    f1 = metrics.f1_score(y_test, y_pred)\n",
    "    roc_auc = metrics.roc_auc_score(y_test, y_score)\n",
    "    avg_precision = metrics.average_precision_score(y_test, y_score)\n",
    "    \n",
    "    print('Model:\\t\\t{}'.format(model_name))\n",
    "    print('Best Threshold:\\t\\t{:.2f}'.format(thresh[ix]))\n",
    "    print('Precision:\\t\\t{:.2f}'.format(precision))\n",
    "    print('Recall:\\t\\t\\t{:.2f}'.format(recall))\n",
    "    print('F1:\\t\\t\\t{:.2f}'.format(f1))\n",
    "    print('ROC AUC:\\t\\t{:.2f}'.format(roc_auc))\n",
    "    print('Average Precision:\\t{:.2f}'.format(avg_precision))"
   ]
  },
  {
   "cell_type": "code",
   "execution_count": null,
   "id": "3f720ef7-dc44-4170-854e-10f16b438e70",
   "metadata": {},
   "outputs": [],
   "source": [
    "y_test, y_score = get_y_test_y_score(proba_col_name='rsna_baseline_proba')\n",
    "print_metrics(y_test, y_score, model_name='Path A')"
   ]
  },
  {
   "cell_type": "code",
   "execution_count": null,
   "id": "17419fc1-6c38-4163-b420-ce0354b30e6b",
   "metadata": {},
   "outputs": [],
   "source": [
    "y_test, y_score = get_y_test_y_score(proba_col_name='rsna_densenet_proba')\n",
    "print_metrics(y_test, y_score, model_name='Path B')"
   ]
  },
  {
   "cell_type": "code",
   "execution_count": null,
   "id": "5a762f3b-6ddb-4536-9b4c-3dcc06329352",
   "metadata": {},
   "outputs": [],
   "source": [
    "def plot_aurocs(save_path:str=None) -> None:\n",
    "    dpi = 150\n",
    "    figsize = np.array([6.4, 4.8]) * (dpi/100)\n",
    "    fig = plt.figure(dpi=dpi, figsize=figsize)\n",
    "    ax = fig.gca()\n",
    "    \n",
    "    ax.plot([0, 1], [0, 1], '--', color='red', alpha=.5)\n",
    "    \n",
    "    for label, col, color in [('Path A:', 'rsna_baseline_proba', '#636362'), \n",
    "                              ('Path B:', 'rsna_densenet_proba', '#0f4999'),\n",
    "                             ]:\n",
    "        y_test, y_score = get_y_test_y_score(proba_col_name=col)\n",
    "        tpr, fpr, _ = metrics.roc_curve(y_test, y_score)\n",
    "        roc_auc = metrics.roc_auc_score(y_test, y_score)\n",
    "        ax.plot(tpr, fpr, alpha=.75, color=color, label='{} AUC ({:.2f})'.format(label, roc_auc))\n",
    "        \n",
    "    ax.set_xlim(0, 1)\n",
    "    ax.set_ylim(0, 1)\n",
    "    ax.spines['top'].set_visible(False)\n",
    "    ax.spines['right'].set_visible(False)\n",
    "    ax.legend(loc='lower right')\n",
    "    ax.set_xlabel('1-Specificity\\n(False-positive Rate)', labelpad=7)\n",
    "    ax.set_ylabel('Sensitivity\\n(True-positive Rate)', labelpad=7)\n",
    "    fig.tight_layout()\n",
    "    \n",
    "    if save_path:\n",
    "        plt.savefig(save_path, format='png')\n",
    "        \n",
    "    plt.show()\n",
    "    \n",
    "plot_aurocs('/home/tstrebel/repos/umich-mads-capstone-project/figures/rsna-aurocs.png')"
   ]
  },
  {
   "cell_type": "code",
   "execution_count": null,
   "id": "f3be8784-ba1d-4bd8-8dc8-7fd37cd24d1a",
   "metadata": {},
   "outputs": [],
   "source": [
    "def plot_auprcs(save_path:str=None) -> None:\n",
    "    dpi = 150\n",
    "    figsize = np.array([6.4, 4.8]) * (dpi/100)\n",
    "    fig = plt.figure(dpi=dpi, figsize=figsize)\n",
    "    ax = fig.gca()\n",
    "    \n",
    "    for label, col, color in [('Path A:', 'rsna_baseline_proba', '#636362'), \n",
    "                              ('Path B:', 'rsna_densenet_proba', '#0f4999'),\n",
    "                             ]:\n",
    "        y_test, y_score = get_y_test_y_score(proba_col_name=col)\n",
    "        precision, recall, _ = metrics.precision_recall_curve(y_test, y_score)\n",
    "        ap = metrics.average_precision_score(y_test, y_score)\n",
    "        ax.plot(recall, precision, alpha=.75, color=color, label='{} Avg. Precision=({:.2f})'.format(label, ap))\n",
    "        \n",
    "    ax.set_xlim(0, 1)\n",
    "    ax.set_ylim(0, 1)\n",
    "    ax.spines['top'].set_visible(False)\n",
    "    ax.spines['right'].set_visible(False)\n",
    "    ax.legend(loc='lower right')\n",
    "    ax.set_xlabel('Recall', labelpad=7)\n",
    "    ax.set_ylabel('Precision', labelpad=7)\n",
    "    fig.tight_layout()\n",
    "    \n",
    "    if save_path:\n",
    "        plt.savefig(save_path, format='png')\n",
    "        \n",
    "    plt.show()\n",
    "    \n",
    "plot_auprcs('/home/tstrebel/repos/umich-mads-capstone-project/figures/rsna-auprcs.png')"
   ]
  }
 ],
 "metadata": {
  "kernelspec": {
   "display_name": "Python 3 (ipykernel)",
   "language": "python",
   "name": "python3"
  },
  "language_info": {
   "codemirror_mode": {
    "name": "ipython",
    "version": 3
   },
   "file_extension": ".py",
   "mimetype": "text/x-python",
   "name": "python",
   "nbconvert_exporter": "python",
   "pygments_lexer": "ipython3",
   "version": "3.9.7"
  }
 },
 "nbformat": 4,
 "nbformat_minor": 5
}
