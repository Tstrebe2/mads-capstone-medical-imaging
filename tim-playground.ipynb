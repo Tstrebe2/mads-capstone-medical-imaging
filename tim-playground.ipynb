{
  "nbformat": 4,
  "nbformat_minor": 0,
  "metadata": {
    "colab": {
      "provenance": [],
      "machine_shape": "hm",
      "authorship_tag": "ABX9TyPgwVWe61lyFTu1+4u2Kb4B",
      "include_colab_link": true
    },
    "kernelspec": {
      "name": "python3",
      "display_name": "Python 3"
    },
    "language_info": {
      "name": "python"
    },
    "accelerator": "GPU",
    "gpuClass": "premium"
  },
  "cells": [
    {
      "cell_type": "markdown",
      "metadata": {
        "id": "view-in-github",
        "colab_type": "text"
      },
      "source": [
        "<a href=\"https://colab.research.google.com/github/Tstrebe2/umich-mads-capstone-project/blob/tim-branch/tim-playground.ipynb\" target=\"_parent\"><img src=\"https://colab.research.google.com/assets/colab-badge.svg\" alt=\"Open In Colab\"/></a>"
      ]
    },
    {
      "cell_type": "code",
      "source": [
        "import sys\n",
        "\n",
        "!{sys.executable} -m pip install pydicom -q"
      ],
      "metadata": {
        "id": "JduPGuQNzp7-",
        "outputId": "9bb9a9b3-dbd1-446d-9a0d-91b5c5ee6495",
        "colab": {
          "base_uri": "https://localhost:8080/"
        }
      },
      "execution_count": 1,
      "outputs": [
        {
          "output_type": "stream",
          "name": "stdout",
          "text": [
            "\u001b[?25l\r\u001b[K     |▏                               | 10 kB 31.3 MB/s eta 0:00:01\r\u001b[K     |▍                               | 20 kB 5.7 MB/s eta 0:00:01\r\u001b[K     |▌                               | 30 kB 8.2 MB/s eta 0:00:01\r\u001b[K     |▊                               | 40 kB 3.9 MB/s eta 0:00:01\r\u001b[K     |▉                               | 51 kB 4.1 MB/s eta 0:00:01\r\u001b[K     |█                               | 61 kB 4.8 MB/s eta 0:00:01\r\u001b[K     |█▏                              | 71 kB 5.0 MB/s eta 0:00:01\r\u001b[K     |█▍                              | 81 kB 5.1 MB/s eta 0:00:01\r\u001b[K     |█▌                              | 92 kB 5.7 MB/s eta 0:00:01\r\u001b[K     |█▊                              | 102 kB 4.8 MB/s eta 0:00:01\r\u001b[K     |█▉                              | 112 kB 4.8 MB/s eta 0:00:01\r\u001b[K     |██                              | 122 kB 4.8 MB/s eta 0:00:01\r\u001b[K     |██▏                             | 133 kB 4.8 MB/s eta 0:00:01\r\u001b[K     |██▍                             | 143 kB 4.8 MB/s eta 0:00:01\r\u001b[K     |██▌                             | 153 kB 4.8 MB/s eta 0:00:01\r\u001b[K     |██▊                             | 163 kB 4.8 MB/s eta 0:00:01\r\u001b[K     |██▉                             | 174 kB 4.8 MB/s eta 0:00:01\r\u001b[K     |███                             | 184 kB 4.8 MB/s eta 0:00:01\r\u001b[K     |███▏                            | 194 kB 4.8 MB/s eta 0:00:01\r\u001b[K     |███▍                            | 204 kB 4.8 MB/s eta 0:00:01\r\u001b[K     |███▌                            | 215 kB 4.8 MB/s eta 0:00:01\r\u001b[K     |███▊                            | 225 kB 4.8 MB/s eta 0:00:01\r\u001b[K     |███▉                            | 235 kB 4.8 MB/s eta 0:00:01\r\u001b[K     |████                            | 245 kB 4.8 MB/s eta 0:00:01\r\u001b[K     |████▏                           | 256 kB 4.8 MB/s eta 0:00:01\r\u001b[K     |████▍                           | 266 kB 4.8 MB/s eta 0:00:01\r\u001b[K     |████▌                           | 276 kB 4.8 MB/s eta 0:00:01\r\u001b[K     |████▊                           | 286 kB 4.8 MB/s eta 0:00:01\r\u001b[K     |████▉                           | 296 kB 4.8 MB/s eta 0:00:01\r\u001b[K     |█████                           | 307 kB 4.8 MB/s eta 0:00:01\r\u001b[K     |█████▏                          | 317 kB 4.8 MB/s eta 0:00:01\r\u001b[K     |█████▍                          | 327 kB 4.8 MB/s eta 0:00:01\r\u001b[K     |█████▌                          | 337 kB 4.8 MB/s eta 0:00:01\r\u001b[K     |█████▊                          | 348 kB 4.8 MB/s eta 0:00:01\r\u001b[K     |█████▉                          | 358 kB 4.8 MB/s eta 0:00:01\r\u001b[K     |██████                          | 368 kB 4.8 MB/s eta 0:00:01\r\u001b[K     |██████▏                         | 378 kB 4.8 MB/s eta 0:00:01\r\u001b[K     |██████▍                         | 389 kB 4.8 MB/s eta 0:00:01\r\u001b[K     |██████▌                         | 399 kB 4.8 MB/s eta 0:00:01\r\u001b[K     |██████▊                         | 409 kB 4.8 MB/s eta 0:00:01\r\u001b[K     |██████▉                         | 419 kB 4.8 MB/s eta 0:00:01\r\u001b[K     |███████                         | 430 kB 4.8 MB/s eta 0:00:01\r\u001b[K     |███████▏                        | 440 kB 4.8 MB/s eta 0:00:01\r\u001b[K     |███████▍                        | 450 kB 4.8 MB/s eta 0:00:01\r\u001b[K     |███████▌                        | 460 kB 4.8 MB/s eta 0:00:01\r\u001b[K     |███████▊                        | 471 kB 4.8 MB/s eta 0:00:01\r\u001b[K     |███████▉                        | 481 kB 4.8 MB/s eta 0:00:01\r\u001b[K     |████████                        | 491 kB 4.8 MB/s eta 0:00:01\r\u001b[K     |████████▏                       | 501 kB 4.8 MB/s eta 0:00:01\r\u001b[K     |████████▍                       | 512 kB 4.8 MB/s eta 0:00:01\r\u001b[K     |████████▌                       | 522 kB 4.8 MB/s eta 0:00:01\r\u001b[K     |████████▊                       | 532 kB 4.8 MB/s eta 0:00:01\r\u001b[K     |████████▉                       | 542 kB 4.8 MB/s eta 0:00:01\r\u001b[K     |█████████                       | 552 kB 4.8 MB/s eta 0:00:01\r\u001b[K     |█████████▏                      | 563 kB 4.8 MB/s eta 0:00:01\r\u001b[K     |█████████▍                      | 573 kB 4.8 MB/s eta 0:00:01\r\u001b[K     |█████████▌                      | 583 kB 4.8 MB/s eta 0:00:01\r\u001b[K     |█████████▊                      | 593 kB 4.8 MB/s eta 0:00:01\r\u001b[K     |█████████▉                      | 604 kB 4.8 MB/s eta 0:00:01\r\u001b[K     |██████████                      | 614 kB 4.8 MB/s eta 0:00:01\r\u001b[K     |██████████▏                     | 624 kB 4.8 MB/s eta 0:00:01\r\u001b[K     |██████████▍                     | 634 kB 4.8 MB/s eta 0:00:01\r\u001b[K     |██████████▌                     | 645 kB 4.8 MB/s eta 0:00:01\r\u001b[K     |██████████▊                     | 655 kB 4.8 MB/s eta 0:00:01\r\u001b[K     |██████████▉                     | 665 kB 4.8 MB/s eta 0:00:01\r\u001b[K     |███████████                     | 675 kB 4.8 MB/s eta 0:00:01\r\u001b[K     |███████████▏                    | 686 kB 4.8 MB/s eta 0:00:01\r\u001b[K     |███████████▍                    | 696 kB 4.8 MB/s eta 0:00:01\r\u001b[K     |███████████▌                    | 706 kB 4.8 MB/s eta 0:00:01\r\u001b[K     |███████████▊                    | 716 kB 4.8 MB/s eta 0:00:01\r\u001b[K     |███████████▉                    | 727 kB 4.8 MB/s eta 0:00:01\r\u001b[K     |████████████                    | 737 kB 4.8 MB/s eta 0:00:01\r\u001b[K     |████████████▏                   | 747 kB 4.8 MB/s eta 0:00:01\r\u001b[K     |████████████▍                   | 757 kB 4.8 MB/s eta 0:00:01\r\u001b[K     |████████████▌                   | 768 kB 4.8 MB/s eta 0:00:01\r\u001b[K     |████████████▊                   | 778 kB 4.8 MB/s eta 0:00:01\r\u001b[K     |████████████▉                   | 788 kB 4.8 MB/s eta 0:00:01\r\u001b[K     |█████████████                   | 798 kB 4.8 MB/s eta 0:00:01\r\u001b[K     |█████████████▏                  | 808 kB 4.8 MB/s eta 0:00:01\r\u001b[K     |█████████████▍                  | 819 kB 4.8 MB/s eta 0:00:01\r\u001b[K     |█████████████▌                  | 829 kB 4.8 MB/s eta 0:00:01\r\u001b[K     |█████████████▊                  | 839 kB 4.8 MB/s eta 0:00:01\r\u001b[K     |█████████████▉                  | 849 kB 4.8 MB/s eta 0:00:01\r\u001b[K     |██████████████                  | 860 kB 4.8 MB/s eta 0:00:01\r\u001b[K     |██████████████▏                 | 870 kB 4.8 MB/s eta 0:00:01\r\u001b[K     |██████████████▍                 | 880 kB 4.8 MB/s eta 0:00:01\r\u001b[K     |██████████████▌                 | 890 kB 4.8 MB/s eta 0:00:01\r\u001b[K     |██████████████▊                 | 901 kB 4.8 MB/s eta 0:00:01\r\u001b[K     |██████████████▉                 | 911 kB 4.8 MB/s eta 0:00:01\r\u001b[K     |███████████████                 | 921 kB 4.8 MB/s eta 0:00:01\r\u001b[K     |███████████████▏                | 931 kB 4.8 MB/s eta 0:00:01\r\u001b[K     |███████████████▍                | 942 kB 4.8 MB/s eta 0:00:01\r\u001b[K     |███████████████▌                | 952 kB 4.8 MB/s eta 0:00:01\r\u001b[K     |███████████████▊                | 962 kB 4.8 MB/s eta 0:00:01\r\u001b[K     |███████████████▉                | 972 kB 4.8 MB/s eta 0:00:01\r\u001b[K     |████████████████                | 983 kB 4.8 MB/s eta 0:00:01\r\u001b[K     |████████████████▏               | 993 kB 4.8 MB/s eta 0:00:01\r\u001b[K     |████████████████▍               | 1.0 MB 4.8 MB/s eta 0:00:01\r\u001b[K     |████████████████▌               | 1.0 MB 4.8 MB/s eta 0:00:01\r\u001b[K     |████████████████▊               | 1.0 MB 4.8 MB/s eta 0:00:01\r\u001b[K     |████████████████▉               | 1.0 MB 4.8 MB/s eta 0:00:01\r\u001b[K     |█████████████████               | 1.0 MB 4.8 MB/s eta 0:00:01\r\u001b[K     |█████████████████▏              | 1.1 MB 4.8 MB/s eta 0:00:01\r\u001b[K     |█████████████████▍              | 1.1 MB 4.8 MB/s eta 0:00:01\r\u001b[K     |█████████████████▌              | 1.1 MB 4.8 MB/s eta 0:00:01\r\u001b[K     |█████████████████▊              | 1.1 MB 4.8 MB/s eta 0:00:01\r\u001b[K     |█████████████████▉              | 1.1 MB 4.8 MB/s eta 0:00:01\r\u001b[K     |██████████████████              | 1.1 MB 4.8 MB/s eta 0:00:01\r\u001b[K     |██████████████████▏             | 1.1 MB 4.8 MB/s eta 0:00:01\r\u001b[K     |██████████████████▍             | 1.1 MB 4.8 MB/s eta 0:00:01\r\u001b[K     |██████████████████▌             | 1.1 MB 4.8 MB/s eta 0:00:01\r\u001b[K     |██████████████████▊             | 1.1 MB 4.8 MB/s eta 0:00:01\r\u001b[K     |██████████████████▉             | 1.2 MB 4.8 MB/s eta 0:00:01\r\u001b[K     |███████████████████             | 1.2 MB 4.8 MB/s eta 0:00:01\r\u001b[K     |███████████████████▏            | 1.2 MB 4.8 MB/s eta 0:00:01\r\u001b[K     |███████████████████▍            | 1.2 MB 4.8 MB/s eta 0:00:01\r\u001b[K     |███████████████████▌            | 1.2 MB 4.8 MB/s eta 0:00:01\r\u001b[K     |███████████████████▊            | 1.2 MB 4.8 MB/s eta 0:00:01\r\u001b[K     |███████████████████▉            | 1.2 MB 4.8 MB/s eta 0:00:01\r\u001b[K     |████████████████████            | 1.2 MB 4.8 MB/s eta 0:00:01\r\u001b[K     |████████████████████▏           | 1.2 MB 4.8 MB/s eta 0:00:01\r\u001b[K     |████████████████████▍           | 1.2 MB 4.8 MB/s eta 0:00:01\r\u001b[K     |████████████████████▌           | 1.3 MB 4.8 MB/s eta 0:00:01\r\u001b[K     |████████████████████▊           | 1.3 MB 4.8 MB/s eta 0:00:01\r\u001b[K     |████████████████████▉           | 1.3 MB 4.8 MB/s eta 0:00:01\r\u001b[K     |█████████████████████           | 1.3 MB 4.8 MB/s eta 0:00:01\r\u001b[K     |█████████████████████▏          | 1.3 MB 4.8 MB/s eta 0:00:01\r\u001b[K     |█████████████████████▍          | 1.3 MB 4.8 MB/s eta 0:00:01\r\u001b[K     |█████████████████████▌          | 1.3 MB 4.8 MB/s eta 0:00:01\r\u001b[K     |█████████████████████▊          | 1.3 MB 4.8 MB/s eta 0:00:01\r\u001b[K     |█████████████████████▉          | 1.3 MB 4.8 MB/s eta 0:00:01\r\u001b[K     |██████████████████████          | 1.4 MB 4.8 MB/s eta 0:00:01\r\u001b[K     |██████████████████████▏         | 1.4 MB 4.8 MB/s eta 0:00:01\r\u001b[K     |██████████████████████▍         | 1.4 MB 4.8 MB/s eta 0:00:01\r\u001b[K     |██████████████████████▌         | 1.4 MB 4.8 MB/s eta 0:00:01\r\u001b[K     |██████████████████████▊         | 1.4 MB 4.8 MB/s eta 0:00:01\r\u001b[K     |██████████████████████▉         | 1.4 MB 4.8 MB/s eta 0:00:01\r\u001b[K     |███████████████████████         | 1.4 MB 4.8 MB/s eta 0:00:01\r\u001b[K     |███████████████████████▏        | 1.4 MB 4.8 MB/s eta 0:00:01\r\u001b[K     |███████████████████████▍        | 1.4 MB 4.8 MB/s eta 0:00:01\r\u001b[K     |███████████████████████▌        | 1.4 MB 4.8 MB/s eta 0:00:01\r\u001b[K     |███████████████████████▊        | 1.5 MB 4.8 MB/s eta 0:00:01\r\u001b[K     |███████████████████████▉        | 1.5 MB 4.8 MB/s eta 0:00:01\r\u001b[K     |████████████████████████        | 1.5 MB 4.8 MB/s eta 0:00:01\r\u001b[K     |████████████████████████▏       | 1.5 MB 4.8 MB/s eta 0:00:01\r\u001b[K     |████████████████████████▍       | 1.5 MB 4.8 MB/s eta 0:00:01\r\u001b[K     |████████████████████████▌       | 1.5 MB 4.8 MB/s eta 0:00:01\r\u001b[K     |████████████████████████▊       | 1.5 MB 4.8 MB/s eta 0:00:01\r\u001b[K     |████████████████████████▉       | 1.5 MB 4.8 MB/s eta 0:00:01\r\u001b[K     |█████████████████████████       | 1.5 MB 4.8 MB/s eta 0:00:01\r\u001b[K     |█████████████████████████▏      | 1.5 MB 4.8 MB/s eta 0:00:01\r\u001b[K     |█████████████████████████▍      | 1.6 MB 4.8 MB/s eta 0:00:01\r\u001b[K     |█████████████████████████▌      | 1.6 MB 4.8 MB/s eta 0:00:01\r\u001b[K     |█████████████████████████▊      | 1.6 MB 4.8 MB/s eta 0:00:01\r\u001b[K     |█████████████████████████▉      | 1.6 MB 4.8 MB/s eta 0:00:01\r\u001b[K     |██████████████████████████      | 1.6 MB 4.8 MB/s eta 0:00:01\r\u001b[K     |██████████████████████████▏     | 1.6 MB 4.8 MB/s eta 0:00:01\r\u001b[K     |██████████████████████████▍     | 1.6 MB 4.8 MB/s eta 0:00:01\r\u001b[K     |██████████████████████████▌     | 1.6 MB 4.8 MB/s eta 0:00:01\r\u001b[K     |██████████████████████████▊     | 1.6 MB 4.8 MB/s eta 0:00:01\r\u001b[K     |██████████████████████████▉     | 1.6 MB 4.8 MB/s eta 0:00:01\r\u001b[K     |███████████████████████████     | 1.7 MB 4.8 MB/s eta 0:00:01\r\u001b[K     |███████████████████████████▏    | 1.7 MB 4.8 MB/s eta 0:00:01\r\u001b[K     |███████████████████████████▍    | 1.7 MB 4.8 MB/s eta 0:00:01\r\u001b[K     |███████████████████████████▌    | 1.7 MB 4.8 MB/s eta 0:00:01\r\u001b[K     |███████████████████████████▊    | 1.7 MB 4.8 MB/s eta 0:00:01\r\u001b[K     |███████████████████████████▉    | 1.7 MB 4.8 MB/s eta 0:00:01\r\u001b[K     |████████████████████████████    | 1.7 MB 4.8 MB/s eta 0:00:01\r\u001b[K     |████████████████████████████▏   | 1.7 MB 4.8 MB/s eta 0:00:01\r\u001b[K     |████████████████████████████▍   | 1.7 MB 4.8 MB/s eta 0:00:01\r\u001b[K     |████████████████████████████▌   | 1.8 MB 4.8 MB/s eta 0:00:01\r\u001b[K     |████████████████████████████▊   | 1.8 MB 4.8 MB/s eta 0:00:01\r\u001b[K     |████████████████████████████▉   | 1.8 MB 4.8 MB/s eta 0:00:01\r\u001b[K     |█████████████████████████████   | 1.8 MB 4.8 MB/s eta 0:00:01\r\u001b[K     |█████████████████████████████▏  | 1.8 MB 4.8 MB/s eta 0:00:01\r\u001b[K     |█████████████████████████████▍  | 1.8 MB 4.8 MB/s eta 0:00:01\r\u001b[K     |█████████████████████████████▌  | 1.8 MB 4.8 MB/s eta 0:00:01\r\u001b[K     |█████████████████████████████▊  | 1.8 MB 4.8 MB/s eta 0:00:01\r\u001b[K     |█████████████████████████████▉  | 1.8 MB 4.8 MB/s eta 0:00:01\r\u001b[K     |██████████████████████████████  | 1.8 MB 4.8 MB/s eta 0:00:01\r\u001b[K     |██████████████████████████████▏ | 1.9 MB 4.8 MB/s eta 0:00:01\r\u001b[K     |██████████████████████████████▍ | 1.9 MB 4.8 MB/s eta 0:00:01\r\u001b[K     |██████████████████████████████▌ | 1.9 MB 4.8 MB/s eta 0:00:01\r\u001b[K     |██████████████████████████████▊ | 1.9 MB 4.8 MB/s eta 0:00:01\r\u001b[K     |██████████████████████████████▉ | 1.9 MB 4.8 MB/s eta 0:00:01\r\u001b[K     |███████████████████████████████ | 1.9 MB 4.8 MB/s eta 0:00:01\r\u001b[K     |███████████████████████████████▏| 1.9 MB 4.8 MB/s eta 0:00:01\r\u001b[K     |███████████████████████████████▍| 1.9 MB 4.8 MB/s eta 0:00:01\r\u001b[K     |███████████████████████████████▌| 1.9 MB 4.8 MB/s eta 0:00:01\r\u001b[K     |███████████████████████████████▊| 1.9 MB 4.8 MB/s eta 0:00:01\r\u001b[K     |███████████████████████████████▉| 2.0 MB 4.8 MB/s eta 0:00:01\r\u001b[K     |████████████████████████████████| 2.0 MB 4.8 MB/s \n",
            "\u001b[?25h"
          ]
        }
      ]
    },
    {
      "cell_type": "code",
      "execution_count": 2,
      "metadata": {
        "id": "1YNe8pVY5x-R"
      },
      "outputs": [],
      "source": [
        "from google.colab import drive"
      ]
    },
    {
      "cell_type": "code",
      "source": [
        "drive.mount('/content/drive')"
      ],
      "metadata": {
        "colab": {
          "base_uri": "https://localhost:8080/"
        },
        "id": "7xSxUD5n6A4P",
        "outputId": "9e86ed86-52ec-44ba-a3ef-d31fc74e3cd6"
      },
      "execution_count": 3,
      "outputs": [
        {
          "output_type": "stream",
          "name": "stdout",
          "text": [
            "Mounted at /content/drive\n"
          ]
        }
      ]
    },
    {
      "cell_type": "code",
      "source": [
        "path = '/content/drive/MyDrive/capstone/assets/stage_2_train_images.zip'\n",
        "\n",
        "!unzip {path}"
      ],
      "metadata": {
        "id": "COAzi1-C6G5e"
      },
      "execution_count": null,
      "outputs": []
    },
    {
      "cell_type": "code",
      "source": [
        "from sklearn.metrics import classification_report\n",
        "from torch.utils.data import random_split\n",
        "from torch.utils.data import DataLoader\n",
        "from torch.utils.data import Dataset\n",
        "from torchvision.transforms import ToTensor\n",
        "from torch.optim import Adam\n",
        "from torch import nn\n",
        "import pydicom as dicom\n",
        "\n",
        "import pandas as pd\n",
        "import matplotlib.pyplot as plt\n",
        "import numpy as np\n",
        "import time\n",
        "import os"
      ],
      "metadata": {
        "id": "1lSl2uT68b-B"
      },
      "execution_count": 7,
      "outputs": []
    },
    {
      "cell_type": "code",
      "source": [
        "class CustomImageDataset(Dataset):\n",
        "  def __init__(self, annotations_file, img_dir, indices=None, transform=None, target_transform=None):\n",
        "    if indices:\n",
        "      self.img_labels = pd.read_csv(annotations_file).iloc[indices]\n",
        "    else:\n",
        "      self.img_labels = pd.read_csv(annotations_file)\n",
        "\n",
        "    self.img_dir = img_dir\n",
        "    self.transform = transform\n",
        "    self.target_transform = target_transform\n",
        "\n",
        "  def __len__(self):\n",
        "    return len(self.img_labels)\n",
        "\n",
        "  def __getitem__(self, idx):\n",
        "    img_path = ''.join([os.path.join(self.img_dir, self.img_labels.iloc[idx, 0]), '.dcm'])\n",
        "    \n",
        "    image = dicom.dcmread(os.path.join(self.img_dir, img_path))\n",
        "    image = image.pixel_array\n",
        "\n",
        "    label = self.img_labels.iloc[idx, -1]\n",
        "\n",
        "    if self.transform:\n",
        "        image = self.transform(image)\n",
        "    if self.target_transform:\n",
        "        label = self.target_transform(label)\n",
        "    return image, label\n",
        "\n",
        "  def get_classes(self):\n",
        "    return self.img_labels.iloc[:, -1].unique()\n",
        "\n",
        "  classes = property(get_classes)"
      ],
      "metadata": {
        "id": "zNLXGSDI_kCX"
      },
      "execution_count": 29,
      "outputs": []
    },
    {
      "cell_type": "code",
      "source": [
        "from sklearn.model_selection import train_test_split\n",
        "\n",
        "annotations_file = '/content/drive/MyDrive/capstone/assets/stage_2_train_labels.csv.zip'\n",
        "img_dir = '/content'\n",
        "\n",
        "label_df = pd.read_csv(annotations_file)\n",
        "\n",
        "X_train, X_test = train_test_split(label_df, test_size=.7, stratify=label_df.Target, random_state=99)\n",
        "X_train, X_val, = train_test_split(X_train, test_size=.6, stratify=X_train.Target, random_state=99)\n",
        "X_train, X_test, X_val = X_train.index.tolist(), X_test.index.tolist(), X_val.index.tolist()\n",
        "\n",
        "len(X_train), len(X_val),  len(X_test)"
      ],
      "metadata": {
        "id": "MGHvAZz_JVvY",
        "outputId": "4b8e86e3-bcf9-45f7-a2a8-f2bc0a964888",
        "colab": {
          "base_uri": "https://localhost:8080/"
        }
      },
      "execution_count": 9,
      "outputs": [
        {
          "output_type": "execute_result",
          "data": {
            "text/plain": [
              "(3627, 5441, 21159)"
            ]
          },
          "metadata": {},
          "execution_count": 9
        }
      ]
    },
    {
      "cell_type": "code",
      "source": [
        "transform = torchvision.transforms.Compose([\n",
        "    torchvision.transforms.ToTensor(),\n",
        "    torchvision.transforms.Resize((256, 256)),\n",
        "    torchvision.transforms.Normalize(0.5547, 0.1781),\n",
        "    torchvision.transforms.RandomHorizontalFlip(.1),\n",
        "    torchvision.transforms.RandomRotation(degrees=(-7, 7))\n",
        "])\n",
        "\n",
        "train_dataset = CustomImageDataset(annotations_file, img_dir, indices=X_train, transform=transform)\n",
        "val_dataset = CustomImageDataset(annotations_file, img_dir, indices=X_val, transform=transform)\n",
        "test_dataset = CustomImageDataset(annotations_file, img_dir, indices=X_test, transform=transform)\n",
        "\n",
        "train_data_loader = DataLoader(train_dataset, batch_size=32, shuffle=True)\n",
        "val_data_loader = DataLoader(val_dataset, batch_size=32)\n",
        "test_data_loader =  DataLoader(test_dataset, batch_size=32)\n",
        "\n",
        "print(len(train_data_loader.dataset)//32)\n",
        "print(len(val_data_loader.dataset)//32)\n",
        "print(len(test_data_loader.dataset)//32)"
      ],
      "metadata": {
        "id": "w1nRRSEyAAz1",
        "outputId": "08a60874-9d08-4dc9-ca10-70bae900d959",
        "colab": {
          "base_uri": "https://localhost:8080/"
        }
      },
      "execution_count": 83,
      "outputs": [
        {
          "output_type": "stream",
          "name": "stdout",
          "text": [
            "113\n",
            "170\n",
            "661\n"
          ]
        }
      ]
    },
    {
      "cell_type": "code",
      "source": [
        "import torchvision\n",
        "import torch\n",
        "\n",
        "class LeNet(torch.nn.Module):\n",
        "  def __init__(self, num_channels, classes):\n",
        "    super(LeNet, self).__init__()\n",
        "\n",
        "    self.conv1 = torch.nn.Conv2d(in_channels=num_channels, out_channels=20, kernel_size=20)\n",
        "    self.relu1 = torch.nn.ReLU()\n",
        "    self.maxpool1 = torch.nn.MaxPool2d(kernel_size=(2, 2), stride=(2, 2))\n",
        "\n",
        "    self.conv2 = torch.nn.Conv2d(in_channels=20, out_channels=50, kernel_size=(5, 5))\n",
        "    self.relu2 = torch.nn.ReLU()\n",
        "    self.maxpool2 = torch.nn.MaxPool2d(kernel_size=(2, 2), stride=(2, 2))\n",
        "    \n",
        "    self.fc1 = torch.nn.Linear(in_features=162450, out_features=500)\n",
        "    self.relu3 = torch.nn.ReLU()\n",
        "    \n",
        "    self.fc2 = torch.nn.Linear(in_features=500, out_features=classes)\n",
        "    self.logSoftmax = torch.nn.LogSoftmax(dim=1)\n",
        "\n",
        "  def forward(self, x):\n",
        "\n",
        "    x = self.conv1(x)\n",
        "    x = self.relu1(x)\n",
        "    x = self.maxpool1(x)\n",
        "\n",
        "    x = self.conv2(x)\n",
        "    x = self.relu2(x)\n",
        "    x = self.maxpool2(x)\n",
        "\n",
        "    x = torch.flatten(x, 1)\n",
        "    x = self.fc1(x)\n",
        "    x = self.relu3(x)\n",
        "\n",
        "    x = self.fc2(x)\n",
        "    output = self.logSoftmax(x)\n",
        "\n",
        "    return output\n",
        "\n",
        "init_learning_rate = 1e-3\n",
        "batch_size = 64\n",
        "epochs = 10\n",
        "\n",
        "train_split = .25\n",
        "val_split = 1-train_split\n",
        "\n",
        "device = torch.device(\"cuda\" if torch.cuda.is_available() else \"cpu\")\n",
        "\n",
        "model = LeNet(num_channels=1, classes=len(train_data_loader.dataset.classes)).to(device)\n",
        "\n",
        "opt = Adam(model.parameters(), lr=init_learning_rate)\n",
        "loss_fn = nn.NLLLoss()"
      ],
      "metadata": {
        "id": "P-jtkmQSHgil"
      },
      "execution_count": 93,
      "outputs": []
    },
    {
      "cell_type": "code",
      "source": [
        "for e in range(epochs):\n",
        "  model.train()\n",
        "\n",
        "  total_training_loss = 0\n",
        "  total_val_loss = 0\n",
        "\n",
        "  train_correct = 0\n",
        "  val_correct = 0\n",
        "\n",
        "  for x, y in train_data_loader:\n",
        "    x, y = x.to(device), y.to(device)\n",
        "\n",
        "    pred = model(x)\n",
        "    loss = loss_fn(pred, y)\n",
        "\n",
        "    opt.zero_grad()\n",
        "    loss.backward()\n",
        "    opt.step()\n",
        "\n",
        "    total_training_loss += loss\n",
        "    train_correct += (pred.argmax(1) == y).type(torch.float).sum().item()"
      ],
      "metadata": {
        "id": "GJlwhkjJjpX_"
      },
      "execution_count": 96,
      "outputs": []
    },
    {
      "cell_type": "code",
      "source": [
        "print('Total training loss:', total_training_loss.detach())\n",
        "print('Train correct:', train_correct)"
      ],
      "metadata": {
        "id": "dXyq89WH2wNG",
        "outputId": "fd952558-9f8f-41e5-fd5d-d3d05dff6f6a",
        "colab": {
          "base_uri": "https://localhost:8080/"
        }
      },
      "execution_count": 100,
      "outputs": [
        {
          "output_type": "stream",
          "name": "stdout",
          "text": [
            "Total training loss: tensor(118.8102, device='cuda:0')\n",
            "Train correct: 2529.0\n"
          ]
        }
      ]
    },
    {
      "cell_type": "code",
      "source": [
        "with torch.no_grad():\n",
        "  model.eval()\n",
        "\n",
        "  for (x, y) in val_data_loader:\n",
        "    (x, y) = (x.to(device), y.to(device))\n",
        "    pred = model(x)\n",
        "    total_val_loss += loss_fn(pred, y)\n",
        "    val_correct += (pred.argmax(1) == y).type(torch.float).sum().item()"
      ],
      "metadata": {
        "id": "pOEEfNxb2Jj5"
      },
      "execution_count": 97,
      "outputs": []
    },
    {
      "cell_type": "code",
      "source": [
        "print('Val training loss:', total_val_loss.detach())\n",
        "print('Val correct:', val_correct)"
      ],
      "metadata": {
        "id": "zqe-vlcF3Ah7",
        "outputId": "b5896476-9138-4fc0-c2d5-b47e6710ccc0",
        "colab": {
          "base_uri": "https://localhost:8080/"
        }
      },
      "execution_count": 102,
      "outputs": [
        {
          "output_type": "stream",
          "name": "stdout",
          "text": [
            "Val training loss: tensor(94.5975, device='cuda:0')\n",
            "Val correct: 3843.0\n"
          ]
        }
      ]
    },
    {
      "cell_type": "code",
      "source": [
        "with torch.no_grad():\n",
        "  model.eval()\n",
        "\n",
        "  for (x, y) in val_data_loader:\n",
        "    (x, y) = (x.to(device), y.to(device))\n",
        "    pred = model(x)\n",
        "    print(pred.argmax(1),'\\n', y)\n",
        "    break\n",
        "    total_val_loss += loss_fn(pred, y)\n",
        "    val_correct += (pred.argmax(1) == y).type(torch.float).sum().item()"
      ],
      "metadata": {
        "id": "y_y8zegU3UP6",
        "outputId": "0e97596a-6e61-489d-bd5f-e278a6b75020",
        "colab": {
          "base_uri": "https://localhost:8080/"
        }
      },
      "execution_count": 110,
      "outputs": [
        {
          "output_type": "stream",
          "name": "stdout",
          "text": [
            "tensor([0, 0, 0, 1, 0, 0, 0, 0, 0, 0, 0, 0, 0, 0, 0, 0, 0, 0, 0, 0, 0, 1, 0, 0,\n",
            "        0, 0, 0, 0, 0, 0, 0, 1], device='cuda:0') \n",
            " tensor([0, 0, 0, 1, 0, 0, 0, 0, 0, 0, 0, 0, 0, 0, 0, 0, 0, 0, 0, 0, 0, 1, 0, 1,\n",
            "        0, 0, 0, 0, 0, 0, 0, 0], device='cuda:0')\n"
          ]
        }
      ]
    }
  ]
}