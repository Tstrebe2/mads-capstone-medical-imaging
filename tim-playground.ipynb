{
  "nbformat": 4,
  "nbformat_minor": 0,
  "metadata": {
    "colab": {
      "provenance": [],
      "authorship_tag": "ABX9TyNGAZ1evgRHn8RyWM+5aoxi",
      "include_colab_link": true
    },
    "kernelspec": {
      "name": "python3",
      "display_name": "Python 3"
    },
    "language_info": {
      "name": "python"
    }
  },
  "cells": [
    {
      "cell_type": "markdown",
      "metadata": {
        "id": "view-in-github",
        "colab_type": "text"
      },
      "source": [
        "<a href=\"https://colab.research.google.com/github/Tstrebe2/umich-mads-capstone-project/blob/tim-branch/tim-playground.ipynb\" target=\"_parent\"><img src=\"https://colab.research.google.com/assets/colab-badge.svg\" alt=\"Open In Colab\"/></a>"
      ]
    },
    {
      "cell_type": "code",
      "source": [
        "import sys\n",
        "\n",
        "!{sys.executable} -m pip install pydicom -q"
      ],
      "metadata": {
        "id": "JduPGuQNzp7-",
        "outputId": "2777edc1-f7d2-4104-ab5c-d166bda22e6d",
        "colab": {
          "base_uri": "https://localhost:8080/"
        }
      },
      "execution_count": 6,
      "outputs": [
        {
          "output_type": "stream",
          "name": "stdout",
          "text": [
            "\u001b[?25l\r\u001b[K     |▏                               | 10 kB 19.6 MB/s eta 0:00:01\r\u001b[K     |▍                               | 20 kB 6.2 MB/s eta 0:00:01\r\u001b[K     |▌                               | 30 kB 8.5 MB/s eta 0:00:01\r\u001b[K     |▊                               | 40 kB 3.3 MB/s eta 0:00:01\r\u001b[K     |▉                               | 51 kB 3.5 MB/s eta 0:00:01\r\u001b[K     |█                               | 61 kB 4.1 MB/s eta 0:00:01\r\u001b[K     |█▏                              | 71 kB 4.4 MB/s eta 0:00:01\r\u001b[K     |█▍                              | 81 kB 4.8 MB/s eta 0:00:01\r\u001b[K     |█▌                              | 92 kB 5.3 MB/s eta 0:00:01\r\u001b[K     |█▊                              | 102 kB 4.2 MB/s eta 0:00:01\r\u001b[K     |█▉                              | 112 kB 4.2 MB/s eta 0:00:01\r\u001b[K     |██                              | 122 kB 4.2 MB/s eta 0:00:01\r\u001b[K     |██▏                             | 133 kB 4.2 MB/s eta 0:00:01\r\u001b[K     |██▍                             | 143 kB 4.2 MB/s eta 0:00:01\r\u001b[K     |██▌                             | 153 kB 4.2 MB/s eta 0:00:01\r\u001b[K     |██▊                             | 163 kB 4.2 MB/s eta 0:00:01\r\u001b[K     |██▉                             | 174 kB 4.2 MB/s eta 0:00:01\r\u001b[K     |███                             | 184 kB 4.2 MB/s eta 0:00:01\r\u001b[K     |███▏                            | 194 kB 4.2 MB/s eta 0:00:01\r\u001b[K     |███▍                            | 204 kB 4.2 MB/s eta 0:00:01\r\u001b[K     |███▌                            | 215 kB 4.2 MB/s eta 0:00:01\r\u001b[K     |███▊                            | 225 kB 4.2 MB/s eta 0:00:01\r\u001b[K     |███▉                            | 235 kB 4.2 MB/s eta 0:00:01\r\u001b[K     |████                            | 245 kB 4.2 MB/s eta 0:00:01\r\u001b[K     |████▏                           | 256 kB 4.2 MB/s eta 0:00:01\r\u001b[K     |████▍                           | 266 kB 4.2 MB/s eta 0:00:01\r\u001b[K     |████▌                           | 276 kB 4.2 MB/s eta 0:00:01\r\u001b[K     |████▊                           | 286 kB 4.2 MB/s eta 0:00:01\r\u001b[K     |████▉                           | 296 kB 4.2 MB/s eta 0:00:01\r\u001b[K     |█████                           | 307 kB 4.2 MB/s eta 0:00:01\r\u001b[K     |█████▏                          | 317 kB 4.2 MB/s eta 0:00:01\r\u001b[K     |█████▍                          | 327 kB 4.2 MB/s eta 0:00:01\r\u001b[K     |█████▌                          | 337 kB 4.2 MB/s eta 0:00:01\r\u001b[K     |█████▊                          | 348 kB 4.2 MB/s eta 0:00:01\r\u001b[K     |█████▉                          | 358 kB 4.2 MB/s eta 0:00:01\r\u001b[K     |██████                          | 368 kB 4.2 MB/s eta 0:00:01\r\u001b[K     |██████▏                         | 378 kB 4.2 MB/s eta 0:00:01\r\u001b[K     |██████▍                         | 389 kB 4.2 MB/s eta 0:00:01\r\u001b[K     |██████▌                         | 399 kB 4.2 MB/s eta 0:00:01\r\u001b[K     |██████▊                         | 409 kB 4.2 MB/s eta 0:00:01\r\u001b[K     |██████▉                         | 419 kB 4.2 MB/s eta 0:00:01\r\u001b[K     |███████                         | 430 kB 4.2 MB/s eta 0:00:01\r\u001b[K     |███████▏                        | 440 kB 4.2 MB/s eta 0:00:01\r\u001b[K     |███████▍                        | 450 kB 4.2 MB/s eta 0:00:01\r\u001b[K     |███████▌                        | 460 kB 4.2 MB/s eta 0:00:01\r\u001b[K     |███████▊                        | 471 kB 4.2 MB/s eta 0:00:01\r\u001b[K     |███████▉                        | 481 kB 4.2 MB/s eta 0:00:01\r\u001b[K     |████████                        | 491 kB 4.2 MB/s eta 0:00:01\r\u001b[K     |████████▏                       | 501 kB 4.2 MB/s eta 0:00:01\r\u001b[K     |████████▍                       | 512 kB 4.2 MB/s eta 0:00:01\r\u001b[K     |████████▌                       | 522 kB 4.2 MB/s eta 0:00:01\r\u001b[K     |████████▊                       | 532 kB 4.2 MB/s eta 0:00:01\r\u001b[K     |████████▉                       | 542 kB 4.2 MB/s eta 0:00:01\r\u001b[K     |█████████                       | 552 kB 4.2 MB/s eta 0:00:01\r\u001b[K     |█████████▏                      | 563 kB 4.2 MB/s eta 0:00:01\r\u001b[K     |█████████▍                      | 573 kB 4.2 MB/s eta 0:00:01\r\u001b[K     |█████████▌                      | 583 kB 4.2 MB/s eta 0:00:01\r\u001b[K     |█████████▊                      | 593 kB 4.2 MB/s eta 0:00:01\r\u001b[K     |█████████▉                      | 604 kB 4.2 MB/s eta 0:00:01\r\u001b[K     |██████████                      | 614 kB 4.2 MB/s eta 0:00:01\r\u001b[K     |██████████▏                     | 624 kB 4.2 MB/s eta 0:00:01\r\u001b[K     |██████████▍                     | 634 kB 4.2 MB/s eta 0:00:01\r\u001b[K     |██████████▌                     | 645 kB 4.2 MB/s eta 0:00:01\r\u001b[K     |██████████▊                     | 655 kB 4.2 MB/s eta 0:00:01\r\u001b[K     |██████████▉                     | 665 kB 4.2 MB/s eta 0:00:01\r\u001b[K     |███████████                     | 675 kB 4.2 MB/s eta 0:00:01\r\u001b[K     |███████████▏                    | 686 kB 4.2 MB/s eta 0:00:01\r\u001b[K     |███████████▍                    | 696 kB 4.2 MB/s eta 0:00:01\r\u001b[K     |███████████▌                    | 706 kB 4.2 MB/s eta 0:00:01\r\u001b[K     |███████████▊                    | 716 kB 4.2 MB/s eta 0:00:01\r\u001b[K     |███████████▉                    | 727 kB 4.2 MB/s eta 0:00:01\r\u001b[K     |████████████                    | 737 kB 4.2 MB/s eta 0:00:01\r\u001b[K     |████████████▏                   | 747 kB 4.2 MB/s eta 0:00:01\r\u001b[K     |████████████▍                   | 757 kB 4.2 MB/s eta 0:00:01\r\u001b[K     |████████████▌                   | 768 kB 4.2 MB/s eta 0:00:01\r\u001b[K     |████████████▊                   | 778 kB 4.2 MB/s eta 0:00:01\r\u001b[K     |████████████▉                   | 788 kB 4.2 MB/s eta 0:00:01\r\u001b[K     |█████████████                   | 798 kB 4.2 MB/s eta 0:00:01\r\u001b[K     |█████████████▏                  | 808 kB 4.2 MB/s eta 0:00:01\r\u001b[K     |█████████████▍                  | 819 kB 4.2 MB/s eta 0:00:01\r\u001b[K     |█████████████▌                  | 829 kB 4.2 MB/s eta 0:00:01\r\u001b[K     |█████████████▊                  | 839 kB 4.2 MB/s eta 0:00:01\r\u001b[K     |█████████████▉                  | 849 kB 4.2 MB/s eta 0:00:01\r\u001b[K     |██████████████                  | 860 kB 4.2 MB/s eta 0:00:01\r\u001b[K     |██████████████▏                 | 870 kB 4.2 MB/s eta 0:00:01\r\u001b[K     |██████████████▍                 | 880 kB 4.2 MB/s eta 0:00:01\r\u001b[K     |██████████████▌                 | 890 kB 4.2 MB/s eta 0:00:01\r\u001b[K     |██████████████▊                 | 901 kB 4.2 MB/s eta 0:00:01\r\u001b[K     |██████████████▉                 | 911 kB 4.2 MB/s eta 0:00:01\r\u001b[K     |███████████████                 | 921 kB 4.2 MB/s eta 0:00:01\r\u001b[K     |███████████████▏                | 931 kB 4.2 MB/s eta 0:00:01\r\u001b[K     |███████████████▍                | 942 kB 4.2 MB/s eta 0:00:01\r\u001b[K     |███████████████▌                | 952 kB 4.2 MB/s eta 0:00:01\r\u001b[K     |███████████████▊                | 962 kB 4.2 MB/s eta 0:00:01\r\u001b[K     |███████████████▉                | 972 kB 4.2 MB/s eta 0:00:01\r\u001b[K     |████████████████                | 983 kB 4.2 MB/s eta 0:00:01\r\u001b[K     |████████████████▏               | 993 kB 4.2 MB/s eta 0:00:01\r\u001b[K     |████████████████▍               | 1.0 MB 4.2 MB/s eta 0:00:01\r\u001b[K     |████████████████▌               | 1.0 MB 4.2 MB/s eta 0:00:01\r\u001b[K     |████████████████▊               | 1.0 MB 4.2 MB/s eta 0:00:01\r\u001b[K     |████████████████▉               | 1.0 MB 4.2 MB/s eta 0:00:01\r\u001b[K     |█████████████████               | 1.0 MB 4.2 MB/s eta 0:00:01\r\u001b[K     |█████████████████▏              | 1.1 MB 4.2 MB/s eta 0:00:01\r\u001b[K     |█████████████████▍              | 1.1 MB 4.2 MB/s eta 0:00:01\r\u001b[K     |█████████████████▌              | 1.1 MB 4.2 MB/s eta 0:00:01\r\u001b[K     |█████████████████▊              | 1.1 MB 4.2 MB/s eta 0:00:01\r\u001b[K     |█████████████████▉              | 1.1 MB 4.2 MB/s eta 0:00:01\r\u001b[K     |██████████████████              | 1.1 MB 4.2 MB/s eta 0:00:01\r\u001b[K     |██████████████████▏             | 1.1 MB 4.2 MB/s eta 0:00:01\r\u001b[K     |██████████████████▍             | 1.1 MB 4.2 MB/s eta 0:00:01\r\u001b[K     |██████████████████▌             | 1.1 MB 4.2 MB/s eta 0:00:01\r\u001b[K     |██████████████████▊             | 1.1 MB 4.2 MB/s eta 0:00:01\r\u001b[K     |██████████████████▉             | 1.2 MB 4.2 MB/s eta 0:00:01\r\u001b[K     |███████████████████             | 1.2 MB 4.2 MB/s eta 0:00:01\r\u001b[K     |███████████████████▏            | 1.2 MB 4.2 MB/s eta 0:00:01\r\u001b[K     |███████████████████▍            | 1.2 MB 4.2 MB/s eta 0:00:01\r\u001b[K     |███████████████████▌            | 1.2 MB 4.2 MB/s eta 0:00:01\r\u001b[K     |███████████████████▊            | 1.2 MB 4.2 MB/s eta 0:00:01\r\u001b[K     |███████████████████▉            | 1.2 MB 4.2 MB/s eta 0:00:01\r\u001b[K     |████████████████████            | 1.2 MB 4.2 MB/s eta 0:00:01\r\u001b[K     |████████████████████▏           | 1.2 MB 4.2 MB/s eta 0:00:01\r\u001b[K     |████████████████████▍           | 1.2 MB 4.2 MB/s eta 0:00:01\r\u001b[K     |████████████████████▌           | 1.3 MB 4.2 MB/s eta 0:00:01\r\u001b[K     |████████████████████▊           | 1.3 MB 4.2 MB/s eta 0:00:01\r\u001b[K     |████████████████████▉           | 1.3 MB 4.2 MB/s eta 0:00:01\r\u001b[K     |█████████████████████           | 1.3 MB 4.2 MB/s eta 0:00:01\r\u001b[K     |█████████████████████▏          | 1.3 MB 4.2 MB/s eta 0:00:01\r\u001b[K     |█████████████████████▍          | 1.3 MB 4.2 MB/s eta 0:00:01\r\u001b[K     |█████████████████████▌          | 1.3 MB 4.2 MB/s eta 0:00:01\r\u001b[K     |█████████████████████▊          | 1.3 MB 4.2 MB/s eta 0:00:01\r\u001b[K     |█████████████████████▉          | 1.3 MB 4.2 MB/s eta 0:00:01\r\u001b[K     |██████████████████████          | 1.4 MB 4.2 MB/s eta 0:00:01\r\u001b[K     |██████████████████████▏         | 1.4 MB 4.2 MB/s eta 0:00:01\r\u001b[K     |██████████████████████▍         | 1.4 MB 4.2 MB/s eta 0:00:01\r\u001b[K     |██████████████████████▌         | 1.4 MB 4.2 MB/s eta 0:00:01\r\u001b[K     |██████████████████████▊         | 1.4 MB 4.2 MB/s eta 0:00:01\r\u001b[K     |██████████████████████▉         | 1.4 MB 4.2 MB/s eta 0:00:01\r\u001b[K     |███████████████████████         | 1.4 MB 4.2 MB/s eta 0:00:01\r\u001b[K     |███████████████████████▏        | 1.4 MB 4.2 MB/s eta 0:00:01\r\u001b[K     |███████████████████████▍        | 1.4 MB 4.2 MB/s eta 0:00:01\r\u001b[K     |███████████████████████▌        | 1.4 MB 4.2 MB/s eta 0:00:01\r\u001b[K     |███████████████████████▊        | 1.5 MB 4.2 MB/s eta 0:00:01\r\u001b[K     |███████████████████████▉        | 1.5 MB 4.2 MB/s eta 0:00:01\r\u001b[K     |████████████████████████        | 1.5 MB 4.2 MB/s eta 0:00:01\r\u001b[K     |████████████████████████▏       | 1.5 MB 4.2 MB/s eta 0:00:01\r\u001b[K     |████████████████████████▍       | 1.5 MB 4.2 MB/s eta 0:00:01\r\u001b[K     |████████████████████████▌       | 1.5 MB 4.2 MB/s eta 0:00:01\r\u001b[K     |████████████████████████▊       | 1.5 MB 4.2 MB/s eta 0:00:01\r\u001b[K     |████████████████████████▉       | 1.5 MB 4.2 MB/s eta 0:00:01\r\u001b[K     |█████████████████████████       | 1.5 MB 4.2 MB/s eta 0:00:01\r\u001b[K     |█████████████████████████▏      | 1.5 MB 4.2 MB/s eta 0:00:01\r\u001b[K     |█████████████████████████▍      | 1.6 MB 4.2 MB/s eta 0:00:01\r\u001b[K     |█████████████████████████▌      | 1.6 MB 4.2 MB/s eta 0:00:01\r\u001b[K     |█████████████████████████▊      | 1.6 MB 4.2 MB/s eta 0:00:01\r\u001b[K     |█████████████████████████▉      | 1.6 MB 4.2 MB/s eta 0:00:01\r\u001b[K     |██████████████████████████      | 1.6 MB 4.2 MB/s eta 0:00:01\r\u001b[K     |██████████████████████████▏     | 1.6 MB 4.2 MB/s eta 0:00:01\r\u001b[K     |██████████████████████████▍     | 1.6 MB 4.2 MB/s eta 0:00:01\r\u001b[K     |██████████████████████████▌     | 1.6 MB 4.2 MB/s eta 0:00:01\r\u001b[K     |██████████████████████████▊     | 1.6 MB 4.2 MB/s eta 0:00:01\r\u001b[K     |██████████████████████████▉     | 1.6 MB 4.2 MB/s eta 0:00:01\r\u001b[K     |███████████████████████████     | 1.7 MB 4.2 MB/s eta 0:00:01\r\u001b[K     |███████████████████████████▏    | 1.7 MB 4.2 MB/s eta 0:00:01\r\u001b[K     |███████████████████████████▍    | 1.7 MB 4.2 MB/s eta 0:00:01\r\u001b[K     |███████████████████████████▌    | 1.7 MB 4.2 MB/s eta 0:00:01\r\u001b[K     |███████████████████████████▊    | 1.7 MB 4.2 MB/s eta 0:00:01\r\u001b[K     |███████████████████████████▉    | 1.7 MB 4.2 MB/s eta 0:00:01\r\u001b[K     |████████████████████████████    | 1.7 MB 4.2 MB/s eta 0:00:01\r\u001b[K     |████████████████████████████▏   | 1.7 MB 4.2 MB/s eta 0:00:01\r\u001b[K     |████████████████████████████▍   | 1.7 MB 4.2 MB/s eta 0:00:01\r\u001b[K     |████████████████████████████▌   | 1.8 MB 4.2 MB/s eta 0:00:01\r\u001b[K     |████████████████████████████▊   | 1.8 MB 4.2 MB/s eta 0:00:01\r\u001b[K     |████████████████████████████▉   | 1.8 MB 4.2 MB/s eta 0:00:01\r\u001b[K     |█████████████████████████████   | 1.8 MB 4.2 MB/s eta 0:00:01\r\u001b[K     |█████████████████████████████▏  | 1.8 MB 4.2 MB/s eta 0:00:01\r\u001b[K     |█████████████████████████████▍  | 1.8 MB 4.2 MB/s eta 0:00:01\r\u001b[K     |█████████████████████████████▌  | 1.8 MB 4.2 MB/s eta 0:00:01\r\u001b[K     |█████████████████████████████▊  | 1.8 MB 4.2 MB/s eta 0:00:01\r\u001b[K     |█████████████████████████████▉  | 1.8 MB 4.2 MB/s eta 0:00:01\r\u001b[K     |██████████████████████████████  | 1.8 MB 4.2 MB/s eta 0:00:01\r\u001b[K     |██████████████████████████████▏ | 1.9 MB 4.2 MB/s eta 0:00:01\r\u001b[K     |██████████████████████████████▍ | 1.9 MB 4.2 MB/s eta 0:00:01\r\u001b[K     |██████████████████████████████▌ | 1.9 MB 4.2 MB/s eta 0:00:01\r\u001b[K     |██████████████████████████████▊ | 1.9 MB 4.2 MB/s eta 0:00:01\r\u001b[K     |██████████████████████████████▉ | 1.9 MB 4.2 MB/s eta 0:00:01\r\u001b[K     |███████████████████████████████ | 1.9 MB 4.2 MB/s eta 0:00:01\r\u001b[K     |███████████████████████████████▏| 1.9 MB 4.2 MB/s eta 0:00:01\r\u001b[K     |███████████████████████████████▍| 1.9 MB 4.2 MB/s eta 0:00:01\r\u001b[K     |███████████████████████████████▌| 1.9 MB 4.2 MB/s eta 0:00:01\r\u001b[K     |███████████████████████████████▊| 1.9 MB 4.2 MB/s eta 0:00:01\r\u001b[K     |███████████████████████████████▉| 2.0 MB 4.2 MB/s eta 0:00:01\r\u001b[K     |████████████████████████████████| 2.0 MB 4.2 MB/s \n",
            "\u001b[?25h"
          ]
        }
      ]
    },
    {
      "cell_type": "code",
      "execution_count": 1,
      "metadata": {
        "id": "1YNe8pVY5x-R"
      },
      "outputs": [],
      "source": [
        "from google.colab import drive"
      ]
    },
    {
      "cell_type": "code",
      "source": [
        "drive.mount('/content/drive')"
      ],
      "metadata": {
        "colab": {
          "base_uri": "https://localhost:8080/"
        },
        "id": "7xSxUD5n6A4P",
        "outputId": "1b699847-71ed-4853-b443-2e75cdda6c29"
      },
      "execution_count": 3,
      "outputs": [
        {
          "output_type": "stream",
          "name": "stdout",
          "text": [
            "Mounted at /content/drive\n"
          ]
        }
      ]
    },
    {
      "cell_type": "code",
      "source": [
        "path = '/content/drive/MyDrive/capstone/assets/stage_2_train_images.zip'\n",
        "\n",
        "!unzip {path}"
      ],
      "metadata": {
        "id": "COAzi1-C6G5e"
      },
      "execution_count": 5,
      "outputs": []
    },
    {
      "cell_type": "code",
      "source": [
        "# source code: https://medium.com/@vivek8981/dicom-to-jpg-and-extract-all-patients-information-using-python-5e6dd1f1a07d\n",
        "import pydicom as dicom\n",
        "import os\n",
        "import cv2\n",
        "import PIL # optional\n",
        "\n",
        "folder_path = \"/content\"\n",
        "images_paths = os.listdir(folder_path)[1:9]\n",
        "\n",
        "ds = dicom.dcmread(os.path.join(folder_path, images_paths[0]))"
      ],
      "metadata": {
        "id": "yWNjfkrj6rbp"
      },
      "execution_count": 18,
      "outputs": []
    },
    {
      "cell_type": "code",
      "source": [
        "import matplotlib.pyplot as plt\n",
        "\n",
        "plt.hist(ds.pixel_array.ravel(), bins=50)\n",
        "plt.show()"
      ],
      "metadata": {
        "colab": {
          "base_uri": "https://localhost:8080/",
          "height": 265
        },
        "id": "7tivMFDbHe9k",
        "outputId": "5add095d-4106-43c1-b42c-f2a56b7492c7"
      },
      "execution_count": 26,
      "outputs": [
        {
          "output_type": "display_data",
          "data": {
            "text/plain": [
              "<Figure size 432x288 with 1 Axes>"
            ],
            "image/png": "[encoded data removed]"
          },
          "metadata": {
            "needs_background": "light"
          }
        }
      ]
    },
    {
      "cell_type": "code",
      "source": [
        "import torchvision\n",
        "import torch\n",
        "\n",
        "class LeNet(torch.nn.Module):\n",
        "  def __init__(self, num_channels, classes):\n",
        "    super(LeNet, self).__init__()\n",
        "\n",
        "    self.conv1 = torch.nn.Conv2d(in_channels=num_channels, out_channels=20, kernel_size=20)\n",
        "    self.relu1 = torch.nn.Relu()\n",
        "    self.maxpool1 = torch.nn.MaxPool2d(kernel_size=(2, 2), stride=(2, 2))\n",
        "\n",
        "    self.conv2 = torch.nn.Conv2d(in_channels=20, out_channels=50, kernel_size=(5, 5))\n",
        "    self.relu2 = torch.nn.Relu()\n",
        "    self.maxpool2 = torch.nn.MaxPool2d(kernel_size=(2, 2), stride=(2, 2))\n",
        "    # initialize first (and only) set of FC => RELU layers\n",
        "    self.fc1 = torch.nn.Linear(in_features=800, out_features=500)\n",
        "    self.relu3 = torch.nn.ReLU()\n",
        "    # initialize our softmax classifier\n",
        "    self.fc2 = torch.nn.Linear(in_features=500, out_features=classes)\n",
        "    self.logSoftmax = torch.nn.LogSoftmax(dim=1)\n",
        "\n",
        "  def forward(self, x):\n",
        "    # pass the input through our first set of CONV => RELU =>\n",
        "    # POOL layers\n",
        "    x = self.conv1(x)\n",
        "    x = self.relu1(x)\n",
        "    x = self.maxpool1(x)\n",
        "    # pass the output from the previous layer through the second\n",
        "    # set of CONV => RELU => POOL layers\n",
        "    x = self.conv2(x)\n",
        "    x = self.relu2(x)\n",
        "    x = self.maxpool2(x)\n",
        "    # flatten the output from the previous layer and pass it\n",
        "    # through our only set of FC => RELU layers\n",
        "    x = torch.nn.flatten(x, 1)\n",
        "    x = self.fc1(x)\n",
        "    x = self.relu3(x)\n",
        "    # pass the output to our softmax classifier to get our output\n",
        "    # predictions\n",
        "    x = self.fc2(x)\n",
        "    output = self.logSoftmax(x)\n",
        "    # return the output predictions\n",
        "    return output\n"
      ],
      "metadata": {
        "id": "sn-G0wMc10gf"
      },
      "execution_count": 32,
      "outputs": []
    },
    {
      "cell_type": "code",
      "source": [
        "from sklearn.metrics import classification_report\n",
        "from torch.utils.data import random_split\n",
        "from torch.utils.data import DataLoader\n",
        "from torchvision.transforms import ToTensor\n",
        "from torch.optim import Adam\n",
        "from torch import nn\n",
        "\n",
        "import matplotlib.pyplot as plt\n",
        "import numpy as np\n",
        "import time"
      ],
      "metadata": {
        "id": "1lSl2uT68b-B"
      },
      "execution_count": 35,
      "outputs": []
    },
    {
      "cell_type": "code",
      "source": [
        "init_learning_rate = 1e-3\n",
        "batch_size = 64\n",
        "epochs = 10\n",
        "\n",
        "train_split = .25\n",
        "val_split = 1-train_split\n",
        "\n",
        "device = torch.device(\"cuda\" if torch.cuda.is_available() else \"cpu\")"
      ],
      "metadata": {
        "id": "60RqutJR80nQ"
      },
      "execution_count": 45,
      "outputs": []
    },
    {
      "cell_type": "code",
      "source": [
        "import os\n",
        "import pandas as pd\n",
        "from torch.utils.data import Dataset\n",
        "from torch.utils.data import DataLoader\n",
        "\n",
        "class CustomImageDataset(Dataset):\n",
        "  def __init__(self, annotations_file, img_dir, indices=None, transform=None, target_transform=None):\n",
        "    self.img_labels = pd.read_csv(annotations_file)\n",
        "    self.img_dir = img_dir\n",
        "    self.transform = transform\n",
        "    self.target_transform = target_transform\n",
        "\n",
        "  def __len__(self):\n",
        "    return len(self.img_labels)\n",
        "\n",
        "  def __getitem__(self, idx):\n",
        "    img_path = ''.join([os.path.join(self.img_dir, self.img_labels.iloc[idx, 0]), '.dcm'])\n",
        "    \n",
        "    image = dicom.dcmread(os.path.join(folder_path, img_path))\n",
        "    image = image.pixel_array\n",
        "\n",
        "    label = self.img_labels.iloc[idx, -1]\n",
        "    if self.transform:\n",
        "        image = self.transform(image)\n",
        "    if self.target_transform:\n",
        "        label = self.target_transform(label)\n",
        "    return image, label"
      ],
      "metadata": {
        "id": "zNLXGSDI_kCX"
      },
      "execution_count": 105,
      "outputs": []
    },
    {
      "cell_type": "code",
      "source": [
        "from sklearn.model_selection import train_test_split\n",
        "\n",
        "annotations_file = '/content/drive/MyDrive/capstone/assets/stage_2_train_labels.csv.zip'\n",
        "img_dir = '/content'\n",
        "\n",
        "label_df = pd.read_csv(annotations_file)\n",
        "\n",
        "X_train, X_test = train_test_split(label_df, test_size=.1, stratify=label_df.Target)\n",
        "X_train, X_val, = train_test_split(X_train, test_size=.25, stratify=X_train.Target)\n",
        "X_train, X_test, X_val = X_train.index, X_test.index, X_val.index"
      ],
      "metadata": {
        "id": "MGHvAZz_JVvY"
      },
      "execution_count": 133,
      "outputs": []
    },
    {
      "cell_type": "code",
      "source": [
        "transform = torchvision.transforms.Compose([\n",
        "    torchvision.transforms.ToTensor(),\n",
        "    torchvision.transforms.Normalize(0.5547, 0.1781),\n",
        "    torchvision.transforms.RandomHorizontalFlip(.1),\n",
        "    torchvision.transforms.RandomRotation(degrees=(-7, 7))\n",
        "])\n",
        "\n",
        "dataset = CustomImageDataset(annotations_file, img_dir, transform)\n",
        "data_loader = DataLoader(dataset, batch_size=32, shuffle=True)\n",
        "\n"
      ],
      "metadata": {
        "id": "w1nRRSEyAAz1",
        "outputId": "2ba83d3b-cf2a-48bf-ab65-2f7d33c2b836",
        "colab": {
          "base_uri": "https://localhost:8080/"
        }
      },
      "execution_count": 147,
      "outputs": [
        {
          "output_type": "execute_result",
          "data": {
            "text/plain": [
              "tensor([[ 0.0000,  0.0000, -3.0925,  ...,  0.0000,  0.0000,  0.0000],\n",
              "        [ 0.0000,  0.0000, -3.0925,  ...,  0.0000,  0.0000,  0.0000],\n",
              "        [ 0.0000,  0.0000, -3.0925,  ..., -3.0485, -3.0485, -3.0705],\n",
              "        ...,\n",
              "        [-2.3879, -2.3439, -2.3439,  ..., -3.0925,  0.0000,  0.0000],\n",
              "        [ 0.0000,  0.0000,  0.0000,  ..., -3.0925,  0.0000,  0.0000],\n",
              "        [ 0.0000,  0.0000,  0.0000,  ..., -3.0925,  0.0000,  0.0000]])"
            ]
          },
          "metadata": {},
          "execution_count": 147
        }
      ]
    },
    {
      "cell_type": "code",
      "source": [],
      "metadata": {
        "id": "P-jtkmQSHgil",
        "outputId": "df08ade3-906c-44ea-be41-4f37de3c3de5",
        "colab": {
          "base_uri": "https://localhost:8080/",
          "height": 319
        }
      },
      "execution_count": 113,
      "outputs": [
        {
          "output_type": "error",
          "ename": "TypeError",
          "evalue": "ignored",
          "traceback": [
            "\u001b[0;31m---------------------------------------------------------------------------\u001b[0m",
            "\u001b[0;31mTypeError\u001b[0m                                 Traceback (most recent call last)",
            "\u001b[0;32m<ipython-input-113-cb432aa6a5b2>\u001b[0m in \u001b[0;36m<module>\u001b[0;34m\u001b[0m\n\u001b[0;32m----> 1\u001b[0;31m \u001b[0mtransform\u001b[0m\u001b[0;34m(\u001b[0m\u001b[0mimgs\u001b[0m\u001b[0;34m[\u001b[0m\u001b[0;36m0\u001b[0m\u001b[0;34m]\u001b[0m\u001b[0;34m)\u001b[0m\u001b[0;34m\u001b[0m\u001b[0;34m\u001b[0m\u001b[0m\n\u001b[0m",
            "\u001b[0;32m/usr/local/lib/python3.7/dist-packages/torchvision/transforms/transforms.py\u001b[0m in \u001b[0;36m__call__\u001b[0;34m(self, img)\u001b[0m\n\u001b[1;32m     92\u001b[0m     \u001b[0;32mdef\u001b[0m \u001b[0m__call__\u001b[0m\u001b[0;34m(\u001b[0m\u001b[0mself\u001b[0m\u001b[0;34m,\u001b[0m \u001b[0mimg\u001b[0m\u001b[0;34m)\u001b[0m\u001b[0;34m:\u001b[0m\u001b[0;34m\u001b[0m\u001b[0;34m\u001b[0m\u001b[0m\n\u001b[1;32m     93\u001b[0m         \u001b[0;32mfor\u001b[0m \u001b[0mt\u001b[0m \u001b[0;32min\u001b[0m \u001b[0mself\u001b[0m\u001b[0;34m.\u001b[0m\u001b[0mtransforms\u001b[0m\u001b[0;34m:\u001b[0m\u001b[0;34m\u001b[0m\u001b[0;34m\u001b[0m\u001b[0m\n\u001b[0;32m---> 94\u001b[0;31m             \u001b[0mimg\u001b[0m \u001b[0;34m=\u001b[0m \u001b[0mt\u001b[0m\u001b[0;34m(\u001b[0m\u001b[0mimg\u001b[0m\u001b[0;34m)\u001b[0m\u001b[0;34m\u001b[0m\u001b[0;34m\u001b[0m\u001b[0m\n\u001b[0m\u001b[1;32m     95\u001b[0m         \u001b[0;32mreturn\u001b[0m \u001b[0mimg\u001b[0m\u001b[0;34m\u001b[0m\u001b[0;34m\u001b[0m\u001b[0m\n\u001b[1;32m     96\u001b[0m \u001b[0;34m\u001b[0m\u001b[0m\n",
            "\u001b[0;32m/usr/local/lib/python3.7/dist-packages/torchvision/transforms/transforms.py\u001b[0m in \u001b[0;36m__call__\u001b[0;34m(self, pic)\u001b[0m\n\u001b[1;32m    132\u001b[0m             \u001b[0mTensor\u001b[0m\u001b[0;34m:\u001b[0m \u001b[0mConverted\u001b[0m \u001b[0mimage\u001b[0m\u001b[0;34m.\u001b[0m\u001b[0;34m\u001b[0m\u001b[0;34m\u001b[0m\u001b[0m\n\u001b[1;32m    133\u001b[0m         \"\"\"\n\u001b[0;32m--> 134\u001b[0;31m         \u001b[0;32mreturn\u001b[0m \u001b[0mF\u001b[0m\u001b[0;34m.\u001b[0m\u001b[0mto_tensor\u001b[0m\u001b[0;34m(\u001b[0m\u001b[0mpic\u001b[0m\u001b[0;34m)\u001b[0m\u001b[0;34m\u001b[0m\u001b[0;34m\u001b[0m\u001b[0m\n\u001b[0m\u001b[1;32m    135\u001b[0m \u001b[0;34m\u001b[0m\u001b[0m\n\u001b[1;32m    136\u001b[0m     \u001b[0;32mdef\u001b[0m \u001b[0m__repr__\u001b[0m\u001b[0;34m(\u001b[0m\u001b[0mself\u001b[0m\u001b[0;34m)\u001b[0m \u001b[0;34m->\u001b[0m \u001b[0mstr\u001b[0m\u001b[0;34m:\u001b[0m\u001b[0;34m\u001b[0m\u001b[0;34m\u001b[0m\u001b[0m\n",
            "\u001b[0;32m/usr/local/lib/python3.7/dist-packages/torchvision/transforms/functional.py\u001b[0m in \u001b[0;36mto_tensor\u001b[0;34m(pic)\u001b[0m\n\u001b[1;32m    136\u001b[0m         \u001b[0m_log_api_usage_once\u001b[0m\u001b[0;34m(\u001b[0m\u001b[0mto_tensor\u001b[0m\u001b[0;34m)\u001b[0m\u001b[0;34m\u001b[0m\u001b[0;34m\u001b[0m\u001b[0m\n\u001b[1;32m    137\u001b[0m     \u001b[0;32mif\u001b[0m \u001b[0;32mnot\u001b[0m \u001b[0;34m(\u001b[0m\u001b[0mF_pil\u001b[0m\u001b[0;34m.\u001b[0m\u001b[0m_is_pil_image\u001b[0m\u001b[0;34m(\u001b[0m\u001b[0mpic\u001b[0m\u001b[0;34m)\u001b[0m \u001b[0;32mor\u001b[0m \u001b[0m_is_numpy\u001b[0m\u001b[0;34m(\u001b[0m\u001b[0mpic\u001b[0m\u001b[0;34m)\u001b[0m\u001b[0;34m)\u001b[0m\u001b[0;34m:\u001b[0m\u001b[0;34m\u001b[0m\u001b[0;34m\u001b[0m\u001b[0m\n\u001b[0;32m--> 138\u001b[0;31m         \u001b[0;32mraise\u001b[0m \u001b[0mTypeError\u001b[0m\u001b[0;34m(\u001b[0m\u001b[0;34mf\"pic should be PIL Image or ndarray. Got {type(pic)}\"\u001b[0m\u001b[0;34m)\u001b[0m\u001b[0;34m\u001b[0m\u001b[0;34m\u001b[0m\u001b[0m\n\u001b[0m\u001b[1;32m    139\u001b[0m \u001b[0;34m\u001b[0m\u001b[0m\n\u001b[1;32m    140\u001b[0m     \u001b[0;32mif\u001b[0m \u001b[0m_is_numpy\u001b[0m\u001b[0;34m(\u001b[0m\u001b[0mpic\u001b[0m\u001b[0;34m)\u001b[0m \u001b[0;32mand\u001b[0m \u001b[0;32mnot\u001b[0m \u001b[0m_is_numpy_image\u001b[0m\u001b[0;34m(\u001b[0m\u001b[0mpic\u001b[0m\u001b[0;34m)\u001b[0m\u001b[0;34m:\u001b[0m\u001b[0;34m\u001b[0m\u001b[0;34m\u001b[0m\u001b[0m\n",
            "\u001b[0;31mTypeError\u001b[0m: pic should be PIL Image or ndarray. Got <class 'torch.Tensor'>"
          ]
        }
      ]
    }
  ]
}