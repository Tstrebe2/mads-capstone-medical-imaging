{
 "cells": [
  {
   "cell_type": "markdown",
   "metadata": {
    "colab_type": "text",
    "id": "view-in-github"
   },
   "source": [
    "<a href=\"https://colab.research.google.com/github/Tstrebe2/umich-mads-capstone-project/blob/main/tim-ft-densenet.ipynb\" target=\"_parent\"><img src=\"https://colab.research.google.com/assets/colab-badge.svg\" alt=\"Open In Colab\"/></a>"
   ]
  },
  {
   "cell_type": "code",
   "execution_count": 19,
   "metadata": {
    "colab": {
     "base_uri": "https://localhost:8080/"
    },
    "id": "JduPGuQNzp7-",
    "outputId": "d4eac0e9-611f-4dd5-9d2b-b94fd7bffb7d"
   },
   "outputs": [
    {
     "name": "stdout",
     "output_type": "stream",
     "text": [
      "Defaulting to user installation because normal site-packages is not writeable\n",
      "Requirement already satisfied: pip in ./.local/lib/python3.9/site-packages (22.3)\n"
     ]
    }
   ],
   "source": [
    "import sys\n",
    "\n",
    "!{sys.executable} -m pip install --upgrade pip\n",
    "!{sys.executable} -m pip install pydicom -q\n",
    "#!{sys.executable} -m pip install mpi4py -q"
   ]
  },
  {
   "cell_type": "code",
   "execution_count": 2,
   "metadata": {
    "colab": {
     "base_uri": "https://localhost:8080/"
    },
    "id": "7xSxUD5n6A4P",
    "outputId": "ea5fa262-9ba9-43ca-f616-5aa4e5c50813"
   },
   "outputs": [],
   "source": [
    "#from google.colab import drive\n",
    "#drive.mount('/content/drive')"
   ]
  },
  {
   "cell_type": "code",
   "execution_count": 3,
   "metadata": {
    "id": "COAzi1-C6G5e"
   },
   "outputs": [],
   "source": [
    "import os\n",
    "\n",
    "#path = '/content/drive/MyDrive/SIADS_699_Capstone/Capstone_Team_Project' #Google Drive path\n",
    "path = '/home/ausgear' #Great Lakes\n",
    "data_path = os.path.join(path, 'data/rsna-pneumonia')\n",
    "img_path = os.path.join(data_path, 'stage_2_train_images')\n",
    "obj_path = os.path.join(path, 'python_objects')"
   ]
  },
  {
   "cell_type": "code",
   "execution_count": 4,
   "metadata": {
    "id": "1lSl2uT68b-B"
   },
   "outputs": [],
   "source": [
    "from torch.utils.data import random_split\n",
    "from torch.utils.data import DataLoader\n",
    "from torch.utils.data import Dataset\n",
    "from torchvision.transforms import ToTensor\n",
    "from torch.optim import SGD\n",
    "from torch.optim.lr_scheduler import StepLR\n",
    "import torch\n",
    "import torchvision\n",
    "from torch.profiler import profile, record_function, ProfilerActivity\n",
    "\n",
    "import pydicom as dicom\n",
    "from PIL import Image\n",
    "\n",
    "import sklearn.metrics as metrics\n",
    "from sklearn.model_selection import train_test_split\n",
    "\n",
    "import pandas as pd\n",
    "import numpy as np\n",
    "\n",
    "import matplotlib.pyplot as plt\n",
    "import seaborn as sns\n",
    "import time\n",
    "import copy"
   ]
  },
  {
   "cell_type": "code",
   "execution_count": 5,
   "metadata": {
    "id": "zNLXGSDI_kCX"
   },
   "outputs": [],
   "source": [
    "class CustomImageDataset(Dataset):\n",
    "    def __init__(self, annotations_file, img_dir, indices=None, transform=None, target_transform=None):\n",
    "        if indices:\n",
    "            self.img_labels = pd.read_csv(annotations_file).iloc[indices]\n",
    "        else:\n",
    "            self.img_labels = pd.read_csv(annotations_file)\n",
    "\n",
    "        self.img_dir = img_dir\n",
    "        self.transform = transform\n",
    "        self.target_transform = target_transform\n",
    "\n",
    "    def __len__(self):\n",
    "        return len(self.img_labels)\n",
    "\n",
    "    def __getitem__(self, idx):\n",
    "        img_path = ''.join([os.path.join(self.img_dir, self.img_labels.iloc[idx, 0]), '.dcm'])\n",
    "\n",
    "        image = dicom.dcmread(img_path)\n",
    "        image = Image.fromarray(image.pixel_array).convert(mode='RGB')\n",
    "\n",
    "        label = self.img_labels.iloc[idx, -1]\n",
    "\n",
    "        if self.transform:\n",
    "            image = self.transform(image)\n",
    "        if self.target_transform:\n",
    "            label = self.target_transform(label)\n",
    "        return image, label\n",
    "\n",
    "    def get_classes(self):\n",
    "        return self.img_labels.iloc[:, -1].unique()\n",
    "\n",
    "    classes = property(get_classes)"
   ]
  },
  {
   "cell_type": "code",
   "execution_count": 6,
   "metadata": {
    "colab": {
     "base_uri": "https://localhost:8080/"
    },
    "id": "MGHvAZz_JVvY",
    "outputId": "eefec632-6573-4ccf-b09e-284657e8b36a"
   },
   "outputs": [
    {
     "data": {
      "text/plain": [
       "(24181, 3023, 3023)"
      ]
     },
     "execution_count": 6,
     "metadata": {},
     "output_type": "execute_result"
    }
   ],
   "source": [
    "annotations_file = os.path.join(data_path, 'stage_2_train_labels.csv')\n",
    "\n",
    "label_df = pd.read_csv(annotations_file)\n",
    "\n",
    "X_train, X_test = train_test_split(label_df, test_size=.2, stratify=label_df.Target, random_state=99)\n",
    "X_val, X_test, = train_test_split(X_test, test_size=.5, stratify=X_test.Target, random_state=99)\n",
    "X_train, X_val, X_test = X_train.index.tolist(), X_val.index.tolist(), (X_test.index.tolist())\n",
    "\n",
    "len(X_train), len(X_val),  len(X_test)"
   ]
  },
  {
   "cell_type": "code",
   "execution_count": 7,
   "metadata": {
    "id": "w1nRRSEyAAz1"
   },
   "outputs": [],
   "source": [
    "mean = [0.5132, 0.5132, 0.5132]\n",
    "std = [0.2168, 0.2168, 0.2168]\n",
    "\n",
    "transforms = dict(\n",
    "  train = torchvision.transforms.Compose([\n",
    "      torchvision.transforms.Resize(256),\n",
    "      torchvision.transforms.CenterCrop(224),\n",
    "      torchvision.transforms.RandomHorizontalFlip(.2),\n",
    "      torchvision.transforms.ToTensor(),\n",
    "      torchvision.transforms.Normalize(mean, std),\n",
    "  ]),\n",
    "  val = torchvision.transforms.Compose([\n",
    "      torchvision.transforms.Resize(256),\n",
    "      torchvision.transforms.CenterCrop(224),\n",
    "      torchvision.transforms.ToTensor(),\n",
    "      torchvision.transforms.Normalize(mean, std),\n",
    "  ])\n",
    ")\n",
    "\n",
    "datasets = dict(\n",
    "    train=CustomImageDataset(annotations_file, img_path, indices=X_train, transform=transforms['train']),\n",
    "    val=CustomImageDataset(annotations_file, img_path, indices=X_val, transform=transforms['val']),\n",
    "    test=CustomImageDataset(annotations_file, img_path, indices=X_test, transform=transforms['val']),\n",
    ")"
   ]
  },
  {
   "cell_type": "code",
   "execution_count": 8,
   "metadata": {
    "colab": {
     "base_uri": "https://localhost:8080/"
    },
    "id": "VjUshz9K1TwC",
    "outputId": "a6af709c-0cba-448c-cda5-1866369fac8c"
   },
   "outputs": [
    {
     "name": "stdout",
     "output_type": "stream",
     "text": [
      "training steps per epoch: 755\n",
      "validation steps per epoch: 94\n",
      "test steps per epoch: 94\n"
     ]
    }
   ],
   "source": [
    "batch_size = 32\n",
    "\n",
    "data_loaders = dict(\n",
    "    train=DataLoader(datasets['train'], batch_size=batch_size, shuffle=True),\n",
    "    val=DataLoader(datasets['val'], batch_size=batch_size, shuffle=True),\n",
    "    test=DataLoader(datasets['test'], batch_size=batch_size),\n",
    ")\n",
    "\n",
    "dataset_sizes = {x:len(datasets[x]) for x in ('train', 'val', 'test')}\n",
    "\n",
    "print('training steps per epoch:', dataset_sizes['train']//batch_size)\n",
    "print('validation steps per epoch:', dataset_sizes['val']//batch_size)\n",
    "print('test steps per epoch:', dataset_sizes['test']//batch_size)"
   ]
  },
  {
   "cell_type": "code",
   "execution_count": 9,
   "metadata": {
    "id": "uuj4qtQREi_i"
   },
   "outputs": [],
   "source": [
    "# Uncomment and run to get mean and standard deviation\n",
    "# for x, y in data_loaders['train']:\n",
    "#   break\n",
    "\n",
    "# x.mean(dim=(0, 2, 3)), x.std(dim=(0, 2, 3))"
   ]
  },
  {
   "cell_type": "code",
   "execution_count": 22,
   "metadata": {
    "id": "P-jtkmQSHgil"
   },
   "outputs": [
    {
     "name": "stdout",
     "output_type": "stream",
     "text": [
      "Let's use 3 GPUs!\n",
      "mpi_rank: 0\n",
      "mpi_size: 3\n"
     ]
    },
    {
     "ename": "KeyError",
     "evalue": "'MASTER_ADDR'",
     "output_type": "error",
     "traceback": [
      "\u001b[0;31m---------------------------------------------------------------------------\u001b[0m",
      "\u001b[0;31mKeyError\u001b[0m                                  Traceback (most recent call last)",
      "\u001b[0;32m/tmp/ipykernel_1476036/3575972994.py\u001b[0m in \u001b[0;36m<module>\u001b[0;34m\u001b[0m\n\u001b[1;32m     41\u001b[0m \u001b[0mprint\u001b[0m\u001b[0;34m(\u001b[0m\u001b[0;34mf'mpi_size: {mpi_size}'\u001b[0m\u001b[0;34m)\u001b[0m\u001b[0;34m\u001b[0m\u001b[0;34m\u001b[0m\u001b[0m\n\u001b[1;32m     42\u001b[0m \u001b[0;34m\u001b[0m\u001b[0m\n\u001b[0;32m---> 43\u001b[0;31m \u001b[0mprint\u001b[0m\u001b[0;34m(\u001b[0m\u001b[0mos\u001b[0m\u001b[0;34m.\u001b[0m\u001b[0menviron\u001b[0m\u001b[0;34m[\u001b[0m\u001b[0;34m\"MASTER_ADDR\"\u001b[0m\u001b[0;34m]\u001b[0m\u001b[0;34m)\u001b[0m\u001b[0;34m\u001b[0m\u001b[0;34m\u001b[0m\u001b[0m\n\u001b[0m\u001b[1;32m     44\u001b[0m \u001b[0;34m\u001b[0m\u001b[0m\n\u001b[1;32m     45\u001b[0m \u001b[0mtorch\u001b[0m\u001b[0;34m.\u001b[0m\u001b[0mdistributed\u001b[0m\u001b[0;34m.\u001b[0m\u001b[0minit_process_group\u001b[0m\u001b[0;34m(\u001b[0m\u001b[0mbackend\u001b[0m\u001b[0;34m=\u001b[0m\u001b[0;34m'nccl'\u001b[0m\u001b[0;34m,\u001b[0m \u001b[0mworld_size\u001b[0m\u001b[0;34m=\u001b[0m\u001b[0mmpi_size\u001b[0m\u001b[0;34m,\u001b[0m \u001b[0mrank\u001b[0m\u001b[0;34m=\u001b[0m\u001b[0mmpi_rank\u001b[0m\u001b[0;34m)\u001b[0m\u001b[0;34m\u001b[0m\u001b[0;34m\u001b[0m\u001b[0m\n",
      "\u001b[0;32m/sw/pkgs/arc/python3.9-anaconda/2021.11/lib/python3.9/os.py\u001b[0m in \u001b[0;36m__getitem__\u001b[0;34m(self, key)\u001b[0m\n\u001b[1;32m    677\u001b[0m         \u001b[0;32mexcept\u001b[0m \u001b[0mKeyError\u001b[0m\u001b[0;34m:\u001b[0m\u001b[0;34m\u001b[0m\u001b[0;34m\u001b[0m\u001b[0m\n\u001b[1;32m    678\u001b[0m             \u001b[0;31m# raise KeyError with the original key value\u001b[0m\u001b[0;34m\u001b[0m\u001b[0;34m\u001b[0m\u001b[0m\n\u001b[0;32m--> 679\u001b[0;31m             \u001b[0;32mraise\u001b[0m \u001b[0mKeyError\u001b[0m\u001b[0;34m(\u001b[0m\u001b[0mkey\u001b[0m\u001b[0;34m)\u001b[0m \u001b[0;32mfrom\u001b[0m \u001b[0;32mNone\u001b[0m\u001b[0;34m\u001b[0m\u001b[0;34m\u001b[0m\u001b[0m\n\u001b[0m\u001b[1;32m    680\u001b[0m         \u001b[0;32mreturn\u001b[0m \u001b[0mself\u001b[0m\u001b[0;34m.\u001b[0m\u001b[0mdecodevalue\u001b[0m\u001b[0;34m(\u001b[0m\u001b[0mvalue\u001b[0m\u001b[0;34m)\u001b[0m\u001b[0;34m\u001b[0m\u001b[0;34m\u001b[0m\u001b[0m\n\u001b[1;32m    681\u001b[0m \u001b[0;34m\u001b[0m\u001b[0m\n",
      "\u001b[0;31mKeyError\u001b[0m: 'MASTER_ADDR'"
     ]
    }
   ],
   "source": [
    "#from mpi4py import mpi\n",
    "\n",
    "feature_extract = False\n",
    "\n",
    "model = torchvision.models.densenet121(weights='DEFAULT')\n",
    "# Freeze all layers if feature extract\n",
    "if feature_extract:\n",
    "    for params in model.parameters():\n",
    "        params.requires_grad=False\n",
    "\n",
    "# add final layer with # outputs in same dimension of labels\n",
    "# these layers will have params.requires_grad=True\n",
    "model.classifier = torch.nn.Sequential(\n",
    "    torch.nn.Linear(model.classifier.in_features, 1))\n",
    "\n",
    "# If feature extraction, only optimize/update the feautres in the\n",
    "# classifer layer\n",
    "if feature_extract:\n",
    "    params_to_update = []\n",
    "    for name,param in model.named_parameters():\n",
    "        if param.requires_grad == True:\n",
    "            params_to_update.append(param)\n",
    "            print(\"\\t\", name)\n",
    "# Else, we update all features.\n",
    "else:\n",
    "    params_to_update = model.parameters()\n",
    "    #for name, param in model.named_parameters():\n",
    "        #if param.requires_grad == True:\n",
    "            #print(\"\\t\", name)\n",
    "\n",
    "device = torch.device(\"cuda\" if torch.cuda.is_available() else \"cpu\")\n",
    "print(\"Let's use\", torch.cuda.device_count(), \"GPUs!\")\n",
    "\n",
    "#mpi_rank = mpi.COMM_WORLD.Get_rank()\n",
    "#mpi_size = mpi.COMM_WORLD.Get_size()\n",
    "\n",
    "mpi_rank = 0\n",
    "mpi_size = 3\n",
    "\n",
    "print(f'mpi_rank: {mpi_rank}')\n",
    "print(f'mpi_size: {mpi_size}')\n",
    "\n",
    "print(os.environ[\"MASTER_ADDR\"])\n",
    "\n",
    "torch.distributed.init_process_group(backend='nccl', world_size=mpi_size, rank=mpi_rank)\n",
    "model = torch.nn.parallel.DistributedDataParallel(model)\n",
    "\n",
    "model = model.to(device)\n",
    "\n",
    "\n",
    "zero, one = label_df.iloc[X_train].Target.value_counts().tolist()\n",
    "\n",
    "criterion = torch.nn.BCEWithLogitsLoss(pos_weight=torch.tensor([zero/one]).to(device))\n",
    "optimizer = SGD(params_to_update, lr=0.001, momentum=0.9)\n",
    "scheduler = StepLR(optimizer, step_size=7, gamma=0.1)"
   ]
  },
  {
   "cell_type": "code",
   "execution_count": null,
   "metadata": {
    "id": "LgkjpFIBIlDm"
   },
   "outputs": [],
   "source": [
    "from datetime import datetime\n",
    "\n",
    "def train_model(model, criterion, optimizer, scheduler, num_epochs):\n",
    "    since = time.time()\n",
    "\n",
    "    best_model_wts = copy.deepcopy(model.state_dict())\n",
    "    best_acc = 0.0\n",
    "    best_loss = 1e+8\n",
    "\n",
    "    for epoch in range(num_epochs):\n",
    "        print(f'Epoch {epoch}/{num_epochs-1} ' + str(datetime.now()) )\n",
    "        print('-' * 10)\n",
    "\n",
    "        for phase in ('train', 'val'):\n",
    "            if phase == 'train':\n",
    "                model.train()\n",
    "            else:\n",
    "                model.eval()\n",
    "\n",
    "            running_loss = 0.0\n",
    "            running_corrects = 0\n",
    "\n",
    "            for (inputs, labels) in data_loaders[phase]:\n",
    "                inputs = inputs.to(device)\n",
    "                labels = labels.reshape(-1, 1).float().to(device)\n",
    "\n",
    "                optimizer.zero_grad()\n",
    "\n",
    "                with torch.set_grad_enabled(phase=='train'):\n",
    "                    outputs = model(inputs)\n",
    "                    preds = (outputs >= 0.0).float()\n",
    "                    loss = criterion(outputs, labels)\n",
    "\n",
    "                    if phase == 'train':\n",
    "                        loss.backward()\n",
    "                        optimizer.step()\n",
    "\n",
    "                running_loss += loss.item() * inputs.size(0)\n",
    "                running_corrects += torch.sum(preds == labels.data)\n",
    "\n",
    "            if phase == 'train':\n",
    "                scheduler.step()\n",
    "\n",
    "            epoch_loss = running_loss / dataset_sizes[phase]\n",
    "            epoch_acc = running_corrects.double() / dataset_sizes[phase]\n",
    "            lr = next(iter(optimizer.param_groups))['lr']\n",
    "\n",
    "            print(f'{phase} Loss: {epoch_loss:.4f} Acc: {epoch_acc:.4f} LR: {lr:6f}')\n",
    "\n",
    "            # deep copy the model\n",
    "            if phase == 'val' and epoch_loss < best_loss:\n",
    "                best_loss = epoch_loss\n",
    "                best_acc = epoch_acc\n",
    "                best_model_wts = copy.deepcopy(model.state_dict())\n",
    "\n",
    "    time_elapsed = time.time() - since\n",
    "    print(f'Training complete in {time_elapsed // 60:.0f}m {time_elapsed % 60:.0f}s')\n",
    "    print(f'Best val Loss: {best_loss:4f}')\n",
    "    print(f'Best val Acc: {best_acc:4f}')\n",
    "\n",
    "    # load best model weights\n",
    "    model.load_state_dict(best_model_wts)\n",
    "    return model"
   ]
  },
  {
   "cell_type": "code",
   "execution_count": null,
   "metadata": {
    "colab": {
     "base_uri": "https://localhost:8080/"
    },
    "id": "1z3-ShA1QZNv",
    "outputId": "e3b3e3ed-dd5f-4d95-a70c-f1c06716a64f"
   },
   "outputs": [],
   "source": [
    "model = train_model(model, criterion, optimizer, scheduler, num_epochs=6)"
   ]
  },
  {
   "cell_type": "code",
   "execution_count": null,
   "metadata": {
    "id": "0q_N4b_l-kbU"
   },
   "outputs": [],
   "source": [
    "running_labels = torch.Tensor(0, 1).to(device)\n",
    "running_outputs = torch.Tensor(0, 1).to(device)\n",
    "\n",
    "with torch.no_grad():\n",
    "    model.eval()\n",
    "    for i, (inputs, labels) in enumerate(data_loaders['test']):\n",
    "        inputs, labels = inputs.to(device), labels.reshape(-1, 1).float().to(device)\n",
    "\n",
    "        outputs = model(inputs)\n",
    "\n",
    "        running_labels = torch.cat((running_labels, labels), dim=0)\n",
    "        running_outputs = torch.cat((running_outputs, outputs), dim=0)"
   ]
  },
  {
   "cell_type": "code",
   "execution_count": null,
   "metadata": {
    "colab": {
     "base_uri": "https://localhost:8080/",
     "height": 382
    },
    "id": "mkr9m55UOvd7",
    "outputId": "aa162ec5-20f1-44c3-f69c-6a256fcf4caa"
   },
   "outputs": [],
   "source": [
    "y_true = running_labels.cpu().numpy()\n",
    "y_pred = (running_outputs>=0.0).float().cpu().numpy()\n",
    "y_proba = torch.nn.Sigmoid()(running_outputs).cpu().numpy()\n",
    "\n",
    "precision = metrics.precision_score(y_true, y_pred)\n",
    "recall = metrics.recall_score(y_true, y_pred)\n",
    "f1 = metrics.f1_score(y_true, y_pred)\n",
    "\n",
    "print('precision:\\t{:.4f}'.format(precision))\n",
    "print('recall:\\t\\t{:.4f}'.format(recall))\n",
    "print('f1:\\t\\t{:.4f}'.format(f1))\n",
    "print()\n",
    "\n",
    "fig = plt.figure(dpi=75)\n",
    "ax = plt.gca()\n",
    "sns.heatmap(metrics.confusion_matrix(y_true, y_pred), annot=True, fmt=',', cmap='Blues')\n",
    "fig.tight_layout()\n",
    "fig.show()"
   ]
  },
  {
   "cell_type": "code",
   "execution_count": null,
   "metadata": {
    "colab": {
     "base_uri": "https://localhost:8080/",
     "height": 602
    },
    "id": "6ptiSB83BYGD",
    "outputId": "ae7fbff5-40a5-427d-f637-61a07e7ca449"
   },
   "outputs": [],
   "source": [
    "fpr, tpr, _ = metrics.roc_curve(y_true, y_proba)\n",
    "roc_auc_score = metrics.roc_auc_score(y_true, y_proba)\n",
    "\n",
    "no_skill = np.linspace(0, 1, 100)\n",
    "\n",
    "plt.figure(dpi=150)\n",
    "plt.plot(fpr, tpr, label='AUC {:.2f}'.format(roc_auc_score))\n",
    "plt.plot(no_skill, no_skill, '--r')\n",
    "plt.legend(loc='lower right')\n",
    "plt.xlim(0, 1)\n",
    "plt.ylim(0, 1)\n",
    "plt.ylabel('True-positive Rate')\n",
    "plt.xlabel('False-positive Rate')\n",
    "plt.tight_layout()\n",
    "plt.show()"
   ]
  },
  {
   "cell_type": "code",
   "execution_count": null,
   "metadata": {
    "colab": {
     "base_uri": "https://localhost:8080/",
     "height": 602
    },
    "id": "HCQJXI7zM0lY",
    "outputId": "2cce31b4-0342-4d38-f1b7-47d7193db73b"
   },
   "outputs": [],
   "source": [
    "precision, recall, _ = metrics.precision_recall_curve(y_true, y_proba)\n",
    "auprc_score = metrics.auc(recall, precision)\n",
    "\n",
    "plt.figure(dpi=150)\n",
    "plt.plot(recall, precision, label='AUC {:.2f}'.format(auprc_score))\n",
    "plt.legend(loc='lower right')\n",
    "plt.xlim(0, 1)\n",
    "plt.ylim(0, 1)\n",
    "plt.ylabel('Precision')\n",
    "plt.xlabel('Recall')\n",
    "plt.tight_layout()\n",
    "plt.show()"
   ]
  },
  {
   "cell_type": "code",
   "execution_count": null,
   "metadata": {
    "id": "qVEnyHpxbYGJ"
   },
   "outputs": [],
   "source": [
    "# Save model\n",
    "\n",
    "torch.save({\n",
    "    'train_ix':X_train, \n",
    "    'val_ix':X_val, \n",
    "    'test_ix':X_test,\n",
    "    'model_state_dict': model.state_dict(),\n",
    "    'optimizer_state_dict': optimizer.state_dict(),\n",
    "  },\n",
    "  obj_path\n",
    ")"
   ]
  }
 ],
 "metadata": {
  "accelerator": "GPU",
  "colab": {
   "authorship_tag": "ABX9TyOqjnh2412gCxvbdKo5leRD",
   "include_colab_link": true,
   "machine_shape": "hm",
   "provenance": []
  },
  "gpuClass": "premium",
  "kernelspec": {
   "display_name": "Python 3 (ipykernel)",
   "language": "python",
   "name": "python3"
  },
  "language_info": {
   "codemirror_mode": {
    "name": "ipython",
    "version": 3
   },
   "file_extension": ".py",
   "mimetype": "text/x-python",
   "name": "python",
   "nbconvert_exporter": "python",
   "pygments_lexer": "ipython3",
   "version": "3.9.7"
  }
 },
 "nbformat": 4,
 "nbformat_minor": 1
}
