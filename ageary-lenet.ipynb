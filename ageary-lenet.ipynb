{
 "cells": [
  {
   "cell_type": "markdown",
   "metadata": {
    "id": "PH3LYIxoleT4"
   },
   "source": [
    "# Capstone"
   ]
  },
  {
   "cell_type": "markdown",
   "metadata": {
    "id": "-7tI7LXslzn-"
   },
   "source": [
    "## Prepare Notebook"
   ]
  },
  {
   "cell_type": "markdown",
   "metadata": {
    "id": "i6yHgEcZeHE_"
   },
   "source": [
    "Install pydicom"
   ]
  },
  {
   "cell_type": "code",
   "execution_count": 1,
   "metadata": {
    "colab": {
     "base_uri": "https://localhost:8080/"
    },
    "executionInfo": {
     "elapsed": 13044,
     "status": "ok",
     "timestamp": 1666826456131,
     "user": {
      "displayName": "Austin Geary",
      "userId": "04443240831720776372"
     },
     "user_tz": 240
    },
    "id": "uWXZb1p_tN6C",
    "outputId": "c87d5304-b96d-49eb-b2ce-9d9b90ddb71b"
   },
   "outputs": [
    {
     "name": "stdout",
     "output_type": "stream",
     "text": [
      "Defaulting to user installation because normal site-packages is not writeable\n",
      "Requirement already satisfied: pydicom in ./.local/lib/python3.9/site-packages (2.3.0)\n"
     ]
    }
   ],
   "source": [
    "!pip install pydicom"
   ]
  },
  {
   "cell_type": "code",
   "execution_count": 2,
   "metadata": {
    "scrolled": false
   },
   "outputs": [
    {
     "name": "stdout",
     "output_type": "stream",
     "text": [
      "Defaulting to user installation because normal site-packages is not writeable\r\n",
      "Requirement already satisfied: torch in ./.local/lib/python3.9/site-packages (1.12.1)\r\n",
      "Requirement already satisfied: typing-extensions in /sw/pkgs/arc/python3.9-anaconda/2021.11/lib/python3.9/site-packages (from torch) (3.10.0.2)\r\n"
     ]
    }
   ],
   "source": [
    "!pip install torch"
   ]
  },
  {
   "cell_type": "code",
   "execution_count": 3,
   "metadata": {},
   "outputs": [
    {
     "name": "stdout",
     "output_type": "stream",
     "text": [
      "Defaulting to user installation because normal site-packages is not writeable\n",
      "Requirement already satisfied: torchvision in ./.local/lib/python3.9/site-packages (0.13.1)\n",
      "Requirement already satisfied: pillow!=8.3.*,>=5.3.0 in /sw/pkgs/arc/python3.9-anaconda/2021.11/lib/python3.9/site-packages (from torchvision) (8.4.0)\n",
      "Requirement already satisfied: typing-extensions in /sw/pkgs/arc/python3.9-anaconda/2021.11/lib/python3.9/site-packages (from torchvision) (3.10.0.2)\n",
      "Requirement already satisfied: requests in /sw/pkgs/arc/python3.9-anaconda/2021.11/lib/python3.9/site-packages (from torchvision) (2.26.0)\n",
      "Requirement already satisfied: torch==1.12.1 in ./.local/lib/python3.9/site-packages (from torchvision) (1.12.1)\n",
      "Requirement already satisfied: numpy in /sw/pkgs/arc/python3.9-anaconda/2021.11/lib/python3.9/site-packages (from torchvision) (1.20.3)\n",
      "Requirement already satisfied: charset-normalizer~=2.0.0 in /sw/pkgs/arc/python3.9-anaconda/2021.11/lib/python3.9/site-packages (from requests->torchvision) (2.0.4)\n",
      "Requirement already satisfied: idna<4,>=2.5 in /sw/pkgs/arc/python3.9-anaconda/2021.11/lib/python3.9/site-packages (from requests->torchvision) (3.2)\n",
      "Requirement already satisfied: certifi>=2017.4.17 in /sw/pkgs/arc/python3.9-anaconda/2021.11/lib/python3.9/site-packages (from requests->torchvision) (2021.10.8)\n",
      "Requirement already satisfied: urllib3<1.27,>=1.21.1 in /sw/pkgs/arc/python3.9-anaconda/2021.11/lib/python3.9/site-packages (from requests->torchvision) (1.26.7)\n"
     ]
    }
   ],
   "source": [
    "!pip install torchvision"
   ]
  },
  {
   "cell_type": "markdown",
   "metadata": {
    "id": "suxo8MBGeKU-"
   },
   "source": [
    "Mount Google Drive"
   ]
  },
  {
   "cell_type": "code",
   "execution_count": 4,
   "metadata": {
    "colab": {
     "base_uri": "https://localhost:8080/"
    },
    "executionInfo": {
     "elapsed": 17062,
     "status": "ok",
     "timestamp": 1666826473186,
     "user": {
      "displayName": "Austin Geary",
      "userId": "04443240831720776372"
     },
     "user_tz": 240
    },
    "id": "N2ryI3fXgv_5",
    "outputId": "975dc5ea-f0cc-4212-e89c-1ecd39c8b4f9"
   },
   "outputs": [],
   "source": [
    "#from google.colab import drive\n",
    "#drive.mount('/content/drive')"
   ]
  },
  {
   "cell_type": "markdown",
   "metadata": {
    "id": "d99NI5NGeNg5"
   },
   "source": [
    "Set Paths"
   ]
  },
  {
   "cell_type": "code",
   "execution_count": 5,
   "metadata": {
    "executionInfo": {
     "elapsed": 6,
     "status": "ok",
     "timestamp": 1666826473186,
     "user": {
      "displayName": "Austin Geary",
      "userId": "04443240831720776372"
     },
     "user_tz": 240
    },
    "id": "Ug45laz7E2XH"
   },
   "outputs": [],
   "source": [
    "import os\n",
    "\n",
    "#path = '/content/drive/MyDrive/SIADS_699_Capstone/Capstone_Team_Project' #Google Drive path\n",
    "path = '/home/ausgear' #Great Lakes\n",
    "data_path = os.path.join(path, 'data/rsna-pneumonia')\n",
    "img_path = os.path.join(data_path, 'stage_2_train_images')\n",
    "obj_path = os.path.join(path, 'python_objects')"
   ]
  },
  {
   "cell_type": "code",
   "execution_count": 6,
   "metadata": {},
   "outputs": [
    {
     "data": {
      "text/plain": [
       "'/home/ausgear'"
      ]
     },
     "execution_count": 6,
     "metadata": {},
     "output_type": "execute_result"
    }
   ],
   "source": [
    "os.getcwd()"
   ]
  },
  {
   "cell_type": "markdown",
   "metadata": {
    "id": "qvCq0GR9zKG4"
   },
   "source": [
    "## Custom Dataset Class"
   ]
  },
  {
   "cell_type": "markdown",
   "metadata": {
    "id": "7GqkAD3x0gGV"
   },
   "source": [
    "Definition"
   ]
  },
  {
   "cell_type": "code",
   "execution_count": 7,
   "metadata": {
    "executionInfo": {
     "elapsed": 4820,
     "status": "ok",
     "timestamp": 1666826478002,
     "user": {
      "displayName": "Austin Geary",
      "userId": "04443240831720776372"
     },
     "user_tz": 240
    },
    "id": "Y4w46Yy2-TYE"
   },
   "outputs": [],
   "source": [
    "import numpy as np\n",
    "import pandas as pd\n",
    "import matplotlib.pyplot as plt\n",
    "import torch\n",
    "import torch.nn as nn\n",
    "import torch.nn.functional as F\n",
    "from torch.utils.data import Dataset\n",
    "from torch.utils.data import DataLoader\n",
    "import pydicom\n",
    "from PIL import Image\n",
    "\n",
    "#Custom Dataset Class\n",
    "class CustomImageDataset(Dataset):\n",
    "    def __init__(self, annotations_file, img_dir, indices=None, transform=None, target_transform=None):\n",
    "        if indices:\n",
    "            self.img_labels = pd.read_csv(annotations_file).iloc[indices]\n",
    "        else:\n",
    "            self.img_labels = pd.read_csv(annotations_file)\n",
    "        self.img_dir = img_dir\n",
    "        self.transform = transform\n",
    "        self.target_transform = target_transform\n",
    "\n",
    "    def __len__(self):\n",
    "        return len(self.img_labels)\n",
    "\n",
    "    def __getitem__(self, idx):\n",
    "        filename = self.img_labels.iloc[idx, 0] + '.dcm'\n",
    "        img_path = os.path.join(self.img_dir, filename)\n",
    "        ds = pydicom.dcmread(img_path)\n",
    "        img_arr = ds.pixel_array\n",
    "        image = Image.fromarray(img_arr)\n",
    "        label = self.img_labels.iloc[idx, -1]\n",
    "        if self.transform:\n",
    "            image = self.transform(image)\n",
    "        if self.target_transform:\n",
    "            label = self.target_transform(label)\n",
    "        return (image, label)\n",
    "\n",
    "    def get_classes(self):\n",
    "        return self.img_labels.iloc[:, -1].unique()\n",
    "\n",
    "    def display_img(self, idx):\n",
    "        img = self.__getitem__(idx)[0]\n",
    "        plt.imshow(img, cmap=plt.cm.bone)\n",
    "        return None\n",
    "\n",
    "    classes = property(get_classes)"
   ]
  },
  {
   "cell_type": "code",
   "execution_count": 8,
   "metadata": {
    "colab": {
     "base_uri": "https://localhost:8080/",
     "height": 258
    },
    "executionInfo": {
     "elapsed": 2762,
     "status": "ok",
     "timestamp": 1666826480759,
     "user": {
      "displayName": "Austin Geary",
      "userId": "04443240831720776372"
     },
     "user_tz": 240
    },
    "id": "_9nRG5V5d4G7",
    "outputId": "9f32e08e-dd73-45a0-c296-76c34ee79f50"
   },
   "outputs": [
    {
     "data": {
      "text/html": [
       "<div>\n",
       "<style scoped>\n",
       "    .dataframe tbody tr th:only-of-type {\n",
       "        vertical-align: middle;\n",
       "    }\n",
       "\n",
       "    .dataframe tbody tr th {\n",
       "        vertical-align: top;\n",
       "    }\n",
       "\n",
       "    .dataframe thead th {\n",
       "        text-align: right;\n",
       "    }\n",
       "</style>\n",
       "<table border=\"1\" class=\"dataframe\">\n",
       "  <thead>\n",
       "    <tr style=\"text-align: right;\">\n",
       "      <th></th>\n",
       "      <th>patientId</th>\n",
       "      <th>x</th>\n",
       "      <th>y</th>\n",
       "      <th>width</th>\n",
       "      <th>height</th>\n",
       "      <th>Target</th>\n",
       "    </tr>\n",
       "  </thead>\n",
       "  <tbody>\n",
       "    <tr>\n",
       "      <th>0</th>\n",
       "      <td>0004cfab-14fd-4e49-80ba-63a80b6bddd6</td>\n",
       "      <td>NaN</td>\n",
       "      <td>NaN</td>\n",
       "      <td>NaN</td>\n",
       "      <td>NaN</td>\n",
       "      <td>0</td>\n",
       "    </tr>\n",
       "    <tr>\n",
       "      <th>1</th>\n",
       "      <td>00313ee0-9eaa-42f4-b0ab-c148ed3241cd</td>\n",
       "      <td>NaN</td>\n",
       "      <td>NaN</td>\n",
       "      <td>NaN</td>\n",
       "      <td>NaN</td>\n",
       "      <td>0</td>\n",
       "    </tr>\n",
       "    <tr>\n",
       "      <th>2</th>\n",
       "      <td>00322d4d-1c29-4943-afc9-b6754be640eb</td>\n",
       "      <td>NaN</td>\n",
       "      <td>NaN</td>\n",
       "      <td>NaN</td>\n",
       "      <td>NaN</td>\n",
       "      <td>0</td>\n",
       "    </tr>\n",
       "    <tr>\n",
       "      <th>3</th>\n",
       "      <td>003d8fa0-6bf1-40ed-b54c-ac657f8495c5</td>\n",
       "      <td>NaN</td>\n",
       "      <td>NaN</td>\n",
       "      <td>NaN</td>\n",
       "      <td>NaN</td>\n",
       "      <td>0</td>\n",
       "    </tr>\n",
       "    <tr>\n",
       "      <th>4</th>\n",
       "      <td>00436515-870c-4b36-a041-de91049b9ab4</td>\n",
       "      <td>264.0</td>\n",
       "      <td>152.0</td>\n",
       "      <td>213.0</td>\n",
       "      <td>379.0</td>\n",
       "      <td>1</td>\n",
       "    </tr>\n",
       "  </tbody>\n",
       "</table>\n",
       "</div>"
      ],
      "text/plain": [
       "                              patientId      x      y  width  height  Target\n",
       "0  0004cfab-14fd-4e49-80ba-63a80b6bddd6    NaN    NaN    NaN     NaN       0\n",
       "1  00313ee0-9eaa-42f4-b0ab-c148ed3241cd    NaN    NaN    NaN     NaN       0\n",
       "2  00322d4d-1c29-4943-afc9-b6754be640eb    NaN    NaN    NaN     NaN       0\n",
       "3  003d8fa0-6bf1-40ed-b54c-ac657f8495c5    NaN    NaN    NaN     NaN       0\n",
       "4  00436515-870c-4b36-a041-de91049b9ab4  264.0  152.0  213.0   379.0       1"
      ]
     },
     "metadata": {},
     "output_type": "display_data"
    },
    {
     "name": "stdout",
     "output_type": "stream",
     "text": [
      "24181\n",
      "3023\n",
      "3023\n"
     ]
    }
   ],
   "source": [
    "from sklearn.model_selection import train_test_split\n",
    "\n",
    "annotations_file = os.path.join(data_path, 'stage_2_train_labels.csv')\n",
    "label_df = pd.read_csv(annotations_file)\n",
    "display(label_df.head())\n",
    "\n",
    "X_train, X_val = train_test_split(label_df, test_size=0.2, stratify=label_df['Target'], random_state=42)\n",
    "X_val, X_test = train_test_split(X_val, test_size=0.5, stratify=X_val['Target'], random_state=42)\n",
    "X_train, X_val, X_test = X_train.index.tolist(), X_val.index.tolist(), X_test.index.tolist()\n",
    "\n",
    "print(len(X_train))\n",
    "print(len(X_val))\n",
    "print(len(X_test))"
   ]
  },
  {
   "cell_type": "markdown",
   "metadata": {
    "id": "Tix0vXQr0kqt"
   },
   "source": [
    "Initialize"
   ]
  },
  {
   "cell_type": "code",
   "execution_count": 9,
   "metadata": {
    "executionInfo": {
     "elapsed": 897,
     "status": "ok",
     "timestamp": 1666826481778,
     "user": {
      "displayName": "Austin Geary",
      "userId": "04443240831720776372"
     },
     "user_tz": 240
    },
    "id": "ICX0CQ7t4rBh"
   },
   "outputs": [],
   "source": [
    "from torchvision import transforms\n",
    "\n",
    "mean = 0.5\n",
    "std = 0.5\n",
    "#Transforms\n",
    "transforms = dict(\n",
    "  train = transforms.Compose([\n",
    "      transforms.Resize(256),\n",
    "      transforms.RandomHorizontalFlip(.1),\n",
    "      transforms.RandomRotation(degrees=(-7, 7)),\n",
    "      transforms.ToTensor(),\n",
    "      transforms.Normalize(mean, std),\n",
    "  ]),\n",
    "  eval = transforms.Compose([\n",
    "      transforms.Resize(256),\n",
    "      transforms.ToTensor(),\n",
    "      transforms.Normalize(mean, std),\n",
    "  ])\n",
    ")\n",
    "\n",
    "#Initialize Dataset\n",
    "train_dataset = CustomImageDataset(annotations_file, img_path, indices=X_train[:5000], transform=transforms['train'])\n",
    "val_dataset = CustomImageDataset(annotations_file, img_path, indices=X_val, transform=transforms['eval'])\n",
    "test_dataset = CustomImageDataset(annotations_file, img_path, indices=X_test, transform=transforms['eval'])"
   ]
  },
  {
   "cell_type": "markdown",
   "metadata": {
    "id": "gXMtGlqBzvyw"
   },
   "source": [
    "## Dataloaders"
   ]
  },
  {
   "cell_type": "markdown",
   "metadata": {
    "id": "97rwwEo50Fkr"
   },
   "source": [
    "Initialize"
   ]
  },
  {
   "cell_type": "code",
   "execution_count": 10,
   "metadata": {
    "colab": {
     "base_uri": "https://localhost:8080/"
    },
    "executionInfo": {
     "elapsed": 144,
     "status": "ok",
     "timestamp": 1666827149740,
     "user": {
      "displayName": "Austin Geary",
      "userId": "04443240831720776372"
     },
     "user_tz": 240
    },
    "id": "vWf6wPvCL75Z",
    "outputId": "bb1b2bbe-91eb-4525-d236-1b0078f84cbe"
   },
   "outputs": [
    {
     "name": "stdout",
     "output_type": "stream",
     "text": [
      "156\n"
     ]
    }
   ],
   "source": [
    "#Dataloader Hyperparameters\n",
    "batch_size = 32\n",
    "shuffle = True\n",
    "pin_memory = False\n",
    "num_workers = 1\n",
    "\n",
    "#Initialize Dataloader\n",
    "train_dataloader = DataLoader(dataset=train_dataset, shuffle=shuffle, batch_size=batch_size, num_workers=num_workers, pin_memory=pin_memory)\n",
    "validation_dataloader = DataLoader(dataset=val_dataset, shuffle=shuffle, batch_size=batch_size, num_workers=num_workers, pin_memory=pin_memory)\n",
    "test_dataloader = DataLoader(dataset=test_dataset, shuffle=shuffle, batch_size=batch_size, num_workers=num_workers, pin_memory=pin_memory)\n",
    "\n",
    "print(len(train_dataloader.dataset)//batch_size)"
   ]
  },
  {
   "cell_type": "markdown",
   "metadata": {
    "id": "QELYCWeC0KJ-"
   },
   "source": [
    "Benchmark batch load time"
   ]
  },
  {
   "cell_type": "code",
   "execution_count": 11,
   "metadata": {
    "colab": {
     "base_uri": "https://localhost:8080/",
     "height": 477
    },
    "executionInfo": {
     "elapsed": 24035,
     "status": "ok",
     "timestamp": 1666827194754,
     "user": {
      "displayName": "Austin Geary",
      "userId": "04443240831720776372"
     },
     "user_tz": 240
    },
    "id": "4Jm4JY1MMW88",
    "outputId": "1b8d6279-3f14-4a0a-8df1-f19ddf8dabc2"
   },
   "outputs": [
    {
     "name": "stdout",
     "output_type": "stream",
     "text": [
      "Feature batch shape: torch.Size([32, 1, 256, 256])\n",
      "Labels batch shape: 32\n"
     ]
    },
    {
     "data": {
      "image/png": "[encoded data removed]",
      "text/plain": [
       "<Figure size 432x288 with 1 Axes>"
      ]
     },
     "metadata": {
      "needs_background": "light"
     },
     "output_type": "display_data"
    },
    {
     "name": "stdout",
     "output_type": "stream",
     "text": [
      "Label: 0\n",
      "tensor([[-1., -1., -1.,  ..., -1., -1., -1.],\n",
      "        [-1., -1., -1.,  ..., -1., -1., -1.],\n",
      "        [-1., -1., -1.,  ..., -1., -1., -1.],\n",
      "        ...,\n",
      "        [-1., -1., -1.,  ..., -1., -1., -1.],\n",
      "        [-1., -1., -1.,  ..., -1., -1., -1.],\n",
      "        [-1., -1., -1.,  ..., -1., -1., -1.]])\n",
      "CPU times: user 120 ms, sys: 31.2 ms, total: 151 ms\n",
      "Wall time: 1.41 s\n"
     ]
    }
   ],
   "source": [
    "%%time\n",
    "# Display image and label.\n",
    "train_features, train_labels = next(iter(train_dataloader))\n",
    "print(f\"Feature batch shape: {train_features.size()}\")\n",
    "print(f\"Labels batch shape: {len(train_labels)}\")\n",
    "img = train_features[0].squeeze()\n",
    "label = train_labels[0]\n",
    "plt.imshow(img, cmap=\"gray\")\n",
    "plt.show()\n",
    "print(f\"Label: {label}\")\n",
    "print(img)"
   ]
  },
  {
   "cell_type": "markdown",
   "metadata": {
    "id": "0Qa8xG7M0XDD"
   },
   "source": [
    "Export Dataloader to file"
   ]
  },
  {
   "cell_type": "code",
   "execution_count": 12,
   "metadata": {
    "executionInfo": {
     "elapsed": 823,
     "status": "ok",
     "timestamp": 1666826589266,
     "user": {
      "displayName": "Austin Geary",
      "userId": "04443240831720776372"
     },
     "user_tz": 240
    },
    "id": "q3RatZZiO7NW"
   },
   "outputs": [],
   "source": [
    "torch.save(train_dataloader, obj_path + '/train_dataloader.pth')\n",
    "torch.save(validation_dataloader, obj_path + '/validation_dataloader.pth')\n",
    "torch.save(test_dataloader, obj_path + '/test_dataloader.pth')"
   ]
  },
  {
   "cell_type": "code",
   "execution_count": 13,
   "metadata": {
    "executionInfo": {
     "elapsed": 4,
     "status": "ok",
     "timestamp": 1666826589266,
     "user": {
      "displayName": "Austin Geary",
      "userId": "04443240831720776372"
     },
     "user_tz": 240
    },
    "id": "LO5OuP_uwrQ7"
   },
   "outputs": [],
   "source": [
    "#train_reloaded = torch.load(obj_path + '/train_dataloader.pth')"
   ]
  },
  {
   "cell_type": "markdown",
   "metadata": {
    "id": "wOrFPfiueMbV"
   },
   "source": [
    "## CNN"
   ]
  },
  {
   "cell_type": "markdown",
   "metadata": {
    "id": "XxGMj1sEeY70"
   },
   "source": [
    "Definition"
   ]
  },
  {
   "cell_type": "code",
   "execution_count": 25,
   "metadata": {
    "executionInfo": {
     "elapsed": 935,
     "status": "ok",
     "timestamp": 1666827285738,
     "user": {
      "displayName": "Austin Geary",
      "userId": "04443240831720776372"
     },
     "user_tz": 240
    },
    "id": "18eTco2VePPZ"
   },
   "outputs": [
    {
     "name": "stdout",
     "output_type": "stream",
     "text": [
      "True\n"
     ]
    }
   ],
   "source": [
    "import torch.optim as optim\n",
    "from torch.optim.lr_scheduler import ExponentialLR\n",
    "\n",
    "def checkpoint(model, best_loss, epoch, LR, path):\n",
    "    print('saving')\n",
    "    state = {\n",
    "        'model': model,\n",
    "        'best_loss': best_loss,\n",
    "        'epoch': epoch,\n",
    "        'rng_state': torch.get_rng_state(),\n",
    "        'LR': LR\n",
    "    }\n",
    "\n",
    "    torch.save(state, os.path.join(path, 'checkpoint') )\n",
    "    \n",
    "class LeNet(torch.nn.Module):\n",
    "    def __init__(self, num_channels, classes):\n",
    "        super(LeNet, self).__init__()\n",
    "\n",
    "        self.conv1 = torch.nn.Conv2d(in_channels=num_channels, out_channels=20, kernel_size=20)\n",
    "        self.relu1 = torch.nn.ReLU()\n",
    "        self.maxpool1 = torch.nn.MaxPool2d(kernel_size=(2, 2), stride=(2, 2))\n",
    "\n",
    "        self.conv2 = torch.nn.Conv2d(in_channels=20, out_channels=50, kernel_size=(5, 5))\n",
    "        self.relu2 = torch.nn.ReLU()\n",
    "        self.maxpool2 = torch.nn.MaxPool2d(kernel_size=(2, 2), stride=(2, 2))\n",
    "\n",
    "        self.fc1 = torch.nn.Linear(in_features=162450, out_features=500)\n",
    "        self.relu3 = torch.nn.ReLU()\n",
    "\n",
    "        self.fc2 = torch.nn.Linear(in_features=500, out_features=classes)\n",
    "        self.logSoftmax = torch.nn.LogSoftmax(dim=1)\n",
    "\n",
    "    def forward(self, x):\n",
    "        x = self.conv1(x)\n",
    "        x = self.relu1(x)\n",
    "        x = self.maxpool1(x)\n",
    "\n",
    "        x = self.conv2(x)\n",
    "        x = self.relu2(x)\n",
    "        x = self.maxpool2(x)\n",
    "\n",
    "        x = torch.flatten(x, 1)\n",
    "        x = self.fc1(x)\n",
    "        x = self.relu3(x)\n",
    "\n",
    "        x = self.fc2(x)\n",
    "        output = self.logSoftmax(x)\n",
    "\n",
    "        return output\n",
    "\n",
    "init_learning_rate = 1e-2\n",
    "\n",
    "print(torch.cuda.is_available())\n",
    "device = torch.device(\"cuda\" if torch.cuda.is_available() else \"cpu\")\n",
    "\n",
    "model = LeNet(num_channels=1, classes=len(train_dataloader.dataset.classes)).to(device)\n",
    "\n",
    "opt = optim.SGD(model.parameters(), lr=init_learning_rate)\n",
    "scheduler = ExponentialLR(opt, gamma=0.9)\n",
    "\n",
    "loss_fn = nn.NLLLoss()"
   ]
  },
  {
   "cell_type": "code",
   "execution_count": 26,
   "metadata": {
    "colab": {
     "base_uri": "https://localhost:8080/"
    },
    "id": "6Xq68vApgc4A",
    "outputId": "92ed6974-f76f-4002-9e6b-ae02bd76a299",
    "scrolled": true
   },
   "outputs": [
    {
     "name": "stdout",
     "output_type": "stream",
     "text": [
      "train idx: 0 and time: 21:27:45.689931\n",
      "train idx: 10 and time: 21:27:49.067967\n",
      "train idx: 20 and time: 21:27:52.481795\n",
      "train idx: 30 and time: 21:27:55.884783\n",
      "train idx: 40 and time: 21:27:59.272789\n",
      "train idx: 50 and time: 21:28:02.663085\n",
      "train idx: 60 and time: 21:28:06.062256\n",
      "train idx: 70 and time: 21:28:09.457559\n",
      "train idx: 80 and time: 21:28:12.856255\n",
      "train idx: 90 and time: 21:28:16.233276\n",
      "train idx: 100 and time: 21:28:19.614377\n",
      "train idx: 110 and time: 21:28:22.981079\n",
      "train idx: 120 and time: 21:28:26.389325\n",
      "train idx: 130 and time: 21:28:29.739806\n",
      "train idx: 140 and time: 21:28:33.109525\n",
      "train idx: 150 and time: 21:28:36.488139\n",
      "val idx: 0 and time: 21:28:39.219100\n",
      "val idx: 10 and time: 21:28:42.471765\n",
      "val idx: 20 and time: 21:28:45.743951\n",
      "val idx: 30 and time: 21:28:49.011548\n",
      "val idx: 40 and time: 21:28:52.271684\n",
      "val idx: 50 and time: 21:28:55.502906\n",
      "val idx: 60 and time: 21:28:58.737036\n",
      "val idx: 70 and time: 21:29:01.984056\n",
      "val idx: 80 and time: 21:29:05.215588\n",
      "val idx: 90 and time: 21:29:08.480573\n",
      "Epoch 1 completed - train loss: 82.5062 train correct pred: 3696.0 val loss 50.786072 val correct pred: 2268.0\n",
      "saving\n",
      "train idx: 0 and time: 21:29:11.650918\n",
      "train idx: 10 and time: 21:29:15.036676\n",
      "train idx: 20 and time: 21:29:18.439068\n",
      "train idx: 30 and time: 21:29:21.832563\n",
      "train idx: 40 and time: 21:29:25.231160\n",
      "train idx: 50 and time: 21:29:28.605330\n",
      "train idx: 60 and time: 21:29:31.987894\n",
      "train idx: 70 and time: 21:29:35.368789\n",
      "train idx: 80 and time: 21:29:38.741588\n",
      "train idx: 90 and time: 21:29:42.126565\n",
      "train idx: 100 and time: 21:29:45.521606\n",
      "train idx: 110 and time: 21:29:48.902578\n",
      "train idx: 120 and time: 21:29:52.273813\n",
      "train idx: 130 and time: 21:29:55.654129\n",
      "train idx: 140 and time: 21:29:59.035282\n",
      "train idx: 150 and time: 21:30:02.402377\n",
      "val idx: 0 and time: 21:30:05.068483\n",
      "val idx: 10 and time: 21:30:08.326019\n",
      "val idx: 20 and time: 21:30:11.611011\n",
      "val idx: 30 and time: 21:30:14.880936\n",
      "val idx: 40 and time: 21:30:18.128890\n",
      "val idx: 50 and time: 21:30:21.374048\n",
      "val idx: 60 and time: 21:30:24.638154\n",
      "val idx: 70 and time: 21:30:27.880584\n",
      "val idx: 80 and time: 21:30:31.130868\n",
      "val idx: 90 and time: 21:30:34.365373\n",
      "Epoch 2 completed - train loss: 76.0135 train correct pred: 3837.0 val loss 49.412933 val correct pred: 2242.0\n",
      "saving\n",
      "train idx: 0 and time: 21:30:37.719467\n",
      "train idx: 10 and time: 21:30:41.131036\n",
      "train idx: 20 and time: 21:30:44.559557\n",
      "train idx: 30 and time: 21:30:47.974270\n",
      "train idx: 40 and time: 21:30:51.362059\n",
      "train idx: 50 and time: 21:30:54.759216\n",
      "train idx: 60 and time: 21:30:58.146031\n",
      "train idx: 70 and time: 21:31:01.544513\n",
      "train idx: 80 and time: 21:31:04.938793\n",
      "train idx: 90 and time: 21:31:08.299883\n",
      "train idx: 100 and time: 21:31:11.683155\n",
      "train idx: 110 and time: 21:31:15.049942\n",
      "train idx: 120 and time: 21:31:18.420392\n",
      "train idx: 130 and time: 21:31:21.798516\n",
      "train idx: 140 and time: 21:31:25.203285\n",
      "train idx: 150 and time: 21:31:28.574959\n",
      "val idx: 0 and time: 21:31:31.294945\n",
      "val idx: 10 and time: 21:31:34.546550\n",
      "val idx: 20 and time: 21:31:37.821269\n",
      "val idx: 30 and time: 21:31:41.083210\n",
      "val idx: 40 and time: 21:31:44.348902\n",
      "val idx: 50 and time: 21:31:47.597944\n",
      "val idx: 60 and time: 21:31:50.833666\n",
      "val idx: 70 and time: 21:31:54.082748\n",
      "val idx: 80 and time: 21:31:57.332473\n",
      "val idx: 90 and time: 21:32:00.566929\n",
      "Epoch 3 completed - train loss: 75.0873 train correct pred: 3851.0 val loss 44.928741 val correct pred: 2337.0\n",
      "saving\n",
      "train idx: 0 and time: 21:32:04.076290\n",
      "train idx: 10 and time: 21:32:07.436982\n",
      "train idx: 20 and time: 21:32:10.853113\n",
      "train idx: 30 and time: 21:32:14.240079\n",
      "train idx: 40 and time: 21:32:17.630840\n",
      "train idx: 50 and time: 21:32:21.047344\n",
      "train idx: 60 and time: 21:32:24.461538\n",
      "train idx: 70 and time: 21:32:27.847386\n",
      "train idx: 80 and time: 21:32:31.211982\n",
      "train idx: 90 and time: 21:32:34.589770\n",
      "train idx: 100 and time: 21:32:37.968683\n",
      "train idx: 110 and time: 21:32:41.349597\n",
      "train idx: 120 and time: 21:32:44.703737\n",
      "train idx: 130 and time: 21:32:48.079456\n",
      "train idx: 140 and time: 21:32:51.451075\n",
      "train idx: 150 and time: 21:32:54.820321\n",
      "val idx: 0 and time: 21:32:57.509674\n",
      "val idx: 10 and time: 21:33:00.766571\n",
      "val idx: 20 and time: 21:33:04.068088\n",
      "val idx: 30 and time: 21:33:07.330021\n",
      "val idx: 40 and time: 21:33:10.594993\n",
      "val idx: 50 and time: 21:33:13.840771\n",
      "val idx: 60 and time: 21:33:17.113579\n",
      "val idx: 70 and time: 21:33:20.372765\n",
      "val idx: 80 and time: 21:33:23.610949\n",
      "val idx: 90 and time: 21:33:26.868427\n",
      "Epoch 4 completed - train loss: 73.6402 train correct pred: 3913.0 val loss 46.958668 val correct pred: 2328.0\n",
      "train idx: 0 and time: 21:33:28.874893\n",
      "train idx: 10 and time: 21:33:32.280004\n",
      "train idx: 20 and time: 21:33:35.690346\n",
      "train idx: 30 and time: 21:33:39.086068\n",
      "train idx: 40 and time: 21:33:42.481405\n",
      "train idx: 50 and time: 21:33:45.863644\n",
      "train idx: 60 and time: 21:33:49.239813\n",
      "train idx: 70 and time: 21:33:52.635371\n",
      "train idx: 80 and time: 21:33:56.037589\n",
      "train idx: 90 and time: 21:33:59.414770\n",
      "train idx: 100 and time: 21:34:02.797006\n",
      "train idx: 110 and time: 21:34:06.153362\n",
      "train idx: 120 and time: 21:34:09.549148\n",
      "train idx: 130 and time: 21:34:12.934915\n",
      "train idx: 140 and time: 21:34:16.329072\n",
      "train idx: 150 and time: 21:34:19.725068\n",
      "val idx: 0 and time: 21:34:22.415153\n",
      "val idx: 10 and time: 21:34:25.695711\n",
      "val idx: 20 and time: 21:34:28.977030\n",
      "val idx: 30 and time: 21:34:32.233328\n",
      "val idx: 40 and time: 21:34:35.506195\n",
      "val idx: 50 and time: 21:34:38.776769\n",
      "val idx: 60 and time: 21:34:42.044711\n",
      "val idx: 70 and time: 21:34:45.286379\n",
      "val idx: 80 and time: 21:34:48.536737\n",
      "val idx: 90 and time: 21:34:51.788519\n",
      "Epoch 5 completed - train loss: 72.3860 train correct pred: 3928.0 val loss 43.777798 val correct pred: 2360.0\n",
      "saving\n"
     ]
    }
   ],
   "source": [
    "import datetime\n",
    "\n",
    "best_loss = 1e+8\n",
    "best_epoch = 0\n",
    "epochs = 5\n",
    "\n",
    "for epoch in range(epochs):\n",
    "    model.train()\n",
    "\n",
    "    total_training_loss = 0\n",
    "    total_val_loss = 0\n",
    "\n",
    "    train_correct = 0\n",
    "    val_correct = 0\n",
    "\n",
    "    for train_idx, (x, y) in enumerate(train_dataloader):\n",
    "\n",
    "        if train_idx % 10 == 0:\n",
    "            print(f'train idx: {train_idx} and time: {datetime.datetime.now().time()}')\n",
    "\n",
    "        x, y = x.to(device), y.to(device)\n",
    "\n",
    "        pred = model(x)\n",
    "        loss = loss_fn(pred, y)\n",
    "\n",
    "        opt.zero_grad()\n",
    "        loss.backward()\n",
    "        opt.step()\n",
    "\n",
    "        total_training_loss += loss\n",
    "        train_correct += (pred.argmax(1) == y).type(torch.float).sum().item()\n",
    "\n",
    "    with torch.no_grad():\n",
    "        model.eval()\n",
    "\n",
    "        for val_idx, (x, y) in enumerate(validation_dataloader):\n",
    "\n",
    "            if val_idx % 10 == 0:\n",
    "                print(f'val idx: {val_idx} and time: {datetime.datetime.now().time()}')\n",
    "\n",
    "            (x, y) = (x.to(device), y.to(device))\n",
    "            pred = model(x)\n",
    "            total_val_loss += loss_fn(pred, y)\n",
    "            val_correct += (pred.argmax(1) == y).type(torch.float).sum().item()\n",
    "        \n",
    "    # break if no val loss improvement in 3 epochs\n",
    "    if ((epoch - best_epoch) >= 3):\n",
    "        print(\"no improvement in 3 epochs, break\")\n",
    "        break\n",
    "\n",
    "    lr = next(iter(opt.param_groups))['lr']\n",
    "    \n",
    "    print('Epoch {} completed - train loss: {:.4f} train correct pred: {} val loss {:4f} val correct pred: {}'.format(\n",
    "      epoch+1, total_training_loss, train_correct, total_val_loss, val_correct))\n",
    "\n",
    "    # checkpoint model if has best val loss yet\n",
    "    if total_val_loss < best_loss:\n",
    "        best_loss = total_val_loss\n",
    "        best_epoch = epoch\n",
    "        checkpoint(model, best_loss, epoch, lr, obj_path)\n",
    "\n",
    "    scheduler.step()"
   ]
  },
  {
   "cell_type": "code",
   "execution_count": null,
   "metadata": {},
   "outputs": [],
   "source": []
  }
 ],
 "metadata": {
  "colab": {
   "collapsed_sections": [
    "rguC2zzFIoy8"
   ],
   "provenance": [
    {
     "file_id": "1AKoj5cDyQEgf4sR7vLp_mVMUXDSgxrnK",
     "timestamp": 1628891508496
    }
   ]
  },
  "kernelspec": {
   "display_name": "Python 3 (ipykernel)",
   "language": "python",
   "name": "python3"
  },
  "language_info": {
   "codemirror_mode": {
    "name": "ipython",
    "version": 3
   },
   "file_extension": ".py",
   "mimetype": "text/x-python",
   "name": "python",
   "nbconvert_exporter": "python",
   "pygments_lexer": "ipython3",
   "version": "3.9.7"
  }
 },
 "nbformat": 4,
 "nbformat_minor": 1
}
