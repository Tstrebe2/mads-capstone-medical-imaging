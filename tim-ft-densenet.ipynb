{
  "nbformat": 4,
  "nbformat_minor": 0,
  "metadata": {
    "colab": {
      "provenance": [],
      "machine_shape": "hm",
      "authorship_tag": "ABX9TyNXuXRwPNoMOixOwDMFYHUl",
      "include_colab_link": true
    },
    "kernelspec": {
      "name": "python3",
      "display_name": "Python 3"
    },
    "language_info": {
      "name": "python"
    },
    "accelerator": "GPU",
    "gpuClass": "premium"
  },
  "cells": [
    {
      "cell_type": "markdown",
      "metadata": {
        "id": "view-in-github",
        "colab_type": "text"
      },
      "source": [
        "<a href=\"https://colab.research.google.com/github/Tstrebe2/umich-mads-capstone-project/blob/main/tim-ft-densenet.ipynb\" target=\"_parent\"><img src=\"https://colab.research.google.com/assets/colab-badge.svg\" alt=\"Open In Colab\"/></a>"
      ]
    },
    {
      "cell_type": "code",
      "source": [
        "import sys\n",
        "\n",
        "!{sys.executable} -m pip install pydicom -q"
      ],
      "metadata": {
        "id": "JduPGuQNzp7-",
        "outputId": "ce1394e2-844b-4c7c-b4c2-8569c1b31d42",
        "colab": {
          "base_uri": "https://localhost:8080/"
        }
      },
      "execution_count": 1,
      "outputs": [
        {
          "output_type": "stream",
          "name": "stdout",
          "text": [
            "\u001b[?25l\r\u001b[K     |▏                               | 10 kB 35.8 MB/s eta 0:00:01\r\u001b[K     |▍                               | 20 kB 34.3 MB/s eta 0:00:01\r\u001b[K     |▌                               | 30 kB 41.6 MB/s eta 0:00:01\r\u001b[K     |▊                               | 40 kB 42.6 MB/s eta 0:00:01\r\u001b[K     |▉                               | 51 kB 45.7 MB/s eta 0:00:01\r\u001b[K     |█                               | 61 kB 50.0 MB/s eta 0:00:01\r\u001b[K     |█▏                              | 71 kB 32.4 MB/s eta 0:00:01\r\u001b[K     |█▍                              | 81 kB 33.4 MB/s eta 0:00:01\r\u001b[K     |█▌                              | 92 kB 35.5 MB/s eta 0:00:01\r\u001b[K     |█▊                              | 102 kB 36.9 MB/s eta 0:00:01\r\u001b[K     |█▉                              | 112 kB 36.9 MB/s eta 0:00:01\r\u001b[K     |██                              | 122 kB 36.9 MB/s eta 0:00:01\r\u001b[K     |██▏                             | 133 kB 36.9 MB/s eta 0:00:01\r\u001b[K     |██▍                             | 143 kB 36.9 MB/s eta 0:00:01\r\u001b[K     |██▌                             | 153 kB 36.9 MB/s eta 0:00:01\r\u001b[K     |██▊                             | 163 kB 36.9 MB/s eta 0:00:01\r\u001b[K     |██▉                             | 174 kB 36.9 MB/s eta 0:00:01\r\u001b[K     |███                             | 184 kB 36.9 MB/s eta 0:00:01\r\u001b[K     |███▏                            | 194 kB 36.9 MB/s eta 0:00:01\r\u001b[K     |███▍                            | 204 kB 36.9 MB/s eta 0:00:01\r\u001b[K     |███▌                            | 215 kB 36.9 MB/s eta 0:00:01\r\u001b[K     |███▊                            | 225 kB 36.9 MB/s eta 0:00:01\r\u001b[K     |███▉                            | 235 kB 36.9 MB/s eta 0:00:01\r\u001b[K     |████                            | 245 kB 36.9 MB/s eta 0:00:01\r\u001b[K     |████▏                           | 256 kB 36.9 MB/s eta 0:00:01\r\u001b[K     |████▍                           | 266 kB 36.9 MB/s eta 0:00:01\r\u001b[K     |████▌                           | 276 kB 36.9 MB/s eta 0:00:01\r\u001b[K     |████▊                           | 286 kB 36.9 MB/s eta 0:00:01\r\u001b[K     |████▉                           | 296 kB 36.9 MB/s eta 0:00:01\r\u001b[K     |█████                           | 307 kB 36.9 MB/s eta 0:00:01\r\u001b[K     |█████▏                          | 317 kB 36.9 MB/s eta 0:00:01\r\u001b[K     |█████▍                          | 327 kB 36.9 MB/s eta 0:00:01\r\u001b[K     |█████▌                          | 337 kB 36.9 MB/s eta 0:00:01\r\u001b[K     |█████▊                          | 348 kB 36.9 MB/s eta 0:00:01\r\u001b[K     |█████▉                          | 358 kB 36.9 MB/s eta 0:00:01\r\u001b[K     |██████                          | 368 kB 36.9 MB/s eta 0:00:01\r\u001b[K     |██████▏                         | 378 kB 36.9 MB/s eta 0:00:01\r\u001b[K     |██████▍                         | 389 kB 36.9 MB/s eta 0:00:01\r\u001b[K     |██████▌                         | 399 kB 36.9 MB/s eta 0:00:01\r\u001b[K     |██████▊                         | 409 kB 36.9 MB/s eta 0:00:01\r\u001b[K     |██████▉                         | 419 kB 36.9 MB/s eta 0:00:01\r\u001b[K     |███████                         | 430 kB 36.9 MB/s eta 0:00:01\r\u001b[K     |███████▏                        | 440 kB 36.9 MB/s eta 0:00:01\r\u001b[K     |███████▍                        | 450 kB 36.9 MB/s eta 0:00:01\r\u001b[K     |███████▌                        | 460 kB 36.9 MB/s eta 0:00:01\r\u001b[K     |███████▊                        | 471 kB 36.9 MB/s eta 0:00:01\r\u001b[K     |███████▉                        | 481 kB 36.9 MB/s eta 0:00:01\r\u001b[K     |████████                        | 491 kB 36.9 MB/s eta 0:00:01\r\u001b[K     |████████▏                       | 501 kB 36.9 MB/s eta 0:00:01\r\u001b[K     |████████▍                       | 512 kB 36.9 MB/s eta 0:00:01\r\u001b[K     |████████▌                       | 522 kB 36.9 MB/s eta 0:00:01\r\u001b[K     |████████▊                       | 532 kB 36.9 MB/s eta 0:00:01\r\u001b[K     |████████▉                       | 542 kB 36.9 MB/s eta 0:00:01\r\u001b[K     |█████████                       | 552 kB 36.9 MB/s eta 0:00:01\r\u001b[K     |█████████▏                      | 563 kB 36.9 MB/s eta 0:00:01\r\u001b[K     |█████████▍                      | 573 kB 36.9 MB/s eta 0:00:01\r\u001b[K     |█████████▌                      | 583 kB 36.9 MB/s eta 0:00:01\r\u001b[K     |█████████▊                      | 593 kB 36.9 MB/s eta 0:00:01\r\u001b[K     |█████████▉                      | 604 kB 36.9 MB/s eta 0:00:01\r\u001b[K     |██████████                      | 614 kB 36.9 MB/s eta 0:00:01\r\u001b[K     |██████████▏                     | 624 kB 36.9 MB/s eta 0:00:01\r\u001b[K     |██████████▍                     | 634 kB 36.9 MB/s eta 0:00:01\r\u001b[K     |██████████▌                     | 645 kB 36.9 MB/s eta 0:00:01\r\u001b[K     |██████████▊                     | 655 kB 36.9 MB/s eta 0:00:01\r\u001b[K     |██████████▉                     | 665 kB 36.9 MB/s eta 0:00:01\r\u001b[K     |███████████                     | 675 kB 36.9 MB/s eta 0:00:01\r\u001b[K     |███████████▏                    | 686 kB 36.9 MB/s eta 0:00:01\r\u001b[K     |███████████▍                    | 696 kB 36.9 MB/s eta 0:00:01\r\u001b[K     |███████████▌                    | 706 kB 36.9 MB/s eta 0:00:01\r\u001b[K     |███████████▊                    | 716 kB 36.9 MB/s eta 0:00:01\r\u001b[K     |███████████▉                    | 727 kB 36.9 MB/s eta 0:00:01\r\u001b[K     |████████████                    | 737 kB 36.9 MB/s eta 0:00:01\r\u001b[K     |████████████▏                   | 747 kB 36.9 MB/s eta 0:00:01\r\u001b[K     |████████████▍                   | 757 kB 36.9 MB/s eta 0:00:01\r\u001b[K     |████████████▌                   | 768 kB 36.9 MB/s eta 0:00:01\r\u001b[K     |████████████▊                   | 778 kB 36.9 MB/s eta 0:00:01\r\u001b[K     |████████████▉                   | 788 kB 36.9 MB/s eta 0:00:01\r\u001b[K     |█████████████                   | 798 kB 36.9 MB/s eta 0:00:01\r\u001b[K     |█████████████▏                  | 808 kB 36.9 MB/s eta 0:00:01\r\u001b[K     |█████████████▍                  | 819 kB 36.9 MB/s eta 0:00:01\r\u001b[K     |█████████████▌                  | 829 kB 36.9 MB/s eta 0:00:01\r\u001b[K     |█████████████▊                  | 839 kB 36.9 MB/s eta 0:00:01\r\u001b[K     |█████████████▉                  | 849 kB 36.9 MB/s eta 0:00:01\r\u001b[K     |██████████████                  | 860 kB 36.9 MB/s eta 0:00:01\r\u001b[K     |██████████████▏                 | 870 kB 36.9 MB/s eta 0:00:01\r\u001b[K     |██████████████▍                 | 880 kB 36.9 MB/s eta 0:00:01\r\u001b[K     |██████████████▌                 | 890 kB 36.9 MB/s eta 0:00:01\r\u001b[K     |██████████████▊                 | 901 kB 36.9 MB/s eta 0:00:01\r\u001b[K     |██████████████▉                 | 911 kB 36.9 MB/s eta 0:00:01\r\u001b[K     |███████████████                 | 921 kB 36.9 MB/s eta 0:00:01\r\u001b[K     |███████████████▏                | 931 kB 36.9 MB/s eta 0:00:01\r\u001b[K     |███████████████▍                | 942 kB 36.9 MB/s eta 0:00:01\r\u001b[K     |███████████████▌                | 952 kB 36.9 MB/s eta 0:00:01\r\u001b[K     |███████████████▊                | 962 kB 36.9 MB/s eta 0:00:01\r\u001b[K     |███████████████▉                | 972 kB 36.9 MB/s eta 0:00:01\r\u001b[K     |████████████████                | 983 kB 36.9 MB/s eta 0:00:01\r\u001b[K     |████████████████▏               | 993 kB 36.9 MB/s eta 0:00:01\r\u001b[K     |████████████████▍               | 1.0 MB 36.9 MB/s eta 0:00:01\r\u001b[K     |████████████████▌               | 1.0 MB 36.9 MB/s eta 0:00:01\r\u001b[K     |████████████████▊               | 1.0 MB 36.9 MB/s eta 0:00:01\r\u001b[K     |████████████████▉               | 1.0 MB 36.9 MB/s eta 0:00:01\r\u001b[K     |█████████████████               | 1.0 MB 36.9 MB/s eta 0:00:01\r\u001b[K     |█████████████████▏              | 1.1 MB 36.9 MB/s eta 0:00:01\r\u001b[K     |█████████████████▍              | 1.1 MB 36.9 MB/s eta 0:00:01\r\u001b[K     |█████████████████▌              | 1.1 MB 36.9 MB/s eta 0:00:01\r\u001b[K     |█████████████████▊              | 1.1 MB 36.9 MB/s eta 0:00:01\r\u001b[K     |█████████████████▉              | 1.1 MB 36.9 MB/s eta 0:00:01\r\u001b[K     |██████████████████              | 1.1 MB 36.9 MB/s eta 0:00:01\r\u001b[K     |██████████████████▏             | 1.1 MB 36.9 MB/s eta 0:00:01\r\u001b[K     |██████████████████▍             | 1.1 MB 36.9 MB/s eta 0:00:01\r\u001b[K     |██████████████████▌             | 1.1 MB 36.9 MB/s eta 0:00:01\r\u001b[K     |██████████████████▊             | 1.1 MB 36.9 MB/s eta 0:00:01\r\u001b[K     |██████████████████▉             | 1.2 MB 36.9 MB/s eta 0:00:01\r\u001b[K     |███████████████████             | 1.2 MB 36.9 MB/s eta 0:00:01\r\u001b[K     |███████████████████▏            | 1.2 MB 36.9 MB/s eta 0:00:01\r\u001b[K     |███████████████████▍            | 1.2 MB 36.9 MB/s eta 0:00:01\r\u001b[K     |███████████████████▌            | 1.2 MB 36.9 MB/s eta 0:00:01\r\u001b[K     |███████████████████▊            | 1.2 MB 36.9 MB/s eta 0:00:01\r\u001b[K     |███████████████████▉            | 1.2 MB 36.9 MB/s eta 0:00:01\r\u001b[K     |████████████████████            | 1.2 MB 36.9 MB/s eta 0:00:01\r\u001b[K     |████████████████████▏           | 1.2 MB 36.9 MB/s eta 0:00:01\r\u001b[K     |████████████████████▍           | 1.2 MB 36.9 MB/s eta 0:00:01\r\u001b[K     |████████████████████▌           | 1.3 MB 36.9 MB/s eta 0:00:01\r\u001b[K     |████████████████████▊           | 1.3 MB 36.9 MB/s eta 0:00:01\r\u001b[K     |████████████████████▉           | 1.3 MB 36.9 MB/s eta 0:00:01\r\u001b[K     |█████████████████████           | 1.3 MB 36.9 MB/s eta 0:00:01\r\u001b[K     |█████████████████████▏          | 1.3 MB 36.9 MB/s eta 0:00:01\r\u001b[K     |█████████████████████▍          | 1.3 MB 36.9 MB/s eta 0:00:01\r\u001b[K     |█████████████████████▌          | 1.3 MB 36.9 MB/s eta 0:00:01\r\u001b[K     |█████████████████████▊          | 1.3 MB 36.9 MB/s eta 0:00:01\r\u001b[K     |█████████████████████▉          | 1.3 MB 36.9 MB/s eta 0:00:01\r\u001b[K     |██████████████████████          | 1.4 MB 36.9 MB/s eta 0:00:01\r\u001b[K     |██████████████████████▏         | 1.4 MB 36.9 MB/s eta 0:00:01\r\u001b[K     |██████████████████████▍         | 1.4 MB 36.9 MB/s eta 0:00:01\r\u001b[K     |██████████████████████▌         | 1.4 MB 36.9 MB/s eta 0:00:01\r\u001b[K     |██████████████████████▊         | 1.4 MB 36.9 MB/s eta 0:00:01\r\u001b[K     |██████████████████████▉         | 1.4 MB 36.9 MB/s eta 0:00:01\r\u001b[K     |███████████████████████         | 1.4 MB 36.9 MB/s eta 0:00:01\r\u001b[K     |███████████████████████▏        | 1.4 MB 36.9 MB/s eta 0:00:01\r\u001b[K     |███████████████████████▍        | 1.4 MB 36.9 MB/s eta 0:00:01\r\u001b[K     |███████████████████████▌        | 1.4 MB 36.9 MB/s eta 0:00:01\r\u001b[K     |███████████████████████▊        | 1.5 MB 36.9 MB/s eta 0:00:01\r\u001b[K     |███████████████████████▉        | 1.5 MB 36.9 MB/s eta 0:00:01\r\u001b[K     |████████████████████████        | 1.5 MB 36.9 MB/s eta 0:00:01\r\u001b[K     |████████████████████████▏       | 1.5 MB 36.9 MB/s eta 0:00:01\r\u001b[K     |████████████████████████▍       | 1.5 MB 36.9 MB/s eta 0:00:01\r\u001b[K     |████████████████████████▌       | 1.5 MB 36.9 MB/s eta 0:00:01\r\u001b[K     |████████████████████████▊       | 1.5 MB 36.9 MB/s eta 0:00:01\r\u001b[K     |████████████████████████▉       | 1.5 MB 36.9 MB/s eta 0:00:01\r\u001b[K     |█████████████████████████       | 1.5 MB 36.9 MB/s eta 0:00:01\r\u001b[K     |█████████████████████████▏      | 1.5 MB 36.9 MB/s eta 0:00:01\r\u001b[K     |█████████████████████████▍      | 1.6 MB 36.9 MB/s eta 0:00:01\r\u001b[K     |█████████████████████████▌      | 1.6 MB 36.9 MB/s eta 0:00:01\r\u001b[K     |█████████████████████████▊      | 1.6 MB 36.9 MB/s eta 0:00:01\r\u001b[K     |█████████████████████████▉      | 1.6 MB 36.9 MB/s eta 0:00:01\r\u001b[K     |██████████████████████████      | 1.6 MB 36.9 MB/s eta 0:00:01\r\u001b[K     |██████████████████████████▏     | 1.6 MB 36.9 MB/s eta 0:00:01\r\u001b[K     |██████████████████████████▍     | 1.6 MB 36.9 MB/s eta 0:00:01\r\u001b[K     |██████████████████████████▌     | 1.6 MB 36.9 MB/s eta 0:00:01\r\u001b[K     |██████████████████████████▊     | 1.6 MB 36.9 MB/s eta 0:00:01\r\u001b[K     |██████████████████████████▉     | 1.6 MB 36.9 MB/s eta 0:00:01\r\u001b[K     |███████████████████████████     | 1.7 MB 36.9 MB/s eta 0:00:01\r\u001b[K     |███████████████████████████▏    | 1.7 MB 36.9 MB/s eta 0:00:01\r\u001b[K     |███████████████████████████▍    | 1.7 MB 36.9 MB/s eta 0:00:01\r\u001b[K     |███████████████████████████▌    | 1.7 MB 36.9 MB/s eta 0:00:01\r\u001b[K     |███████████████████████████▊    | 1.7 MB 36.9 MB/s eta 0:00:01\r\u001b[K     |███████████████████████████▉    | 1.7 MB 36.9 MB/s eta 0:00:01\r\u001b[K     |████████████████████████████    | 1.7 MB 36.9 MB/s eta 0:00:01\r\u001b[K     |████████████████████████████▏   | 1.7 MB 36.9 MB/s eta 0:00:01\r\u001b[K     |████████████████████████████▍   | 1.7 MB 36.9 MB/s eta 0:00:01\r\u001b[K     |████████████████████████████▌   | 1.8 MB 36.9 MB/s eta 0:00:01\r\u001b[K     |████████████████████████████▊   | 1.8 MB 36.9 MB/s eta 0:00:01\r\u001b[K     |████████████████████████████▉   | 1.8 MB 36.9 MB/s eta 0:00:01\r\u001b[K     |█████████████████████████████   | 1.8 MB 36.9 MB/s eta 0:00:01\r\u001b[K     |█████████████████████████████▏  | 1.8 MB 36.9 MB/s eta 0:00:01\r\u001b[K     |█████████████████████████████▍  | 1.8 MB 36.9 MB/s eta 0:00:01\r\u001b[K     |█████████████████████████████▌  | 1.8 MB 36.9 MB/s eta 0:00:01\r\u001b[K     |█████████████████████████████▊  | 1.8 MB 36.9 MB/s eta 0:00:01\r\u001b[K     |█████████████████████████████▉  | 1.8 MB 36.9 MB/s eta 0:00:01\r\u001b[K     |██████████████████████████████  | 1.8 MB 36.9 MB/s eta 0:00:01\r\u001b[K     |██████████████████████████████▏ | 1.9 MB 36.9 MB/s eta 0:00:01\r\u001b[K     |██████████████████████████████▍ | 1.9 MB 36.9 MB/s eta 0:00:01\r\u001b[K     |██████████████████████████████▌ | 1.9 MB 36.9 MB/s eta 0:00:01\r\u001b[K     |██████████████████████████████▊ | 1.9 MB 36.9 MB/s eta 0:00:01\r\u001b[K     |██████████████████████████████▉ | 1.9 MB 36.9 MB/s eta 0:00:01\r\u001b[K     |███████████████████████████████ | 1.9 MB 36.9 MB/s eta 0:00:01\r\u001b[K     |███████████████████████████████▏| 1.9 MB 36.9 MB/s eta 0:00:01\r\u001b[K     |███████████████████████████████▍| 1.9 MB 36.9 MB/s eta 0:00:01\r\u001b[K     |███████████████████████████████▌| 1.9 MB 36.9 MB/s eta 0:00:01\r\u001b[K     |███████████████████████████████▊| 1.9 MB 36.9 MB/s eta 0:00:01\r\u001b[K     |███████████████████████████████▉| 2.0 MB 36.9 MB/s eta 0:00:01\r\u001b[K     |████████████████████████████████| 2.0 MB 36.9 MB/s \n",
            "\u001b[?25h"
          ]
        }
      ]
    },
    {
      "cell_type": "code",
      "source": [
        "from google.colab import drive\n",
        "drive.mount('/content/drive')"
      ],
      "metadata": {
        "id": "7xSxUD5n6A4P",
        "outputId": "54eb9d29-0503-459f-fc17-1bd5d1d2175d",
        "colab": {
          "base_uri": "https://localhost:8080/"
        }
      },
      "execution_count": 2,
      "outputs": [
        {
          "output_type": "stream",
          "name": "stdout",
          "text": [
            "Mounted at /content/drive\n"
          ]
        }
      ]
    },
    {
      "cell_type": "code",
      "source": [
        "from IPython.display import clear_output\n",
        "\n",
        "path = '/content/drive/MyDrive/capstone/assets/stage_2_train_images.zip'\n",
        "\n",
        "clear_output(wait=True)\n",
        "!unzip {path}"
      ],
      "metadata": {
        "id": "COAzi1-C6G5e"
      },
      "execution_count": null,
      "outputs": []
    },
    {
      "cell_type": "code",
      "source": [
        "from torch.utils.data import random_split\n",
        "from torch.utils.data import DataLoader\n",
        "from torch.utils.data import Dataset\n",
        "from torchvision.transforms import ToTensor\n",
        "from torch.optim import SGD\n",
        "from torch.optim.lr_scheduler import StepLR\n",
        "import torch\n",
        "import torchvision\n",
        "from torch.profiler import profile, record_function, ProfilerActivity\n",
        "\n",
        "import pydicom as dicom\n",
        "from PIL import Image\n",
        "\n",
        "import sklearn.metrics as metrics\n",
        "from sklearn.model_selection import train_test_split\n",
        "\n",
        "import pandas as pd\n",
        "import numpy as np\n",
        "\n",
        "import matplotlib.pyplot as plt\n",
        "import seaborn as sns\n",
        "import time\n",
        "import os\n",
        "import copy"
      ],
      "metadata": {
        "id": "1lSl2uT68b-B"
      },
      "execution_count": 4,
      "outputs": []
    },
    {
      "cell_type": "code",
      "source": [
        "class CustomImageDataset(Dataset):\n",
        "  def __init__(self, annotations_file, img_dir, indices=None, transform=None, target_transform=None):\n",
        "    if indices:\n",
        "      self.img_labels = pd.read_csv(annotations_file).iloc[indices]\n",
        "    else:\n",
        "      self.img_labels = pd.read_csv(annotations_file)\n",
        "\n",
        "    self.img_dir = img_dir\n",
        "    self.transform = transform\n",
        "    self.target_transform = target_transform\n",
        "\n",
        "  def __len__(self):\n",
        "    return len(self.img_labels)\n",
        "\n",
        "  def __getitem__(self, idx):\n",
        "    img_path = ''.join([os.path.join(self.img_dir, self.img_labels.iloc[idx, 0]), '.dcm'])\n",
        "    \n",
        "    image = dicom.dcmread(img_path)\n",
        "    image = Image.fromarray(image.pixel_array).convert(mode='RGB')\n",
        "\n",
        "    label = self.img_labels.iloc[idx, -1]\n",
        "\n",
        "    if self.transform:\n",
        "        image = self.transform(image)\n",
        "    if self.target_transform:\n",
        "        label = self.target_transform(label)\n",
        "    return image, label\n",
        "\n",
        "  def get_classes(self):\n",
        "    return self.img_labels.iloc[:, -1].unique()\n",
        "\n",
        "  classes = property(get_classes)"
      ],
      "metadata": {
        "id": "zNLXGSDI_kCX"
      },
      "execution_count": 5,
      "outputs": []
    },
    {
      "cell_type": "code",
      "source": [
        "annotations_file = '/content/drive/MyDrive/capstone/assets/stage_2_train_labels.csv.zip'\n",
        "img_dir = '/content'\n",
        "\n",
        "label_df = pd.read_csv(annotations_file)\n",
        "\n",
        "X_train, X_test = train_test_split(label_df, test_size=.2, stratify=label_df.Target, random_state=99)\n",
        "X_val, X_test, = train_test_split(X_test, test_size=.5, stratify=X_test.Target, random_state=99)\n",
        "X_train, X_val, X_test = X_train.index.tolist(), X_val.index.tolist(), (X_test.index.tolist())\n",
        "\n",
        "len(X_train), len(X_val),  len(X_test)"
      ],
      "metadata": {
        "id": "MGHvAZz_JVvY",
        "outputId": "f65153b6-8804-4c26-dd93-5531e7d2b2fe",
        "colab": {
          "base_uri": "https://localhost:8080/"
        }
      },
      "execution_count": 6,
      "outputs": [
        {
          "output_type": "execute_result",
          "data": {
            "text/plain": [
              "(24181, 3023, 3023)"
            ]
          },
          "metadata": {},
          "execution_count": 6
        }
      ]
    },
    {
      "cell_type": "code",
      "source": [
        "mean = [0.5132, 0.5132, 0.5132]\n",
        "std = [0.2168, 0.2168, 0.2168]\n",
        "\n",
        "transforms = dict(\n",
        "  train = torchvision.transforms.Compose([\n",
        "      torchvision.transforms.Resize(256),\n",
        "      torchvision.transforms.CenterCrop(224),\n",
        "      torchvision.transforms.RandomHorizontalFlip(.2  ),\n",
        "      torchvision.transforms.ToTensor(),\n",
        "      torchvision.transforms.Normalize(mean, std),\n",
        "  ]),\n",
        "  val = torchvision.transforms.Compose([\n",
        "      torchvision.transforms.Resize(256),\n",
        "      torchvision.transforms.CenterCrop(224),\n",
        "      torchvision.transforms.ToTensor(),\n",
        "      torchvision.transforms.Normalize(mean, std),\n",
        "  ])\n",
        ")\n",
        "\n",
        "datasets = dict(\n",
        "    train=CustomImageDataset(annotations_file, img_dir, indices=X_train, transform=transforms['train']),\n",
        "    val=CustomImageDataset(annotations_file, img_dir, indices=X_val, transform=transforms['val']),\n",
        "    test=CustomImageDataset(annotations_file, img_dir, indices=X_test, transform=transforms['val']),\n",
        ")"
      ],
      "metadata": {
        "id": "w1nRRSEyAAz1"
      },
      "execution_count": 30,
      "outputs": []
    },
    {
      "cell_type": "code",
      "source": [
        "batch_size = 32\n",
        "\n",
        "data_loaders = dict(\n",
        "    train=DataLoader(datasets['train'], batch_size=batch_size, shuffle=True),\n",
        "    val=DataLoader(datasets['val'], batch_size=batch_size, shuffle=True),\n",
        "    test=DataLoader(datasets['test'], batch_size=batch_size),\n",
        ")\n",
        "\n",
        "dataset_sizes = {x:len(datasets[x]) for x in ('train', 'val', 'test')}\n",
        "\n",
        "print('training steps per epoch:', dataset_sizes['train']//batch_size)\n",
        "print('validation steps per epoch:', dataset_sizes['val']//batch_size)\n",
        "print('test steps per epoch:', dataset_sizes['test']//batch_size)"
      ],
      "metadata": {
        "id": "VjUshz9K1TwC",
        "outputId": "ab2d7d20-3621-42d2-f4d5-2583669e3382",
        "colab": {
          "base_uri": "https://localhost:8080/"
        }
      },
      "execution_count": 31,
      "outputs": [
        {
          "output_type": "stream",
          "name": "stdout",
          "text": [
            "training steps per epoch: 755\n",
            "validation steps per epoch: 94\n",
            "test steps per epoch: 94\n"
          ]
        }
      ]
    },
    {
      "cell_type": "code",
      "source": [
        "# Uncomment and run to get mean and standard deviation\n",
        "# for x, y in data_loaders['train']:\n",
        "#   break\n",
        "\n",
        "# x.mean(dim=(0, 2, 3)), x.std(dim=(0, 2, 3))"
      ],
      "metadata": {
        "id": "uuj4qtQREi_i"
      },
      "execution_count": 32,
      "outputs": []
    },
    {
      "cell_type": "code",
      "source": [
        "feature_extract = False\n",
        "\n",
        "model = torchvision.models.densenet121(weights='DEFAULT')\n",
        "# Freeze all layers if feature extract\n",
        "if feature_extract:\n",
        "  for params in model.parameters():\n",
        "    params.requires_grad=False\n",
        "\n",
        "# add final layer with # outputs in same dimension of labels\n",
        "# these layers will have params.requires_grad=True\n",
        "model.classifier = torch.nn.Sequential(\n",
        "    torch.nn.Linear(model.classifier.in_features, 1))\n",
        "\n",
        "device = torch.device(\"cuda\" if torch.cuda.is_available() else \"cpu\")\n",
        "\n",
        "# If feature extraction, only optimize/update the feautres in the\n",
        "# classifer layer\n",
        "if feature_extract:\n",
        "  params_to_update = []\n",
        "  for name,param in model.named_parameters():\n",
        "    if param.requires_grad == True:\n",
        "      params_to_update.append(param)\n",
        "      print(\"\\t\", name)\n",
        "# Else, we update all features.\n",
        "else:\n",
        "  params_to_update = model.parameters()\n",
        "  for name, param in model.named_parameters():\n",
        "    if param.requires_grad == True:\n",
        "      print(\"\\t\", name)\n",
        "\n",
        "model = model.to(device)\n",
        "\n",
        "zero, one = label_df.iloc[X_train].Target.value_counts().tolist()\n",
        "\n",
        "criterion = torch.nn.BCEWithLogitsLoss(pos_weight=torch.tensor([1, zero/one]))\n",
        "optimizer = SGD(params_to_update, lr=0.001, momentum=0.9)\n",
        "scheduler = StepLR(optimizer, step_size=7, gamma=0.1)"
      ],
      "metadata": {
        "id": "P-jtkmQSHgil"
      },
      "execution_count": null,
      "outputs": []
    },
    {
      "cell_type": "code",
      "source": [
        "for (inputs, labels) in data_loaders['val']:\n",
        "  inputs = inputs.to(device)\n",
        "  labels = labels.to(device)\n",
        "\n",
        "  optimizer.zero_grad()\n",
        "\n",
        "  with torch.set_grad_enabled(False):\n",
        "    outputs = model(inputs)\n",
        "    preds = (torch.nn.Softmax(dim=0)(outputs) >= .5).int()\n",
        "    print(preds, outputs, labels)\n",
        "    # loss = criterion(outputs.squeeze(1), labels)\n",
        "    break\n",
        "    # print(loss)\n",
        "    # break"
      ],
      "metadata": {
        "id": "fx4d1jBkSSnf",
        "outputId": "109d2919-9193-40ed-dc10-b5622532c48c",
        "colab": {
          "base_uri": "https://localhost:8080/"
        }
      },
      "execution_count": 81,
      "outputs": [
        {
          "output_type": "stream",
          "name": "stdout",
          "text": [
            "tensor([[0],\n",
            "        [0],\n",
            "        [0],\n",
            "        [0],\n",
            "        [0],\n",
            "        [0],\n",
            "        [0],\n",
            "        [0],\n",
            "        [0],\n",
            "        [0],\n",
            "        [0],\n",
            "        [0],\n",
            "        [0],\n",
            "        [0],\n",
            "        [0],\n",
            "        [0],\n",
            "        [0],\n",
            "        [0],\n",
            "        [0],\n",
            "        [0],\n",
            "        [0],\n",
            "        [0],\n",
            "        [0],\n",
            "        [0],\n",
            "        [0],\n",
            "        [0],\n",
            "        [0],\n",
            "        [0],\n",
            "        [0],\n",
            "        [0],\n",
            "        [0],\n",
            "        [0]], device='cuda:0', dtype=torch.int32) tensor([[1.2898],\n",
            "        [2.0048],\n",
            "        [0.9444],\n",
            "        [1.2802],\n",
            "        [1.0228],\n",
            "        [1.1969],\n",
            "        [1.0790],\n",
            "        [0.9506],\n",
            "        [1.2107],\n",
            "        [1.0811],\n",
            "        [0.9225],\n",
            "        [1.1468],\n",
            "        [0.7750],\n",
            "        [0.8692],\n",
            "        [0.7071],\n",
            "        [0.5763],\n",
            "        [1.1729],\n",
            "        [1.1821],\n",
            "        [0.8821],\n",
            "        [0.4828],\n",
            "        [1.0762],\n",
            "        [0.6833],\n",
            "        [0.9367],\n",
            "        [1.0997],\n",
            "        [1.0289],\n",
            "        [1.1962],\n",
            "        [1.0095],\n",
            "        [1.1659],\n",
            "        [1.4919],\n",
            "        [0.9275],\n",
            "        [0.7924],\n",
            "        [0.7588]], device='cuda:0') tensor([0, 0, 0, 1, 1, 1, 0, 1, 0, 1, 0, 0, 1, 0, 1, 0, 0, 0, 0, 0, 0, 0, 0, 1,\n",
            "        0, 0, 0, 0, 0, 1, 0, 1], device='cuda:0')\n"
          ]
        }
      ]
    },
    {
      "cell_type": "code",
      "source": [
        "def train_model(model, criterion, optimizer, scheduler, num_epochs):\n",
        "  since = time.time()\n",
        "\n",
        "  best_model_wts = copy.deepcopy(model.state_dict())\n",
        "  best_acc = 0.0\n",
        "  best_loss = 1e+8\n",
        "\n",
        "  for epoch in range(num_epochs):\n",
        "    print(f'Epoch {epoch}/{num_epochs-1}')\n",
        "    print('-' * 10)\n",
        "\n",
        "    for phase in ('train', 'val'):\n",
        "      if phase == 'train':\n",
        "        model.train()\n",
        "      else:\n",
        "        model.eval()\n",
        "\n",
        "      running_loss = 0.0\n",
        "      running_corrects = 0\n",
        "\n",
        "      for (inputs, labels) in data_loaders[phase]:\n",
        "        inputs = inputs.to(device)\n",
        "        labels = labels.to(device)\n",
        "\n",
        "        optimizer.zero_grad()\n",
        "\n",
        "        with torch.set_grad_enabled(phase=='train'):\n",
        "          outputs = model(inputs)\n",
        "          _, preds = torch.max(outputs, 1)\n",
        "          loss = criterion(outputs, labels)\n",
        "\n",
        "          if phase == 'train':\n",
        "            loss.backward()\n",
        "            optimizer.step()\n",
        "\n",
        "        running_loss += loss.item() * inputs.size(0)\n",
        "        running_corrects += torch.sum(preds == labels.data)\n",
        "\n",
        "      if phase == 'train':\n",
        "        scheduler.step()\n",
        "\n",
        "      epoch_loss = running_loss / dataset_sizes[phase]\n",
        "      epoch_acc = running_corrects.double() / dataset_sizes[phase]\n",
        "      lr = next(iter(optimizer.param_groups))['lr']\n",
        "\n",
        "      print(f'{phase} Loss: {epoch_loss:.4f} Acc: {epoch_acc:.4f} LR: {lr:6f}')\n",
        "\n",
        "      # deep copy the model\n",
        "      if phase == 'val' and epoch_loss < best_loss:\n",
        "          best_loss = epoch_loss\n",
        "          best_acc = epoch_acc\n",
        "          best_model_wts = copy.deepcopy(model.state_dict())\n",
        "\n",
        "  time_elapsed = time.time() - since\n",
        "  print(f'Training complete in {time_elapsed // 60:.0f}m {time_elapsed % 60:.0f}s')\n",
        "  print(f'Best val Loss: {best_loss:4f}')\n",
        "  print(f'Best val Acc: {best_acc:4f}')\n",
        "\n",
        "  # load best model weights\n",
        "  model.load_state_dict(best_model_wts)\n",
        "  return model"
      ],
      "metadata": {
        "id": "LgkjpFIBIlDm"
      },
      "execution_count": 50,
      "outputs": []
    },
    {
      "cell_type": "code",
      "source": [
        "model = train_model(model, criterion, optimizer, scheduler, num_epochs=2)"
      ],
      "metadata": {
        "colab": {
          "base_uri": "https://localhost:8080/",
          "height": 355
        },
        "id": "1z3-ShA1QZNv",
        "outputId": "1fe8589b-f69a-4e99-9be6-f61a8f1aba3e"
      },
      "execution_count": 51,
      "outputs": [
        {
          "output_type": "stream",
          "name": "stdout",
          "text": [
            "Epoch 0/1\n",
            "----------\n"
          ]
        },
        {
          "output_type": "error",
          "ename": "ValueError",
          "evalue": "ignored",
          "traceback": [
            "\u001b[0;31m---------------------------------------------------------------------------\u001b[0m",
            "\u001b[0;31mValueError\u001b[0m                                Traceback (most recent call last)",
            "\u001b[0;32m<ipython-input-51-48f83af67304>\u001b[0m in \u001b[0;36m<module>\u001b[0;34m\u001b[0m\n\u001b[0;32m----> 1\u001b[0;31m \u001b[0mmodel\u001b[0m \u001b[0;34m=\u001b[0m \u001b[0mtrain_model\u001b[0m\u001b[0;34m(\u001b[0m\u001b[0mmodel\u001b[0m\u001b[0;34m,\u001b[0m \u001b[0mcriterion\u001b[0m\u001b[0;34m,\u001b[0m \u001b[0moptimizer\u001b[0m\u001b[0;34m,\u001b[0m \u001b[0mscheduler\u001b[0m\u001b[0;34m,\u001b[0m \u001b[0mnum_epochs\u001b[0m\u001b[0;34m=\u001b[0m\u001b[0;36m2\u001b[0m\u001b[0;34m)\u001b[0m\u001b[0;34m\u001b[0m\u001b[0;34m\u001b[0m\u001b[0m\n\u001b[0m",
            "\u001b[0;32m<ipython-input-50-c75efca5ed1a>\u001b[0m in \u001b[0;36mtrain_model\u001b[0;34m(model, criterion, optimizer, scheduler, num_epochs)\u001b[0m\n\u001b[1;32m     28\u001b[0m           \u001b[0moutputs\u001b[0m \u001b[0;34m=\u001b[0m \u001b[0mmodel\u001b[0m\u001b[0;34m(\u001b[0m\u001b[0minputs\u001b[0m\u001b[0;34m)\u001b[0m\u001b[0;34m\u001b[0m\u001b[0;34m\u001b[0m\u001b[0m\n\u001b[1;32m     29\u001b[0m           \u001b[0m_\u001b[0m\u001b[0;34m,\u001b[0m \u001b[0mpreds\u001b[0m \u001b[0;34m=\u001b[0m \u001b[0mtorch\u001b[0m\u001b[0;34m.\u001b[0m\u001b[0mmax\u001b[0m\u001b[0;34m(\u001b[0m\u001b[0moutputs\u001b[0m\u001b[0;34m,\u001b[0m \u001b[0;36m1\u001b[0m\u001b[0;34m)\u001b[0m\u001b[0;34m\u001b[0m\u001b[0;34m\u001b[0m\u001b[0m\n\u001b[0;32m---> 30\u001b[0;31m           \u001b[0mloss\u001b[0m \u001b[0;34m=\u001b[0m \u001b[0mcriterion\u001b[0m\u001b[0;34m(\u001b[0m\u001b[0moutputs\u001b[0m\u001b[0;34m,\u001b[0m \u001b[0mlabels\u001b[0m\u001b[0;34m)\u001b[0m\u001b[0;34m\u001b[0m\u001b[0;34m\u001b[0m\u001b[0m\n\u001b[0m\u001b[1;32m     31\u001b[0m \u001b[0;34m\u001b[0m\u001b[0m\n\u001b[1;32m     32\u001b[0m           \u001b[0;32mif\u001b[0m \u001b[0mphase\u001b[0m \u001b[0;34m==\u001b[0m \u001b[0;34m'train'\u001b[0m\u001b[0;34m:\u001b[0m\u001b[0;34m\u001b[0m\u001b[0;34m\u001b[0m\u001b[0m\n",
            "\u001b[0;32m/usr/local/lib/python3.7/dist-packages/torch/nn/modules/module.py\u001b[0m in \u001b[0;36m_call_impl\u001b[0;34m(self, *input, **kwargs)\u001b[0m\n\u001b[1;32m   1128\u001b[0m         if not (self._backward_hooks or self._forward_hooks or self._forward_pre_hooks or _global_backward_hooks\n\u001b[1;32m   1129\u001b[0m                 or _global_forward_hooks or _global_forward_pre_hooks):\n\u001b[0;32m-> 1130\u001b[0;31m             \u001b[0;32mreturn\u001b[0m \u001b[0mforward_call\u001b[0m\u001b[0;34m(\u001b[0m\u001b[0;34m*\u001b[0m\u001b[0minput\u001b[0m\u001b[0;34m,\u001b[0m \u001b[0;34m**\u001b[0m\u001b[0mkwargs\u001b[0m\u001b[0;34m)\u001b[0m\u001b[0;34m\u001b[0m\u001b[0;34m\u001b[0m\u001b[0m\n\u001b[0m\u001b[1;32m   1131\u001b[0m         \u001b[0;31m# Do not call functions when jit is used\u001b[0m\u001b[0;34m\u001b[0m\u001b[0;34m\u001b[0m\u001b[0;34m\u001b[0m\u001b[0m\n\u001b[1;32m   1132\u001b[0m         \u001b[0mfull_backward_hooks\u001b[0m\u001b[0;34m,\u001b[0m \u001b[0mnon_full_backward_hooks\u001b[0m \u001b[0;34m=\u001b[0m \u001b[0;34m[\u001b[0m\u001b[0;34m]\u001b[0m\u001b[0;34m,\u001b[0m \u001b[0;34m[\u001b[0m\u001b[0;34m]\u001b[0m\u001b[0;34m\u001b[0m\u001b[0;34m\u001b[0m\u001b[0m\n",
            "\u001b[0;32m/usr/local/lib/python3.7/dist-packages/torch/nn/modules/loss.py\u001b[0m in \u001b[0;36mforward\u001b[0;34m(self, input, target)\u001b[0m\n\u001b[1;32m    715\u001b[0m                                                   \u001b[0mself\u001b[0m\u001b[0;34m.\u001b[0m\u001b[0mweight\u001b[0m\u001b[0;34m,\u001b[0m\u001b[0;34m\u001b[0m\u001b[0;34m\u001b[0m\u001b[0m\n\u001b[1;32m    716\u001b[0m                                                   \u001b[0mpos_weight\u001b[0m\u001b[0;34m=\u001b[0m\u001b[0mself\u001b[0m\u001b[0;34m.\u001b[0m\u001b[0mpos_weight\u001b[0m\u001b[0;34m,\u001b[0m\u001b[0;34m\u001b[0m\u001b[0;34m\u001b[0m\u001b[0m\n\u001b[0;32m--> 717\u001b[0;31m                                                   reduction=self.reduction)\n\u001b[0m\u001b[1;32m    718\u001b[0m \u001b[0;34m\u001b[0m\u001b[0m\n\u001b[1;32m    719\u001b[0m \u001b[0;34m\u001b[0m\u001b[0m\n",
            "\u001b[0;32m/usr/local/lib/python3.7/dist-packages/torch/nn/functional.py\u001b[0m in \u001b[0;36mbinary_cross_entropy_with_logits\u001b[0;34m(input, target, weight, size_average, reduce, reduction, pos_weight)\u001b[0m\n\u001b[1;32m   3146\u001b[0m \u001b[0;34m\u001b[0m\u001b[0m\n\u001b[1;32m   3147\u001b[0m     \u001b[0;32mif\u001b[0m \u001b[0;32mnot\u001b[0m \u001b[0;34m(\u001b[0m\u001b[0mtarget\u001b[0m\u001b[0;34m.\u001b[0m\u001b[0msize\u001b[0m\u001b[0;34m(\u001b[0m\u001b[0;34m)\u001b[0m \u001b[0;34m==\u001b[0m \u001b[0minput\u001b[0m\u001b[0;34m.\u001b[0m\u001b[0msize\u001b[0m\u001b[0;34m(\u001b[0m\u001b[0;34m)\u001b[0m\u001b[0;34m)\u001b[0m\u001b[0;34m:\u001b[0m\u001b[0;34m\u001b[0m\u001b[0;34m\u001b[0m\u001b[0m\n\u001b[0;32m-> 3148\u001b[0;31m         \u001b[0;32mraise\u001b[0m \u001b[0mValueError\u001b[0m\u001b[0;34m(\u001b[0m\u001b[0;34m\"Target size ({}) must be the same as input size ({})\"\u001b[0m\u001b[0;34m.\u001b[0m\u001b[0mformat\u001b[0m\u001b[0;34m(\u001b[0m\u001b[0mtarget\u001b[0m\u001b[0;34m.\u001b[0m\u001b[0msize\u001b[0m\u001b[0;34m(\u001b[0m\u001b[0;34m)\u001b[0m\u001b[0;34m,\u001b[0m \u001b[0minput\u001b[0m\u001b[0;34m.\u001b[0m\u001b[0msize\u001b[0m\u001b[0;34m(\u001b[0m\u001b[0;34m)\u001b[0m\u001b[0;34m)\u001b[0m\u001b[0;34m)\u001b[0m\u001b[0;34m\u001b[0m\u001b[0;34m\u001b[0m\u001b[0m\n\u001b[0m\u001b[1;32m   3149\u001b[0m \u001b[0;34m\u001b[0m\u001b[0m\n\u001b[1;32m   3150\u001b[0m     \u001b[0;32mreturn\u001b[0m \u001b[0mtorch\u001b[0m\u001b[0;34m.\u001b[0m\u001b[0mbinary_cross_entropy_with_logits\u001b[0m\u001b[0;34m(\u001b[0m\u001b[0minput\u001b[0m\u001b[0;34m,\u001b[0m \u001b[0mtarget\u001b[0m\u001b[0;34m,\u001b[0m \u001b[0mweight\u001b[0m\u001b[0;34m,\u001b[0m \u001b[0mpos_weight\u001b[0m\u001b[0;34m,\u001b[0m \u001b[0mreduction_enum\u001b[0m\u001b[0;34m)\u001b[0m\u001b[0;34m\u001b[0m\u001b[0;34m\u001b[0m\u001b[0m\n",
            "\u001b[0;31mValueError\u001b[0m: Target size (torch.Size([32])) must be the same as input size (torch.Size([32, 2]))"
          ]
        }
      ]
    },
    {
      "cell_type": "code",
      "source": [
        "running_labels = torch.Tensor().to(device)\n",
        "running_outputs = torch.Tensor(0, 2).to(device)\n",
        "\n",
        "with torch.no_grad():\n",
        "  model.eval()\n",
        "  for i, (inputs, labels) in enumerate(data_loaders['test']):\n",
        "    inputs, labels = inputs.to(device), labels.to(device)\n",
        "\n",
        "    outputs = model(inputs)\n",
        "\n",
        "    running_labels = torch.cat((running_labels, labels), dim=0)\n",
        "    running_outputs = torch.cat((running_outputs, outputs), dim=0)"
      ],
      "metadata": {
        "id": "0q_N4b_l-kbU"
      },
      "execution_count": null,
      "outputs": []
    },
    {
      "cell_type": "code",
      "source": [
        "y_true = running_labels.cpu().numpy()\n",
        "y_pred = running_outputs.cpu().numpy().argmax(axis=1)\n",
        "y_proba = torch.nn.Softmax(dim=1)(running_outputs).cpu().numpy()[:, 1]\n",
        "\n",
        "precision = metrics.precision_score(y_true, y_pred)\n",
        "recall = metrics.recall_score(y_true, y_pred)\n",
        "f1 = metrics.f1_score(y_true, y_pred)\n",
        "\n",
        "print('precision:\\t{:.4f}'.format(precision))\n",
        "print('recall:\\t\\t{:.4f}'.format(recall))\n",
        "print('f1:\\t\\t{:.4f}'.format(f1))\n",
        "print()\n",
        "\n",
        "fig = plt.figure(dpi=75)\n",
        "ax = plt.gca()\n",
        "sns.heatmap(metrics.confusion_matrix(y_true, y_pred), annot=True, fmt=',', cmap='Blues')\n",
        "fig.tight_layout()\n",
        "fig.show()"
      ],
      "metadata": {
        "id": "mkr9m55UOvd7",
        "outputId": "69a42bed-8114-43af-fad6-d72160272b78",
        "colab": {
          "base_uri": "https://localhost:8080/",
          "height": 381
        }
      },
      "execution_count": null,
      "outputs": [
        {
          "output_type": "stream",
          "name": "stdout",
          "text": [
            "precision:\t0.7474\n",
            "recall:\t\t0.5293\n",
            "f1:\t\t0.6197\n",
            "\n"
          ]
        },
        {
          "output_type": "display_data",
          "data": {
            "text/plain": [
              "<Figure size 450x300 with 2 Axes>"
            ],
            "image/png": "[encoded data removed]"
          },
          "metadata": {
            "needs_background": "light"
          }
        }
      ]
    },
    {
      "cell_type": "code",
      "source": [
        "fpr, tpr, _ = metrics.roc_curve(y_true, y_proba)\n",
        "roc_auc_score = metrics.roc_auc_score(y_true, y_proba)\n",
        "\n",
        "no_skill = np.linspace(0, 1, 100)\n",
        "\n",
        "plt.figure(dpi=150)\n",
        "plt.plot(fpr, tpr, label='AUC {:.2f}'.format(roc_auc_score))\n",
        "plt.plot(no_skill, no_skill, '--r')\n",
        "plt.legend(loc='lower right')\n",
        "plt.xlim(0, 1)\n",
        "plt.ylim(0, 1)\n",
        "plt.ylabel('True-positive Rate')\n",
        "plt.xlabel('False-positive Rate')\n",
        "plt.tight_layout()\n",
        "plt.show()"
      ],
      "metadata": {
        "id": "6ptiSB83BYGD",
        "outputId": "05ccab82-0a91-4668-fc28-f667be4c8ff6",
        "colab": {
          "base_uri": "https://localhost:8080/",
          "height": 602
        }
      },
      "execution_count": null,
      "outputs": [
        {
          "output_type": "display_data",
          "data": {
            "text/plain": [
              "<Figure size 900x600 with 1 Axes>"
            ],
            "image/png": "[encoded data removed]"
          },
          "metadata": {
            "needs_background": "light"
          }
        }
      ]
    },
    {
      "cell_type": "code",
      "source": [
        "precision, recall, _ = metrics.precision_recall_curve(y_true, y_proba)\n",
        "auprc_score = metrics.auc(recall, precision)\n",
        "\n",
        "plt.figure(dpi=150)\n",
        "plt.plot(recall, precision, label='AUC {:.2f}'.format(auprc_score))\n",
        "plt.legend(loc='lower right')\n",
        "plt.xlim(0, 1)\n",
        "plt.ylim(0, 1)\n",
        "plt.ylabel('Precision')\n",
        "plt.xlabel('Recall')\n",
        "plt.tight_layout()\n",
        "plt.show()"
      ],
      "metadata": {
        "id": "HCQJXI7zM0lY",
        "outputId": "5e29f678-60a4-46f8-82de-6ee38ae02e25",
        "colab": {
          "base_uri": "https://localhost:8080/",
          "height": 602
        }
      },
      "execution_count": null,
      "outputs": [
        {
          "output_type": "display_data",
          "data": {
            "text/plain": [
              "<Figure size 900x600 with 1 Axes>"
            ],
            "image/png": "[encoded data removed]"
          },
          "metadata": {
            "needs_background": "light"
          }
        }
      ]
    }
  ]
}