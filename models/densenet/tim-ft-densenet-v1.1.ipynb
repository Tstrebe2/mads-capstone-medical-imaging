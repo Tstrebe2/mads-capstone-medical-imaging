{
  "nbformat": 4,
  "nbformat_minor": 0,
  "metadata": {
    "colab": {
      "provenance": [],
      "machine_shape": "hm",
      "authorship_tag": "ABX9TyP421enwMl6NAR/4TTEM8Mz",
      "include_colab_link": true
    },
    "kernelspec": {
      "name": "python3",
      "display_name": "Python 3"
    },
    "language_info": {
      "name": "python"
    },
    "accelerator": "GPU",
    "gpuClass": "premium"
  },
  "cells": [
    {
      "cell_type": "markdown",
      "metadata": {
        "id": "view-in-github",
        "colab_type": "text"
      },
      "source": [
        "<a href=\"https://colab.research.google.com/github/Tstrebe2/umich-mads-capstone-project/blob/main/models/densenet/tim-ft-densenet-v1.1.ipynb\" target=\"_parent\"><img src=\"https://colab.research.google.com/assets/colab-badge.svg\" alt=\"Open In Colab\"/></a>"
      ]
    },
    {
      "cell_type": "code",
      "source": [
        "import sys\n",
        "\n",
        "!{sys.executable} -m pip install pydicom -q"
      ],
      "metadata": {
        "id": "JduPGuQNzp7-"
      },
      "execution_count": 1,
      "outputs": []
    },
    {
      "cell_type": "code",
      "source": [
        "from google.colab import drive\n",
        "drive.mount('/content/drive')"
      ],
      "metadata": {
        "id": "7xSxUD5n6A4P",
        "outputId": "726671db-1c21-4bde-cf27-0d48d0e517e1",
        "colab": {
          "base_uri": "https://localhost:8080/"
        }
      },
      "execution_count": 6,
      "outputs": [
        {
          "output_type": "stream",
          "name": "stdout",
          "text": [
            "Mounted at /content/drive\n"
          ]
        }
      ]
    },
    {
      "cell_type": "code",
      "source": [
        "path = '/content/drive/MyDrive/capstone/assets/stage_2_train_images.zip'\n",
        "!mkdir -p /content/images\n",
        "!unzip -qq {path} -d /content/images"
      ],
      "metadata": {
        "id": "COAzi1-C6G5e"
      },
      "execution_count": 9,
      "outputs": []
    },
    {
      "cell_type": "code",
      "source": [
        "from torch.utils.data import DataLoader, Dataset\n",
        "from torch.optim.lr_scheduler import StepLR\n",
        "import torch.nn.functional as F\n",
        "import torch\n",
        "import torchvision\n",
        "\n",
        "import pydicom as dicom\n",
        "from PIL import Image\n",
        "\n",
        "import sklearn.metrics as metrics\n",
        "from sklearn.model_selection import train_test_split\n",
        "\n",
        "import pandas as pd\n",
        "import numpy as np\n",
        "\n",
        "from functools import partial\n",
        "import matplotlib.pyplot as plt\n",
        "import time\n",
        "import os\n",
        "import copy"
      ],
      "metadata": {
        "id": "1lSl2uT68b-B"
      },
      "execution_count": 1,
      "outputs": []
    },
    {
      "cell_type": "code",
      "source": [
        "class CustomImageDataset(Dataset):\n",
        "  def __init__(self, annotations_file, img_dir, indices=None, transform=None, target_transform=None):\n",
        "    if indices:\n",
        "      self.img_labels = pd.read_csv(annotations_file).iloc[indices]\n",
        "    else:\n",
        "      self.img_labels = pd.read_csv(annotations_file)\n",
        "\n",
        "    self.img_dir = img_dir\n",
        "    self.transform = transform\n",
        "    self.target_transform = target_transform\n",
        "\n",
        "  def __len__(self):\n",
        "    return len(self.img_labels)\n",
        "\n",
        "  def __getitem__(self, idx):\n",
        "    img_path = ''.join([os.path.join(self.img_dir, self.img_labels.iloc[idx, 0]), '.dcm'])\n",
        "    \n",
        "    image = dicom.dcmread(img_path)\n",
        "    image = Image.fromarray(image.pixel_array)\n",
        "\n",
        "    label = self.img_labels.iloc[idx, -1]\n",
        "\n",
        "    if self.transform:\n",
        "        image = self.transform(image)\n",
        "    if self.target_transform:\n",
        "        label = self.target_transform(label)\n",
        "    return image, label"
      ],
      "metadata": {
        "id": "zNLXGSDI_kCX"
      },
      "execution_count": 2,
      "outputs": []
    },
    {
      "cell_type": "code",
      "source": [
        "annotations_file = '/content/drive/MyDrive/capstone/assets/stage_2_train_labels.csv.zip'\n",
        "img_dir = '/content/images'\n",
        "\n",
        "label_df = pd.read_csv(annotations_file).groupby('patientId').first().reset_index()\n",
        "\n",
        "X_train, X_test = train_test_split(label_df, test_size=.2, stratify=label_df.Target, random_state=99)\n",
        "X_val, X_test, = train_test_split(X_test, test_size=.5, stratify=X_test.Target, random_state=99)\n",
        "X_train, X_val, X_test = X_train.index.tolist(), X_val.index.tolist(), (X_test.index.tolist())\n",
        "\n",
        "len(X_train), len(X_val),  len(X_test)"
      ],
      "metadata": {
        "id": "MGHvAZz_JVvY",
        "outputId": "0fb64143-296f-4ac3-d7cc-5d8cf3c11e59",
        "colab": {
          "base_uri": "https://localhost:8080/"
        }
      },
      "execution_count": 3,
      "outputs": [
        {
          "output_type": "execute_result",
          "data": {
            "text/plain": [
              "(21347, 2668, 2669)"
            ]
          },
          "metadata": {},
          "execution_count": 3
        }
      ]
    },
    {
      "cell_type": "code",
      "source": [
        "mean = [0.5173]\n",
        "std = [0.2167]\n",
        "\n",
        "transforms = dict(\n",
        "  train = torchvision.transforms.Compose([\n",
        "      torchvision.transforms.Resize(256),\n",
        "      torchvision.transforms.CenterCrop(224),\n",
        "      torchvision.transforms.RandomHorizontalFlip(.2),\n",
        "      torchvision.transforms.ToTensor(),\n",
        "      torchvision.transforms.Normalize(mean, std),\n",
        "  ]),\n",
        "  val = torchvision.transforms.Compose([\n",
        "      torchvision.transforms.Resize(256),\n",
        "      torchvision.transforms.CenterCrop(224),\n",
        "      torchvision.transforms.ToTensor(),\n",
        "      torchvision.transforms.Normalize(mean, std),\n",
        "  ])\n",
        ")\n",
        "\n",
        "target_transforms = torchvision.transforms.Compose([\n",
        "  torch.tensor,\n",
        "  partial(F.one_hot, num_classes=2),\n",
        "])\n",
        "\n",
        "datasets = dict(\n",
        "    train=CustomImageDataset(annotations_file, img_dir, indices=X_train, transform=transforms['train'], target_transform=target_transforms),\n",
        "    val=CustomImageDataset(annotations_file, img_dir, indices=X_val, transform=transforms['val'], target_transform=target_transforms),\n",
        "    test=CustomImageDataset(annotations_file, img_dir, indices=X_test, transform=transforms['val'], target_transform=target_transforms),\n",
        ")"
      ],
      "metadata": {
        "id": "w1nRRSEyAAz1"
      },
      "execution_count": 4,
      "outputs": []
    },
    {
      "cell_type": "code",
      "source": [
        "batch_size = 32\n",
        "\n",
        "data_loaders = dict(\n",
        "    train=DataLoader(datasets['train'], batch_size=batch_size, shuffle=True),\n",
        "    val=DataLoader(datasets['val'], batch_size=batch_size, shuffle=True),\n",
        "    test=DataLoader(datasets['test'], batch_size=batch_size),\n",
        ")\n",
        "\n",
        "dataset_sizes = {x:len(datasets[x]) for x in ('train', 'val', 'test')}\n",
        "\n",
        "print('training steps per epoch:', dataset_sizes['train']//batch_size)\n",
        "print('validation steps per epoch:', dataset_sizes['val']//batch_size)\n",
        "print('test steps per epoch:', dataset_sizes['test']//batch_size)"
      ],
      "metadata": {
        "id": "VjUshz9K1TwC",
        "outputId": "a54a1488-1e30-420c-ba7c-7c16efb089ba",
        "colab": {
          "base_uri": "https://localhost:8080/"
        }
      },
      "execution_count": 5,
      "outputs": [
        {
          "output_type": "stream",
          "name": "stdout",
          "text": [
            "training steps per epoch: 667\n",
            "validation steps per epoch: 83\n",
            "test steps per epoch: 83\n"
          ]
        }
      ]
    },
    {
      "cell_type": "code",
      "source": [
        "# Uncomment and run to get mean and standard deviation\n",
        "# for x, y in data_loaders['train']:\n",
        "#   break\n",
        "\n",
        "# x.mean(), x.std()"
      ],
      "metadata": {
        "id": "uuj4qtQREi_i"
      },
      "execution_count": 40,
      "outputs": []
    },
    {
      "cell_type": "code",
      "source": [
        "model = torchvision.models.densenet201(weights='DEFAULT')\n",
        "# Change first layer to from 3 channel input to 1.\n",
        "model.features.conv0 = torch.nn.Conv2d(1, 64, kernel_size=(7, 7), stride=(2, 2), padding=(3, 3), bias=False)\n",
        "# add final layer with # outputs in same dimension of labels\n",
        "# these layers will have params.requires_grad=True\n",
        "model.classifier = torch.nn.Sequential(\n",
        "    torch.nn.Linear(model.classifier.in_features, 2))\n",
        "\n",
        "device = torch.device(\"cuda\" if torch.cuda.is_available() else \"cpu\")\n",
        "\n",
        "model = model.to(device)\n",
        "\n",
        "zero, one = label_df.iloc[X_train].Target.value_counts().tolist()\n",
        "\n",
        "criterion = torch.nn.BCEWithLogitsLoss(pos_weight=torch.tensor([1.0, zero/one]).to(device))\n",
        "optimizer = torch.optim.SGD(model.parameters(), lr=0.001, momentum=0.9)\n",
        "scheduler = StepLR(optimizer, step_size=7, gamma=0.1)"
      ],
      "metadata": {
        "id": "P-jtkmQSHgil"
      },
      "execution_count": 6,
      "outputs": []
    },
    {
      "cell_type": "code",
      "source": [
        "def train_model(model, criterion, optimizer, scheduler, num_epochs):\n",
        "  since = time.time()\n",
        "\n",
        "  best_model_wts = copy.deepcopy(model.state_dict())\n",
        "  best_acc = 0.0\n",
        "  best_loss = 1e+8\n",
        "\n",
        "  for epoch in range(num_epochs):\n",
        "    print(f'Epoch {epoch}/{num_epochs-1}')\n",
        "    print('-' * 10)\n",
        "\n",
        "    for phase in ('train', 'val'):\n",
        "      if phase == 'train':\n",
        "        model.train()\n",
        "      else:\n",
        "        model.eval()\n",
        "\n",
        "      running_loss = 0.0\n",
        "      running_corrects = 0\n",
        "\n",
        "      for (inputs, labels) in data_loaders[phase]:\n",
        "        inputs = inputs.to(device)\n",
        "        labels = labels.float().to(device)\n",
        "\n",
        "        optimizer.zero_grad()\n",
        "\n",
        "        with torch.set_grad_enabled(phase=='train'):\n",
        "          outputs = model(inputs)\n",
        "          preds = outputs.argmax(dim=1)\n",
        "          loss = criterion(outputs, labels)\n",
        "\n",
        "          if phase == 'train':\n",
        "            loss.backward()\n",
        "            optimizer.step()\n",
        "\n",
        "        running_loss += loss.item() * inputs.size(0)\n",
        "        running_corrects += torch.sum(preds == labels.argmax(dim=1).data)\n",
        "\n",
        "      if phase == 'train':\n",
        "        scheduler.step()\n",
        "\n",
        "      epoch_loss = running_loss / dataset_sizes[phase]\n",
        "      epoch_acc = running_corrects.double() / dataset_sizes[phase]\n",
        "      lr = next(iter(optimizer.param_groups))['lr']\n",
        "\n",
        "      print(f'{phase} Loss: {epoch_loss:.4f} Acc: {epoch_acc:.4f} LR: {lr:6f}')\n",
        "\n",
        "      # deep copy the model\n",
        "      if phase == 'val' and epoch_loss < best_loss:\n",
        "          best_loss = epoch_loss\n",
        "          best_acc = epoch_acc\n",
        "          best_model_wts = copy.deepcopy(model.state_dict())\n",
        "\n",
        "  time_elapsed = time.time() - since\n",
        "  print(f'Training complete in {time_elapsed // 60:.0f}m {time_elapsed % 60:.0f}s')\n",
        "  print(f'Best val Loss: {best_loss:4f}')\n",
        "  print(f'Best val Acc: {best_acc:4f}')\n",
        "\n",
        "  # load best model weights\n",
        "  model.load_state_dict(best_model_wts)\n",
        "  return model"
      ],
      "metadata": {
        "id": "LgkjpFIBIlDm"
      },
      "execution_count": 11,
      "outputs": []
    },
    {
      "cell_type": "code",
      "source": [
        "model = train_model(model, criterion, optimizer, scheduler, num_epochs=6)"
      ],
      "metadata": {
        "colab": {
          "base_uri": "https://localhost:8080/"
        },
        "id": "1z3-ShA1QZNv",
        "outputId": "cd1626fb-0aa2-4a56-da60-8842f3af285f"
      },
      "execution_count": null,
      "outputs": [
        {
          "output_type": "stream",
          "name": "stdout",
          "text": [
            "Epoch 0/5\n",
            "----------\n"
          ]
        }
      ]
    },
    {
      "cell_type": "code",
      "source": [
        "running_labels = torch.Tensor(0, 1).to(device)\n",
        "running_outputs = torch.Tensor(0, 1).to(device)\n",
        "\n",
        "with torch.no_grad():\n",
        "  model.eval()\n",
        "  for i, (inputs, labels) in enumerate(data_loaders['test']):\n",
        "    inputs, labels = inputs.to(device), labels.reshape(-1, 1).float().to(device)\n",
        "\n",
        "    outputs = model(inputs)\n",
        "\n",
        "    running_labels = torch.cat((running_labels, labels), dim=0)\n",
        "    running_outputs = torch.cat((running_outputs, outputs), dim=0)"
      ],
      "metadata": {
        "id": "0q_N4b_l-kbU"
      },
      "execution_count": null,
      "outputs": []
    },
    {
      "cell_type": "code",
      "source": [
        "y_true = running_labels.cpu().numpy()\n",
        "y_pred = (running_outputs>=0.0).float().cpu().numpy()\n",
        "y_proba = torch.nn.Sigmoid()(running_outputs).cpu().numpy()\n",
        "\n",
        "precision = metrics.precision_score(y_true, y_pred)\n",
        "recall = metrics.recall_score(y_true, y_pred)\n",
        "f1 = metrics.f1_score(y_true, y_pred)\n",
        "\n",
        "print('precision:\\t{:.4f}'.format(precision))\n",
        "print('recall:\\t\\t{:.4f}'.format(recall))\n",
        "print('f1:\\t\\t{:.4f}'.format(f1))\n",
        "print()\n",
        "\n",
        "fig = plt.figure(dpi=75)\n",
        "ax = plt.gca()\n",
        "sns.heatmap(metrics.confusion_matrix(y_true, y_pred), annot=True, fmt=',', cmap='Blues')\n",
        "fig.tight_layout()\n",
        "fig.show()"
      ],
      "metadata": {
        "id": "mkr9m55UOvd7",
        "outputId": "aa162ec5-20f1-44c3-f69c-6a256fcf4caa",
        "colab": {
          "base_uri": "https://localhost:8080/",
          "height": 382
        }
      },
      "execution_count": null,
      "outputs": [
        {
          "output_type": "stream",
          "name": "stdout",
          "text": [
            "precision:\t0.7025\n",
            "recall:\t\t0.8546\n",
            "f1:\t\t0.7711\n",
            "\n"
          ]
        },
        {
          "output_type": "display_data",
          "data": {
            "text/plain": [
              "<Figure size 450x300 with 2 Axes>"
            ],
            "image/png": "[encoded data removed]"
          },
          "metadata": {
            "needs_background": "light"
          }
        }
      ]
    },
    {
      "cell_type": "code",
      "source": [
        "fpr, tpr, _ = metrics.roc_curve(y_true, y_proba)\n",
        "roc_auc_score = metrics.roc_auc_score(y_true, y_proba)\n",
        "\n",
        "no_skill = np.linspace(0, 1, 100)\n",
        "\n",
        "plt.figure(dpi=150)\n",
        "plt.plot(fpr, tpr, label='AUC {:.2f}'.format(roc_auc_score))\n",
        "plt.plot(no_skill, no_skill, '--r')\n",
        "plt.legend(loc='lower right')\n",
        "plt.xlim(0, 1)\n",
        "plt.ylim(0, 1)\n",
        "plt.ylabel('True-positive Rate')\n",
        "plt.xlabel('False-positive Rate')\n",
        "plt.tight_layout()\n",
        "plt.show()"
      ],
      "metadata": {
        "id": "6ptiSB83BYGD",
        "outputId": "ae7fbff5-40a5-427d-f637-61a07e7ca449",
        "colab": {
          "base_uri": "https://localhost:8080/",
          "height": 602
        }
      },
      "execution_count": null,
      "outputs": [
        {
          "output_type": "display_data",
          "data": {
            "text/plain": [
              "<Figure size 900x600 with 1 Axes>"
            ],
            "image/png": "[encoded data removed]"
          },
          "metadata": {
            "needs_background": "light"
          }
        }
      ]
    },
    {
      "cell_type": "code",
      "source": [
        "precision, recall, _ = metrics.precision_recall_curve(y_true, y_proba)\n",
        "auprc_score = metrics.auc(recall, precision)\n",
        "\n",
        "plt.figure(dpi=150)\n",
        "plt.plot(recall, precision, label='AUC {:.2f}'.format(auprc_score))\n",
        "plt.legend(loc='lower right')\n",
        "plt.xlim(0, 1)\n",
        "plt.ylim(0, 1)\n",
        "plt.ylabel('Precision')\n",
        "plt.xlabel('Recall')\n",
        "plt.tight_layout()\n",
        "plt.show()"
      ],
      "metadata": {
        "id": "HCQJXI7zM0lY",
        "outputId": "2cce31b4-0342-4d38-f1b7-47d7193db73b",
        "colab": {
          "base_uri": "https://localhost:8080/",
          "height": 602
        }
      },
      "execution_count": null,
      "outputs": [
        {
          "output_type": "display_data",
          "data": {
            "text/plain": [
              "<Figure size 900x600 with 1 Axes>"
            ],
            "image/png": "[encoded data removed]"
          },
          "metadata": {
            "needs_background": "light"
          }
        }
      ]
    },
    {
      "cell_type": "code",
      "source": [
        "# Save model\n",
        "path = '/content/drive/MyDrive/capstone/models/tim-densenet-121-ft'\n",
        "\n",
        "torch.save({\n",
        "    'train_ix':X_train, \n",
        "    'val_ix':X_val, \n",
        "    'test_ix':X_test,\n",
        "    'model_state_dict': model.state_dict(),\n",
        "    'optimizer_state_dict': optimizer.state_dict(),\n",
        "  },\n",
        "  path\n",
        ")"
      ],
      "metadata": {
        "id": "qVEnyHpxbYGJ"
      },
      "execution_count": null,
      "outputs": []
    }
  ]
}