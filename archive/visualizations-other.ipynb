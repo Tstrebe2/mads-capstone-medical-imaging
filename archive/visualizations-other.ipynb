{
 "cells": [
  {
   "cell_type": "code",
   "execution_count": 3,
   "metadata": {
    "executionInfo": {
     "elapsed": 136,
     "status": "ok",
     "timestamp": 1670035823721,
     "user": {
      "displayName": "Austin Geary",
      "userId": "04443240831720776372"
     },
     "user_tz": 300
    },
    "id": "N2ryI3fXgv_5"
   },
   "outputs": [],
   "source": [
    "import pandas as pd\n",
    "import numpy as np\n",
    "import seaborn as sns\n",
    "import matplotlib.pyplot as plt\n",
    "import seaborn as sns\n",
    "import os"
   ]
  },
  {
   "cell_type": "code",
   "execution_count": 4,
   "metadata": {
    "executionInfo": {
     "elapsed": 1334,
     "status": "ok",
     "timestamp": 1670031219311,
     "user": {
      "displayName": "Austin Geary",
      "userId": "04443240831720776372"
     },
     "user_tz": 300
    },
    "id": "xvRUPZnhhMsQ"
   },
   "outputs": [],
   "source": [
    "ix = os.getcwd().index('umich-mads-capstone-project')\n",
    "ROOT_PATH = os.path.join(os.getcwd()[:ix], 'umich-mads-capstone-project')\n",
    "\n",
    "patient_data_path = os.path.join(ROOT_PATH, 'data/rsna/rsna-patient-details.csv')\n",
    "\n",
    "df = pd.read_csv(patient_data_path)"
   ]
  },
  {
   "cell_type": "code",
   "execution_count": 6,
   "metadata": {
    "executionInfo": {
     "elapsed": 3,
     "status": "ok",
     "timestamp": 1670031219311,
     "user": {
      "displayName": "Austin Geary",
      "userId": "04443240831720776372"
     },
     "user_tz": 300
    },
    "id": "hEyT-o_YjZhT"
   },
   "outputs": [],
   "source": [
    "df = df[df['patient_age'] <= 100]"
   ]
  },
  {
   "cell_type": "code",
   "execution_count": 8,
   "metadata": {
    "executionInfo": {
     "elapsed": 820,
     "status": "ok",
     "timestamp": 1670031220129,
     "user": {
      "displayName": "Austin Geary",
      "userId": "04443240831720776372"
     },
     "user_tz": 300
    },
    "id": "mEUdiMW1oqwv"
   },
   "outputs": [],
   "source": [
    "def confusion(x):\n",
    "  if x['target'] == 1 and x['rsna_densenet_proba'] >= 0.5:\n",
    "    return 'TP'\n",
    "  elif x['target'] == 0 and x['rsna_densenet_proba'] >= 0.5:\n",
    "    return 'FP'\n",
    "  elif x['target'] == 0 and x['rsna_densenet_proba'] < 0.5:\n",
    "    return 'TN'\n",
    "  elif x['target'] == 1 and x['rsna_densenet_proba'] < 0.5:\n",
    "    return 'FN'\n",
    "\n",
    "df['confusion'] = df.apply(lambda x: confusion(x), axis=1)"
   ]
  },
  {
   "cell_type": "code",
   "execution_count": 9,
   "metadata": {
    "executionInfo": {
     "elapsed": 123,
     "status": "ok",
     "timestamp": 1670032910835,
     "user": {
      "displayName": "Austin Geary",
      "userId": "04443240831720776372"
     },
     "user_tz": 300
    },
    "id": "ybNIDWWIsG3o"
   },
   "outputs": [],
   "source": [
    "def age_bracket(x):\n",
    "  if 0 <= x <= 1:\n",
    "    return 'Infant 1 year-old'\n",
    "  elif 2 <= x <= 5:\n",
    "    return 'Preschool (2-5)'\n",
    "  elif 6 <= x <= 12:\n",
    "    return 'Child (6-12)'\n",
    "  elif 13 <= x <= 18:\n",
    "    return 'Adolescent (13-18)'\n",
    "  elif 19 <= x <= 44:\n",
    "    return 'Adult (19-44)'\n",
    "  elif 45 <= x <= 64:\n",
    "    return 'Middle Age (45-64)'\n",
    "  elif 65 <= x <= 79:\n",
    "    return 'Aged (45-64)'\n",
    "  elif  x >= 80:\n",
    "    return 'Aged (80+)'\n",
    "\n",
    "df['age_bracket'] = df['patient_age'].apply(lambda x: age_bracket(x))"
   ]
  },
  {
   "cell_type": "code",
   "execution_count": 10,
   "metadata": {
    "colab": {
     "base_uri": "https://localhost:8080/",
     "height": 206
    },
    "executionInfo": {
     "elapsed": 225,
     "status": "ok",
     "timestamp": 1670032915091,
     "user": {
      "displayName": "Austin Geary",
      "userId": "04443240831720776372"
     },
     "user_tz": 300
    },
    "id": "3ggWar3xhX-I",
    "outputId": "051b8cec-7c34-4968-fc8b-c18f0a49d40c"
   },
   "outputs": [
    {
     "data": {
      "text/html": [
       "<div>\n",
       "<style scoped>\n",
       "    .dataframe tbody tr th:only-of-type {\n",
       "        vertical-align: middle;\n",
       "    }\n",
       "\n",
       "    .dataframe tbody tr th {\n",
       "        vertical-align: top;\n",
       "    }\n",
       "\n",
       "    .dataframe thead th {\n",
       "        text-align: right;\n",
       "    }\n",
       "</style>\n",
       "<table border=\"1\" class=\"dataframe\">\n",
       "  <thead>\n",
       "    <tr style=\"text-align: right;\">\n",
       "      <th></th>\n",
       "      <th>index</th>\n",
       "      <th>patient_id</th>\n",
       "      <th>patient_age</th>\n",
       "      <th>patient_sex</th>\n",
       "      <th>view_position</th>\n",
       "      <th>class</th>\n",
       "      <th>target</th>\n",
       "      <th>split</th>\n",
       "      <th>rsna_baseline_proba</th>\n",
       "      <th>rsna_densenet_proba</th>\n",
       "      <th>age_group</th>\n",
       "      <th>confusion</th>\n",
       "      <th>age_bracket</th>\n",
       "    </tr>\n",
       "  </thead>\n",
       "  <tbody>\n",
       "    <tr>\n",
       "      <th>0</th>\n",
       "      <td>0</td>\n",
       "      <td>0004cfab-14fd-4e49-80ba-63a80b6bddd6</td>\n",
       "      <td>51</td>\n",
       "      <td>F</td>\n",
       "      <td>PA</td>\n",
       "      <td>No Lung Opacity / Not Normal</td>\n",
       "      <td>0</td>\n",
       "      <td>train</td>\n",
       "      <td>0.199968</td>\n",
       "      <td>0.272411</td>\n",
       "      <td>Middle age (45-64)</td>\n",
       "      <td>TN</td>\n",
       "      <td>Middle Age (45-64)</td>\n",
       "    </tr>\n",
       "    <tr>\n",
       "      <th>1</th>\n",
       "      <td>1</td>\n",
       "      <td>000924cf-0f8d-42bd-9158-1af53881a557</td>\n",
       "      <td>19</td>\n",
       "      <td>F</td>\n",
       "      <td>AP</td>\n",
       "      <td>Normal</td>\n",
       "      <td>0</td>\n",
       "      <td>train</td>\n",
       "      <td>0.156917</td>\n",
       "      <td>0.031587</td>\n",
       "      <td>Adult (19-44)</td>\n",
       "      <td>TN</td>\n",
       "      <td>Adult (19-44)</td>\n",
       "    </tr>\n",
       "    <tr>\n",
       "      <th>2</th>\n",
       "      <td>2</td>\n",
       "      <td>000db696-cf54-4385-b10b-6b16fbb3f985</td>\n",
       "      <td>25</td>\n",
       "      <td>F</td>\n",
       "      <td>AP</td>\n",
       "      <td>Lung Opacity</td>\n",
       "      <td>1</td>\n",
       "      <td>train</td>\n",
       "      <td>0.688685</td>\n",
       "      <td>0.698994</td>\n",
       "      <td>Adult (19-44)</td>\n",
       "      <td>TP</td>\n",
       "      <td>Adult (19-44)</td>\n",
       "    </tr>\n",
       "    <tr>\n",
       "      <th>3</th>\n",
       "      <td>3</td>\n",
       "      <td>000fe35a-2649-43d4-b027-e67796d412e0</td>\n",
       "      <td>40</td>\n",
       "      <td>M</td>\n",
       "      <td>AP</td>\n",
       "      <td>Lung Opacity</td>\n",
       "      <td>1</td>\n",
       "      <td>train</td>\n",
       "      <td>0.943956</td>\n",
       "      <td>0.984925</td>\n",
       "      <td>Adult (19-44)</td>\n",
       "      <td>TP</td>\n",
       "      <td>Adult (19-44)</td>\n",
       "    </tr>\n",
       "    <tr>\n",
       "      <th>4</th>\n",
       "      <td>4</td>\n",
       "      <td>001031d9-f904-4a23-b3e5-2c088acd19c6</td>\n",
       "      <td>57</td>\n",
       "      <td>M</td>\n",
       "      <td>PA</td>\n",
       "      <td>Lung Opacity</td>\n",
       "      <td>1</td>\n",
       "      <td>train</td>\n",
       "      <td>0.374111</td>\n",
       "      <td>0.407364</td>\n",
       "      <td>Middle age (45-64)</td>\n",
       "      <td>FN</td>\n",
       "      <td>Middle Age (45-64)</td>\n",
       "    </tr>\n",
       "  </tbody>\n",
       "</table>\n",
       "</div>"
      ],
      "text/plain": [
       "   index                            patient_id  patient_age patient_sex  \\\n",
       "0      0  0004cfab-14fd-4e49-80ba-63a80b6bddd6           51           F   \n",
       "1      1  000924cf-0f8d-42bd-9158-1af53881a557           19           F   \n",
       "2      2  000db696-cf54-4385-b10b-6b16fbb3f985           25           F   \n",
       "3      3  000fe35a-2649-43d4-b027-e67796d412e0           40           M   \n",
       "4      4  001031d9-f904-4a23-b3e5-2c088acd19c6           57           M   \n",
       "\n",
       "  view_position                         class  target  split  \\\n",
       "0            PA  No Lung Opacity / Not Normal       0  train   \n",
       "1            AP                        Normal       0  train   \n",
       "2            AP                  Lung Opacity       1  train   \n",
       "3            AP                  Lung Opacity       1  train   \n",
       "4            PA                  Lung Opacity       1  train   \n",
       "\n",
       "   rsna_baseline_proba  rsna_densenet_proba           age_group confusion  \\\n",
       "0             0.199968             0.272411  Middle age (45-64)        TN   \n",
       "1             0.156917             0.031587       Adult (19-44)        TN   \n",
       "2             0.688685             0.698994       Adult (19-44)        TP   \n",
       "3             0.943956             0.984925       Adult (19-44)        TP   \n",
       "4             0.374111             0.407364  Middle age (45-64)        FN   \n",
       "\n",
       "          age_bracket  \n",
       "0  Middle Age (45-64)  \n",
       "1       Adult (19-44)  \n",
       "2       Adult (19-44)  \n",
       "3       Adult (19-44)  \n",
       "4  Middle Age (45-64)  "
      ]
     },
     "execution_count": 10,
     "metadata": {},
     "output_type": "execute_result"
    }
   ],
   "source": [
    "df.head()"
   ]
  },
  {
   "cell_type": "code",
   "execution_count": 11,
   "metadata": {
    "colab": {
     "base_uri": "https://localhost:8080/",
     "height": 487
    },
    "executionInfo": {
     "elapsed": 373,
     "status": "ok",
     "timestamp": 1670031220499,
     "user": {
      "displayName": "Austin Geary",
      "userId": "04443240831720776372"
     },
     "user_tz": 300
    },
    "id": "2dbv9hmHh7ul",
    "outputId": "cdcc1fc3-98fa-494f-ba7e-9736c27f81b5"
   },
   "outputs": [
    {
     "data": {
      "text/plain": [
       "([<matplotlib.axis.XTick at 0x7fbe1d6ad310>,\n",
       "  <matplotlib.axis.XTick at 0x7fbe1d6adbb0>,\n",
       "  <matplotlib.axis.XTick at 0x7fbe1d6adb50>,\n",
       "  <matplotlib.axis.XTick at 0x7fbe1d6e1a30>,\n",
       "  <matplotlib.axis.XTick at 0x7fbe1d6cf1c0>,\n",
       "  <matplotlib.axis.XTick at 0x7fbe1d6e1760>,\n",
       "  <matplotlib.axis.XTick at 0x7fbe1d6cfac0>,\n",
       "  <matplotlib.axis.XTick at 0x7fbe1d6ca250>,\n",
       "  <matplotlib.axis.XTick at 0x7fbe1d6ca9a0>,\n",
       "  <matplotlib.axis.XTick at 0x7fbe1d6c7130>,\n",
       "  <matplotlib.axis.XTick at 0x7fbe1d6c7880>],\n",
       " [Text(0, 0, ''),\n",
       "  Text(0, 0, ''),\n",
       "  Text(0, 0, ''),\n",
       "  Text(0, 0, ''),\n",
       "  Text(0, 0, ''),\n",
       "  Text(0, 0, ''),\n",
       "  Text(0, 0, ''),\n",
       "  Text(0, 0, ''),\n",
       "  Text(0, 0, ''),\n",
       "  Text(0, 0, ''),\n",
       "  Text(0, 0, '')])"
      ]
     },
     "execution_count": 11,
     "metadata": {},
     "output_type": "execute_result"
    },
    {
     "data": {
      "image/png": "[encoded data removed]",
      "text/plain": [
       "<Figure size 432x288 with 1 Axes>"
      ]
     },
     "metadata": {
      "needs_background": "light"
     },
     "output_type": "display_data"
    }
   ],
   "source": [
    "plt.hist(df['patient_age'], bins=[0,10,20,30,40,50,60,70,80,90,100], histtype='bar', rwidth=0.97)\n",
    "plt.xlabel('Patient Age')\n",
    "plt.ylabel('Frequency')\n",
    "plt.xticks(np.arange(0, 101, step=10))"
   ]
  },
  {
   "cell_type": "code",
   "execution_count": 12,
   "metadata": {
    "colab": {
     "base_uri": "https://localhost:8080/"
    },
    "executionInfo": {
     "elapsed": 7,
     "status": "ok",
     "timestamp": 1670031220499,
     "user": {
      "displayName": "Austin Geary",
      "userId": "04443240831720776372"
     },
     "user_tz": 300
    },
    "id": "5RNgT-KqnYR8",
    "outputId": "2b1cdbc9-11a5-403c-a042-23057b299e32"
   },
   "outputs": [
    {
     "data": {
      "text/plain": [
       "class\n",
       "No Lung Opacity / Not Normal    11819\n",
       "Normal                           8848\n",
       "Lung Opacity                     6012\n",
       "dtype: int64"
      ]
     },
     "execution_count": 12,
     "metadata": {},
     "output_type": "execute_result"
    }
   ],
   "source": [
    "class_df = df.value_counts('class')\n",
    "class_df.head()"
   ]
  },
  {
   "cell_type": "code",
   "execution_count": 14,
   "metadata": {
    "colab": {
     "base_uri": "https://localhost:8080/",
     "height": 318
    },
    "executionInfo": {
     "elapsed": 260,
     "status": "ok",
     "timestamp": 1670031220754,
     "user": {
      "displayName": "Austin Geary",
      "userId": "04443240831720776372"
     },
     "user_tz": 300
    },
    "id": "zLiOgcwzl0mu",
    "outputId": "8acc99a9-4743-4b3b-a078-655aecee2243"
   },
   "outputs": [
    {
     "data": {
      "image/png": "[encoded data removed]",
      "text/plain": [
       "<Figure size 900x600 with 1 Axes>"
      ]
     },
     "metadata": {},
     "output_type": "display_data"
    }
   ],
   "source": [
    "labels = class_df.index\n",
    "sizes = class_df.values\n",
    "total = sum(sizes)\n",
    "\n",
    "def perc(p, total):\n",
    "  return '{:.1f}%\\n ({:,.0f})'.format(p, p * total / 100)\n",
    "\n",
    "plt.figure(dpi=150)\n",
    "plt.pie(sizes, labels=labels, autopct=lambda p: perc(p, total), colors=['lightsalmon','paleturquoise','wheat'])\n",
    "plt.axis('equal')\n",
    "plt.tight_layout()"
   ]
  },
  {
   "cell_type": "code",
   "execution_count": 15,
   "metadata": {
    "colab": {
     "base_uri": "https://localhost:8080/"
    },
    "executionInfo": {
     "elapsed": 12,
     "status": "ok",
     "timestamp": 1670031220755,
     "user": {
      "displayName": "Austin Geary",
      "userId": "04443240831720776372"
     },
     "user_tz": 300
    },
    "id": "XImxvPnSrkbW",
    "outputId": "3c0a90b6-c70b-461a-fb88-0df1eea097a3"
   },
   "outputs": [
    {
     "data": {
      "text/plain": [
       "confusion\n",
       "TN    19140\n",
       "TP     3920\n",
       "FN     2092\n",
       "FP     1527\n",
       "dtype: int64"
      ]
     },
     "execution_count": 15,
     "metadata": {},
     "output_type": "execute_result"
    }
   ],
   "source": [
    "confusion_df = df.value_counts('confusion')\n",
    "confusion_df.head()"
   ]
  },
  {
   "cell_type": "code",
   "execution_count": 17,
   "metadata": {
    "colab": {
     "base_uri": "https://localhost:8080/",
     "height": 319
    },
    "executionInfo": {
     "elapsed": 9,
     "status": "ok",
     "timestamp": 1670031220755,
     "user": {
      "displayName": "Austin Geary",
      "userId": "04443240831720776372"
     },
     "user_tz": 300
    },
    "id": "U1gNLHUIrgLj",
    "outputId": "58eb0001-b770-4765-b44e-bd1e34b0c3bf"
   },
   "outputs": [
    {
     "data": {
      "image/png": "[encoded data removed]",
      "text/plain": [
       "<Figure size 900x600 with 1 Axes>"
      ]
     },
     "metadata": {},
     "output_type": "display_data"
    }
   ],
   "source": [
    "labels = confusion_df.index\n",
    "sizes = confusion_df.values\n",
    "plt.figure(dpi=150)\n",
    "plt.pie(sizes, labels=labels, autopct=lambda p: perc(p, total), colors=['lightsalmon','paleturquoise','wheat', 'grey'])\n",
    "plt.axis('equal')\n",
    "plt.tight_layout()"
   ]
  },
  {
   "cell_type": "code",
   "execution_count": 18,
   "metadata": {
    "colab": {
     "base_uri": "https://localhost:8080/",
     "height": 206
    },
    "executionInfo": {
     "elapsed": 145,
     "status": "ok",
     "timestamp": 1670034366932,
     "user": {
      "displayName": "Austin Geary",
      "userId": "04443240831720776372"
     },
     "user_tz": 300
    },
    "id": "fHMAn3nDrDsT",
    "outputId": "7e9a649c-014c-4653-d6e9-13b7477af0b1"
   },
   "outputs": [],
   "source": [
    "grp_df = df.groupby(by=['age_bracket','patient_sex','confusion'], as_index=False).count()\n",
    "grp_df = grp_df[['age_bracket','patient_sex','confusion','index']]\n",
    "#grp_df.head()"
   ]
  },
  {
   "cell_type": "code",
   "execution_count": 19,
   "metadata": {
    "colab": {
     "base_uri": "https://localhost:8080/",
     "height": 206
    },
    "executionInfo": {
     "elapsed": 124,
     "status": "ok",
     "timestamp": 1670035179521,
     "user": {
      "displayName": "Austin Geary",
      "userId": "04443240831720776372"
     },
     "user_tz": 300
    },
    "id": "ty8fIfAWzir3",
    "outputId": "f4c3667c-5b83-466f-f9af-2c22b9396359"
   },
   "outputs": [],
   "source": [
    "pvt_df = grp_df.pivot(index=['age_bracket','patient_sex'], columns='confusion', values='index')\n",
    "pvt_df.reset_index(inplace=True)\n",
    "#pvt_df.head()"
   ]
  },
  {
   "cell_type": "code",
   "execution_count": 20,
   "metadata": {
    "executionInfo": {
     "elapsed": 136,
     "status": "ok",
     "timestamp": 1670035183833,
     "user": {
      "displayName": "Austin Geary",
      "userId": "04443240831720776372"
     },
     "user_tz": 300
    },
    "id": "-R5BnGwt0hqE"
   },
   "outputs": [],
   "source": [
    "def precision(x):\n",
    "  return x['TP'] / (x['TP'] + x['FP'])\n",
    "\n",
    "def recall(x):\n",
    "  return x['TP'] / (x['TP'] + x['FN'])\n",
    "\n",
    "def f1(x):\n",
    "  return 2 * ((x['Precision'] * x['Recall'])/(x['Precision'] + x['Recall']))\n",
    "\n",
    "pvt_df['Precision'] = pvt_df.apply(lambda x: precision(x), axis=1)\n",
    "pvt_df['Recall'] = pvt_df.apply(lambda x: recall(x), axis=1)\n",
    "pvt_df['F1 Score'] = pvt_df.apply(lambda x: f1(x), axis=1)"
   ]
  },
  {
   "cell_type": "code",
   "execution_count": 30,
   "metadata": {
    "colab": {
     "base_uri": "https://localhost:8080/",
     "height": 206
    },
    "executionInfo": {
     "elapsed": 141,
     "status": "ok",
     "timestamp": 1670035184871,
     "user": {
      "displayName": "Austin Geary",
      "userId": "04443240831720776372"
     },
     "user_tz": 300
    },
    "id": "jI1Obosj2IeB",
    "outputId": "4f5289b1-e959-40d2-b9a0-b135270b3877"
   },
   "outputs": [
    {
     "data": {
      "text/html": [
       "\n",
       "  <div id=\"df-d04c323a-10ab-4db0-a5ef-4c78f95db2a5\">\n",
       "    <div class=\"colab-df-container\">\n",
       "      <div>\n",
       "<style scoped>\n",
       "    .dataframe tbody tr th:only-of-type {\n",
       "        vertical-align: middle;\n",
       "    }\n",
       "\n",
       "    .dataframe tbody tr th {\n",
       "        vertical-align: top;\n",
       "    }\n",
       "\n",
       "    .dataframe thead th {\n",
       "        text-align: right;\n",
       "    }\n",
       "</style>\n",
       "<table border=\"1\" class=\"dataframe\">\n",
       "  <thead>\n",
       "    <tr style=\"text-align: right;\">\n",
       "      <th>confusion</th>\n",
       "      <th>age_bracket</th>\n",
       "      <th>patient_sex</th>\n",
       "      <th>FN</th>\n",
       "      <th>FP</th>\n",
       "      <th>TN</th>\n",
       "      <th>TP</th>\n",
       "      <th>Precision</th>\n",
       "      <th>Recall</th>\n",
       "      <th>F1 Score</th>\n",
       "    </tr>\n",
       "  </thead>\n",
       "  <tbody>\n",
       "    <tr>\n",
       "      <th>0</th>\n",
       "      <td>Adolescent (13-18)</td>\n",
       "      <td>F</td>\n",
       "      <td>38.0</td>\n",
       "      <td>13.0</td>\n",
       "      <td>209.0</td>\n",
       "      <td>49.0</td>\n",
       "      <td>0.790323</td>\n",
       "      <td>0.563218</td>\n",
       "      <td>0.657718</td>\n",
       "    </tr>\n",
       "    <tr>\n",
       "      <th>1</th>\n",
       "      <td>Adolescent (13-18)</td>\n",
       "      <td>M</td>\n",
       "      <td>70.0</td>\n",
       "      <td>36.0</td>\n",
       "      <td>348.0</td>\n",
       "      <td>85.0</td>\n",
       "      <td>0.702479</td>\n",
       "      <td>0.548387</td>\n",
       "      <td>0.615942</td>\n",
       "    </tr>\n",
       "    <tr>\n",
       "      <th>2</th>\n",
       "      <td>Adult (19-44)</td>\n",
       "      <td>F</td>\n",
       "      <td>384.0</td>\n",
       "      <td>192.0</td>\n",
       "      <td>3069.0</td>\n",
       "      <td>501.0</td>\n",
       "      <td>0.722944</td>\n",
       "      <td>0.566102</td>\n",
       "      <td>0.634981</td>\n",
       "    </tr>\n",
       "    <tr>\n",
       "      <th>3</th>\n",
       "      <td>Adult (19-44)</td>\n",
       "      <td>M</td>\n",
       "      <td>549.0</td>\n",
       "      <td>281.0</td>\n",
       "      <td>3589.0</td>\n",
       "      <td>808.0</td>\n",
       "      <td>0.741965</td>\n",
       "      <td>0.595431</td>\n",
       "      <td>0.660670</td>\n",
       "    </tr>\n",
       "    <tr>\n",
       "      <th>4</th>\n",
       "      <td>Aged (45-64)</td>\n",
       "      <td>F</td>\n",
       "      <td>161.0</td>\n",
       "      <td>84.0</td>\n",
       "      <td>1088.0</td>\n",
       "      <td>178.0</td>\n",
       "      <td>0.679389</td>\n",
       "      <td>0.525074</td>\n",
       "      <td>0.592346</td>\n",
       "    </tr>\n",
       "  </tbody>\n",
       "</table>\n",
       "</div>\n",
       "      <button class=\"colab-df-convert\" onclick=\"convertToInteractive('df-d04c323a-10ab-4db0-a5ef-4c78f95db2a5')\"\n",
       "              title=\"Convert this dataframe to an interactive table.\"\n",
       "              style=\"display:none;\">\n",
       "        \n",
       "  <svg xmlns=\"http://www.w3.org/2000/svg\" height=\"24px\"viewBox=\"0 0 24 24\"\n",
       "       width=\"24px\">\n",
       "    <path d=\"M0 0h24v24H0V0z\" fill=\"none\"/>\n",
       "    <path d=\"M18.56 5.44l.94 2.06.94-2.06 2.06-.94-2.06-.94-.94-2.06-.94 2.06-2.06.94zm-11 1L8.5 8.5l.94-2.06 2.06-.94-2.06-.94L8.5 2.5l-.94 2.06-2.06.94zm10 10l.94 2.06.94-2.06 2.06-.94-2.06-.94-.94-2.06-.94 2.06-2.06.94z\"/><path d=\"M17.41 7.96l-1.37-1.37c-.4-.4-.92-.59-1.43-.59-.52 0-1.04.2-1.43.59L10.3 9.45l-7.72 7.72c-.78.78-.78 2.05 0 2.83L4 21.41c.39.39.9.59 1.41.59.51 0 1.02-.2 1.41-.59l7.78-7.78 2.81-2.81c.8-.78.8-2.07 0-2.86zM5.41 20L4 18.59l7.72-7.72 1.47 1.35L5.41 20z\"/>\n",
       "  </svg>\n",
       "      </button>\n",
       "      \n",
       "  <style>\n",
       "    .colab-df-container {\n",
       "      display:flex;\n",
       "      flex-wrap:wrap;\n",
       "      gap: 12px;\n",
       "    }\n",
       "\n",
       "    .colab-df-convert {\n",
       "      background-color: #E8F0FE;\n",
       "      border: none;\n",
       "      border-radius: 50%;\n",
       "      cursor: pointer;\n",
       "      display: none;\n",
       "      fill: #1967D2;\n",
       "      height: 32px;\n",
       "      padding: 0 0 0 0;\n",
       "      width: 32px;\n",
       "    }\n",
       "\n",
       "    .colab-df-convert:hover {\n",
       "      background-color: #E2EBFA;\n",
       "      box-shadow: 0px 1px 2px rgba(60, 64, 67, 0.3), 0px 1px 3px 1px rgba(60, 64, 67, 0.15);\n",
       "      fill: #174EA6;\n",
       "    }\n",
       "\n",
       "    [theme=dark] .colab-df-convert {\n",
       "      background-color: #3B4455;\n",
       "      fill: #D2E3FC;\n",
       "    }\n",
       "\n",
       "    [theme=dark] .colab-df-convert:hover {\n",
       "      background-color: #434B5C;\n",
       "      box-shadow: 0px 1px 3px 1px rgba(0, 0, 0, 0.15);\n",
       "      filter: drop-shadow(0px 1px 2px rgba(0, 0, 0, 0.3));\n",
       "      fill: #FFFFFF;\n",
       "    }\n",
       "  </style>\n",
       "\n",
       "      <script>\n",
       "        const buttonEl =\n",
       "          document.querySelector('#df-d04c323a-10ab-4db0-a5ef-4c78f95db2a5 button.colab-df-convert');\n",
       "        buttonEl.style.display =\n",
       "          google.colab.kernel.accessAllowed ? 'block' : 'none';\n",
       "\n",
       "        async function convertToInteractive(key) {\n",
       "          const element = document.querySelector('#df-d04c323a-10ab-4db0-a5ef-4c78f95db2a5');\n",
       "          const dataTable =\n",
       "            await google.colab.kernel.invokeFunction('convertToInteractive',\n",
       "                                                     [key], {});\n",
       "          if (!dataTable) return;\n",
       "\n",
       "          const docLinkHtml = 'Like what you see? Visit the ' +\n",
       "            '<a target=\"_blank\" href=https://colab.research.google.com/notebooks/data_table.ipynb>data table notebook</a>'\n",
       "            + ' to learn more about interactive tables.';\n",
       "          element.innerHTML = '';\n",
       "          dataTable['output_type'] = 'display_data';\n",
       "          await google.colab.output.renderOutput(dataTable, element);\n",
       "          const docLink = document.createElement('div');\n",
       "          docLink.innerHTML = docLinkHtml;\n",
       "          element.appendChild(docLink);\n",
       "        }\n",
       "      </script>\n",
       "    </div>\n",
       "  </div>\n",
       "  "
      ],
      "text/plain": [
       "confusion         age_bracket patient_sex     FN     FP      TN     TP  \\\n",
       "0          Adolescent (13-18)           F   38.0   13.0   209.0   49.0   \n",
       "1          Adolescent (13-18)           M   70.0   36.0   348.0   85.0   \n",
       "2               Adult (19-44)           F  384.0  192.0  3069.0  501.0   \n",
       "3               Adult (19-44)           M  549.0  281.0  3589.0  808.0   \n",
       "4                Aged (45-64)           F  161.0   84.0  1088.0  178.0   \n",
       "\n",
       "confusion  Precision    Recall  F1 Score  \n",
       "0           0.790323  0.563218  0.657718  \n",
       "1           0.702479  0.548387  0.615942  \n",
       "2           0.722944  0.566102  0.634981  \n",
       "3           0.741965  0.595431  0.660670  \n",
       "4           0.679389  0.525074  0.592346  "
      ]
     },
     "execution_count": 30,
     "metadata": {},
     "output_type": "execute_result"
    }
   ],
   "source": [
    "pvt_df.head()"
   ]
  },
  {
   "cell_type": "code",
   "execution_count": 46,
   "metadata": {
    "colab": {
     "base_uri": "https://localhost:8080/",
     "height": 383
    },
    "executionInfo": {
     "elapsed": 732,
     "status": "ok",
     "timestamp": 1670037076779,
     "user": {
      "displayName": "Austin Geary",
      "userId": "04443240831720776372"
     },
     "user_tz": 300
    },
    "id": "6r29euAC2MXz",
    "outputId": "77e9745c-1e78-485c-bb9c-33281bdc6026"
   },
   "outputs": [
    {
     "data": {
      "text/plain": [
       "([0, 1, 2, 3, 4, 5, 6, 7], <a list of 8 Text major ticklabel objects>)"
      ]
     },
     "execution_count": 46,
     "metadata": {},
     "output_type": "execute_result"
    },
    {
     "data": {
      "image/png": "[encoded data removed]",
      "text/plain": [
       "<Figure size 432x288 with 1 Axes>"
      ]
     },
     "metadata": {
      "needs_background": "light"
     },
     "output_type": "display_data"
    }
   ],
   "source": [
    "ages = ['Infant 1 year-old','Preschool (2-5)','Child (6-12)','Adolescent (13-18)','Adult (19-44)','Middle Age (45-64)','Aged (45-64)','Aged (80+)']\n",
    "pvt_df = pvt_df.set_index('age_bracket')\n",
    "pvt_df = pvt_df.loc[ages]\n",
    "pvt_df.reset_index(inplace=True)\n",
    "\n",
    "\n",
    "#display(pvt_df)\n",
    "sns.lineplot(data=pvt_df, x='age_bracket', y='F1 Score', hue='patient_sex', sort=False)\n",
    "plt.xticks(rotation=90)"
   ]
  }
 ],
 "metadata": {
  "colab": {
   "collapsed_sections": [
    "rguC2zzFIoy8"
   ],
   "provenance": [
    {
     "file_id": "1AKoj5cDyQEgf4sR7vLp_mVMUXDSgxrnK",
     "timestamp": 1628891508496
    }
   ]
  },
  "kernelspec": {
   "display_name": "Python 3 (ipykernel)",
   "language": "python",
   "name": "python3"
  },
  "language_info": {
   "codemirror_mode": {
    "name": "ipython",
    "version": 3
   },
   "file_extension": ".py",
   "mimetype": "text/x-python",
   "name": "python",
   "nbconvert_exporter": "python",
   "pygments_lexer": "ipython3",
   "version": "3.9.7"
  },
  "vscode": {
   "interpreter": {
    "hash": "744f272566a0029e2548cf489670c33c369f6c7b8a1f06ff4f3f384c839e1a4e"
   }
  }
 },
 "nbformat": 4,
 "nbformat_minor": 1
}
