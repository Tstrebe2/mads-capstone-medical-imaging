{
 "cells": [
  {
   "cell_type": "markdown",
   "metadata": {
    "id": "PH3LYIxoleT4"
   },
   "source": [
    "# Capstone"
   ]
  },
  {
   "cell_type": "markdown",
   "metadata": {
    "id": "-7tI7LXslzn-"
   },
   "source": [
    "## Prepare Notebook"
   ]
  },
  {
   "cell_type": "markdown",
   "metadata": {
    "id": "i6yHgEcZeHE_"
   },
   "source": [
    "Install pydicom"
   ]
  },
  {
   "cell_type": "code",
   "execution_count": 1,
   "metadata": {
    "colab": {
     "base_uri": "https://localhost:8080/"
    },
    "executionInfo": {
     "elapsed": 13044,
     "status": "ok",
     "timestamp": 1666826456131,
     "user": {
      "displayName": "Austin Geary",
      "userId": "04443240831720776372"
     },
     "user_tz": 240
    },
    "id": "uWXZb1p_tN6C",
    "outputId": "c87d5304-b96d-49eb-b2ce-9d9b90ddb71b"
   },
   "outputs": [
    {
     "name": "stdout",
     "output_type": "stream",
     "text": [
      "Defaulting to user installation because normal site-packages is not writeable\n",
      "Requirement already satisfied: pydicom in ./.local/lib/python3.9/site-packages (2.3.0)\n"
     ]
    }
   ],
   "source": [
    "!pip install pydicom"
   ]
  },
  {
   "cell_type": "code",
   "execution_count": 2,
   "metadata": {
    "scrolled": false
   },
   "outputs": [
    {
     "name": "stdout",
     "output_type": "stream",
     "text": [
      "Defaulting to user installation because normal site-packages is not writeable\r\n",
      "Requirement already satisfied: torch in ./.local/lib/python3.9/site-packages (1.12.1)\r\n",
      "Requirement already satisfied: typing-extensions in /sw/pkgs/arc/python3.9-anaconda/2021.11/lib/python3.9/site-packages (from torch) (3.10.0.2)\r\n"
     ]
    }
   ],
   "source": [
    "!pip install torch"
   ]
  },
  {
   "cell_type": "code",
   "execution_count": 3,
   "metadata": {},
   "outputs": [
    {
     "name": "stdout",
     "output_type": "stream",
     "text": [
      "Defaulting to user installation because normal site-packages is not writeable\n",
      "Requirement already satisfied: torchvision in ./.local/lib/python3.9/site-packages (0.13.1)\n",
      "Requirement already satisfied: numpy in /sw/pkgs/arc/python3.9-anaconda/2021.11/lib/python3.9/site-packages (from torchvision) (1.20.3)\n",
      "Requirement already satisfied: pillow!=8.3.*,>=5.3.0 in /sw/pkgs/arc/python3.9-anaconda/2021.11/lib/python3.9/site-packages (from torchvision) (8.4.0)\n",
      "Requirement already satisfied: requests in /sw/pkgs/arc/python3.9-anaconda/2021.11/lib/python3.9/site-packages (from torchvision) (2.26.0)\n",
      "Requirement already satisfied: typing-extensions in /sw/pkgs/arc/python3.9-anaconda/2021.11/lib/python3.9/site-packages (from torchvision) (3.10.0.2)\n",
      "Requirement already satisfied: torch==1.12.1 in ./.local/lib/python3.9/site-packages (from torchvision) (1.12.1)\n",
      "Requirement already satisfied: charset-normalizer~=2.0.0 in /sw/pkgs/arc/python3.9-anaconda/2021.11/lib/python3.9/site-packages (from requests->torchvision) (2.0.4)\n",
      "Requirement already satisfied: certifi>=2017.4.17 in /sw/pkgs/arc/python3.9-anaconda/2021.11/lib/python3.9/site-packages (from requests->torchvision) (2021.10.8)\n",
      "Requirement already satisfied: urllib3<1.27,>=1.21.1 in /sw/pkgs/arc/python3.9-anaconda/2021.11/lib/python3.9/site-packages (from requests->torchvision) (1.26.7)\n",
      "Requirement already satisfied: idna<4,>=2.5 in /sw/pkgs/arc/python3.9-anaconda/2021.11/lib/python3.9/site-packages (from requests->torchvision) (3.2)\n"
     ]
    }
   ],
   "source": [
    "!pip install torchvision"
   ]
  },
  {
   "cell_type": "markdown",
   "metadata": {
    "id": "suxo8MBGeKU-"
   },
   "source": [
    "Mount Google Drive"
   ]
  },
  {
   "cell_type": "code",
   "execution_count": 4,
   "metadata": {
    "colab": {
     "base_uri": "https://localhost:8080/"
    },
    "executionInfo": {
     "elapsed": 17062,
     "status": "ok",
     "timestamp": 1666826473186,
     "user": {
      "displayName": "Austin Geary",
      "userId": "04443240831720776372"
     },
     "user_tz": 240
    },
    "id": "N2ryI3fXgv_5",
    "outputId": "975dc5ea-f0cc-4212-e89c-1ecd39c8b4f9"
   },
   "outputs": [],
   "source": [
    "#from google.colab import drive\n",
    "#drive.mount('/content/drive')"
   ]
  },
  {
   "cell_type": "markdown",
   "metadata": {
    "id": "d99NI5NGeNg5"
   },
   "source": [
    "Set Paths"
   ]
  },
  {
   "cell_type": "code",
   "execution_count": 5,
   "metadata": {
    "executionInfo": {
     "elapsed": 6,
     "status": "ok",
     "timestamp": 1666826473186,
     "user": {
      "displayName": "Austin Geary",
      "userId": "04443240831720776372"
     },
     "user_tz": 240
    },
    "id": "Ug45laz7E2XH"
   },
   "outputs": [],
   "source": [
    "import os\n",
    "\n",
    "#path = '/content/drive/MyDrive/SIADS_699_Capstone/Capstone_Team_Project' #Google Drive path\n",
    "path = '/home/ausgear' #Great Lakes\n",
    "data_path = os.path.join(path, 'data/rsna-pneumonia')\n",
    "img_path = os.path.join(data_path, 'stage_2_train_images')\n",
    "obj_path = os.path.join(path, 'python_objects')"
   ]
  },
  {
   "cell_type": "code",
   "execution_count": 6,
   "metadata": {},
   "outputs": [
    {
     "data": {
      "text/plain": [
       "'/home/ausgear'"
      ]
     },
     "execution_count": 6,
     "metadata": {},
     "output_type": "execute_result"
    }
   ],
   "source": [
    "os.getcwd()"
   ]
  },
  {
   "cell_type": "markdown",
   "metadata": {
    "id": "qvCq0GR9zKG4"
   },
   "source": [
    "## Custom Dataset Class"
   ]
  },
  {
   "cell_type": "markdown",
   "metadata": {
    "id": "7GqkAD3x0gGV"
   },
   "source": [
    "Definition"
   ]
  },
  {
   "cell_type": "code",
   "execution_count": 7,
   "metadata": {
    "executionInfo": {
     "elapsed": 4820,
     "status": "ok",
     "timestamp": 1666826478002,
     "user": {
      "displayName": "Austin Geary",
      "userId": "04443240831720776372"
     },
     "user_tz": 240
    },
    "id": "Y4w46Yy2-TYE"
   },
   "outputs": [],
   "source": [
    "import numpy as np\n",
    "import pandas as pd\n",
    "import matplotlib.pyplot as plt\n",
    "import torch\n",
    "import torch.nn as nn\n",
    "import torch.nn.functional as F\n",
    "from torch.utils.data import Dataset\n",
    "from torch.utils.data import DataLoader\n",
    "import pydicom\n",
    "from PIL import Image\n",
    "\n",
    "#Custom Dataset Class\n",
    "class CustomImageDataset(Dataset):\n",
    "    def __init__(self, annotations_file, img_dir, indices=None, transform=None, target_transform=None):\n",
    "        if indices:\n",
    "            self.img_labels = pd.read_csv(annotations_file).iloc[indices]\n",
    "        else:\n",
    "            self.img_labels = pd.read_csv(annotations_file)\n",
    "        self.img_dir = img_dir\n",
    "        self.transform = transform\n",
    "        self.target_transform = target_transform\n",
    "\n",
    "    def __len__(self):\n",
    "        return len(self.img_labels)\n",
    "\n",
    "    def __getitem__(self, idx):\n",
    "        filename = self.img_labels.iloc[idx, 0] + '.dcm'\n",
    "        img_path = os.path.join(self.img_dir, filename)\n",
    "        ds = pydicom.dcmread(img_path)\n",
    "        img_arr = ds.pixel_array\n",
    "        image = Image.fromarray(img_arr)\n",
    "        label = self.img_labels.iloc[idx, -1]\n",
    "        if self.transform:\n",
    "            image = self.transform(image)\n",
    "        if self.target_transform:\n",
    "            label = self.target_transform(label)\n",
    "        return (image, label)\n",
    "\n",
    "    def get_classes(self):\n",
    "        return self.img_labels.iloc[:, -1].unique()\n",
    "\n",
    "    def display_img(self, idx):\n",
    "        img = self.__getitem__(idx)[0]\n",
    "        plt.imshow(img, cmap=plt.cm.bone)\n",
    "        return None\n",
    "\n",
    "    classes = property(get_classes)"
   ]
  },
  {
   "cell_type": "code",
   "execution_count": 8,
   "metadata": {
    "colab": {
     "base_uri": "https://localhost:8080/",
     "height": 258
    },
    "executionInfo": {
     "elapsed": 2762,
     "status": "ok",
     "timestamp": 1666826480759,
     "user": {
      "displayName": "Austin Geary",
      "userId": "04443240831720776372"
     },
     "user_tz": 240
    },
    "id": "_9nRG5V5d4G7",
    "outputId": "9f32e08e-dd73-45a0-c296-76c34ee79f50"
   },
   "outputs": [
    {
     "data": {
      "text/html": [
       "<div>\n",
       "<style scoped>\n",
       "    .dataframe tbody tr th:only-of-type {\n",
       "        vertical-align: middle;\n",
       "    }\n",
       "\n",
       "    .dataframe tbody tr th {\n",
       "        vertical-align: top;\n",
       "    }\n",
       "\n",
       "    .dataframe thead th {\n",
       "        text-align: right;\n",
       "    }\n",
       "</style>\n",
       "<table border=\"1\" class=\"dataframe\">\n",
       "  <thead>\n",
       "    <tr style=\"text-align: right;\">\n",
       "      <th></th>\n",
       "      <th>patientId</th>\n",
       "      <th>x</th>\n",
       "      <th>y</th>\n",
       "      <th>width</th>\n",
       "      <th>height</th>\n",
       "      <th>Target</th>\n",
       "    </tr>\n",
       "  </thead>\n",
       "  <tbody>\n",
       "    <tr>\n",
       "      <th>0</th>\n",
       "      <td>0004cfab-14fd-4e49-80ba-63a80b6bddd6</td>\n",
       "      <td>NaN</td>\n",
       "      <td>NaN</td>\n",
       "      <td>NaN</td>\n",
       "      <td>NaN</td>\n",
       "      <td>0</td>\n",
       "    </tr>\n",
       "    <tr>\n",
       "      <th>1</th>\n",
       "      <td>00313ee0-9eaa-42f4-b0ab-c148ed3241cd</td>\n",
       "      <td>NaN</td>\n",
       "      <td>NaN</td>\n",
       "      <td>NaN</td>\n",
       "      <td>NaN</td>\n",
       "      <td>0</td>\n",
       "    </tr>\n",
       "    <tr>\n",
       "      <th>2</th>\n",
       "      <td>00322d4d-1c29-4943-afc9-b6754be640eb</td>\n",
       "      <td>NaN</td>\n",
       "      <td>NaN</td>\n",
       "      <td>NaN</td>\n",
       "      <td>NaN</td>\n",
       "      <td>0</td>\n",
       "    </tr>\n",
       "    <tr>\n",
       "      <th>3</th>\n",
       "      <td>003d8fa0-6bf1-40ed-b54c-ac657f8495c5</td>\n",
       "      <td>NaN</td>\n",
       "      <td>NaN</td>\n",
       "      <td>NaN</td>\n",
       "      <td>NaN</td>\n",
       "      <td>0</td>\n",
       "    </tr>\n",
       "    <tr>\n",
       "      <th>4</th>\n",
       "      <td>00436515-870c-4b36-a041-de91049b9ab4</td>\n",
       "      <td>264.0</td>\n",
       "      <td>152.0</td>\n",
       "      <td>213.0</td>\n",
       "      <td>379.0</td>\n",
       "      <td>1</td>\n",
       "    </tr>\n",
       "  </tbody>\n",
       "</table>\n",
       "</div>"
      ],
      "text/plain": [
       "                              patientId      x      y  width  height  Target\n",
       "0  0004cfab-14fd-4e49-80ba-63a80b6bddd6    NaN    NaN    NaN     NaN       0\n",
       "1  00313ee0-9eaa-42f4-b0ab-c148ed3241cd    NaN    NaN    NaN     NaN       0\n",
       "2  00322d4d-1c29-4943-afc9-b6754be640eb    NaN    NaN    NaN     NaN       0\n",
       "3  003d8fa0-6bf1-40ed-b54c-ac657f8495c5    NaN    NaN    NaN     NaN       0\n",
       "4  00436515-870c-4b36-a041-de91049b9ab4  264.0  152.0  213.0   379.0       1"
      ]
     },
     "metadata": {},
     "output_type": "display_data"
    },
    {
     "name": "stdout",
     "output_type": "stream",
     "text": [
      "24181\n",
      "3023\n",
      "3023\n"
     ]
    }
   ],
   "source": [
    "from sklearn.model_selection import train_test_split\n",
    "\n",
    "annotations_file = os.path.join(data_path, 'stage_2_train_labels.csv')\n",
    "label_df = pd.read_csv(annotations_file)\n",
    "display(label_df.head())\n",
    "\n",
    "X_train, X_val = train_test_split(label_df, test_size=0.2, stratify=label_df['Target'], random_state=42)\n",
    "X_val, X_test = train_test_split(X_val, test_size=0.5, stratify=X_val['Target'], random_state=42)\n",
    "X_train, X_val, X_test = X_train.index.tolist(), X_val.index.tolist(), X_test.index.tolist()\n",
    "\n",
    "print(len(X_train))\n",
    "print(len(X_val))\n",
    "print(len(X_test))"
   ]
  },
  {
   "cell_type": "markdown",
   "metadata": {
    "id": "Tix0vXQr0kqt"
   },
   "source": [
    "Initialize"
   ]
  },
  {
   "cell_type": "code",
   "execution_count": 9,
   "metadata": {
    "executionInfo": {
     "elapsed": 897,
     "status": "ok",
     "timestamp": 1666826481778,
     "user": {
      "displayName": "Austin Geary",
      "userId": "04443240831720776372"
     },
     "user_tz": 240
    },
    "id": "ICX0CQ7t4rBh"
   },
   "outputs": [],
   "source": [
    "from torchvision import transforms\n",
    "\n",
    "mean = 0.5\n",
    "std = 0.5\n",
    "resize = 256\n",
    "#Transforms\n",
    "transforms = dict(\n",
    "  train = transforms.Compose([\n",
    "      transforms.Resize(resize),\n",
    "      transforms.RandomHorizontalFlip(.1),\n",
    "      transforms.RandomRotation(degrees=(-7, 7)),\n",
    "      transforms.ToTensor(),\n",
    "      transforms.Normalize(mean, std),\n",
    "  ]),\n",
    "  eval = transforms.Compose([\n",
    "      transforms.Resize(resize),\n",
    "      transforms.ToTensor(),\n",
    "      transforms.Normalize(mean, std),\n",
    "  ])\n",
    ")\n",
    "\n",
    "#Initialize Dataset\n",
    "train_dataset = CustomImageDataset(annotations_file, img_path, indices=X_train[:5000], transform=transforms['train'])\n",
    "val_dataset = CustomImageDataset(annotations_file, img_path, indices=X_val, transform=transforms['eval'])\n",
    "test_dataset = CustomImageDataset(annotations_file, img_path, indices=X_test, transform=transforms['eval'])"
   ]
  },
  {
   "cell_type": "markdown",
   "metadata": {
    "id": "gXMtGlqBzvyw"
   },
   "source": [
    "## Dataloaders"
   ]
  },
  {
   "cell_type": "markdown",
   "metadata": {
    "id": "97rwwEo50Fkr"
   },
   "source": [
    "Initialize"
   ]
  },
  {
   "cell_type": "code",
   "execution_count": 10,
   "metadata": {
    "colab": {
     "base_uri": "https://localhost:8080/"
    },
    "executionInfo": {
     "elapsed": 144,
     "status": "ok",
     "timestamp": 1666827149740,
     "user": {
      "displayName": "Austin Geary",
      "userId": "04443240831720776372"
     },
     "user_tz": 240
    },
    "id": "vWf6wPvCL75Z",
    "outputId": "bb1b2bbe-91eb-4525-d236-1b0078f84cbe"
   },
   "outputs": [
    {
     "name": "stdout",
     "output_type": "stream",
     "text": [
      "312\n"
     ]
    }
   ],
   "source": [
    "#Dataloader Hyperparameters\n",
    "batch_size = 16\n",
    "shuffle = True\n",
    "pin_memory = False\n",
    "num_workers = 1\n",
    "\n",
    "#Initialize Dataloader\n",
    "train_dataloader = DataLoader(dataset=train_dataset, shuffle=shuffle, batch_size=batch_size, num_workers=num_workers, pin_memory=pin_memory)\n",
    "validation_dataloader = DataLoader(dataset=val_dataset, shuffle=shuffle, batch_size=batch_size, num_workers=num_workers, pin_memory=pin_memory)\n",
    "test_dataloader = DataLoader(dataset=test_dataset, shuffle=shuffle, batch_size=batch_size, num_workers=num_workers, pin_memory=pin_memory)\n",
    "\n",
    "print(len(train_dataloader.dataset)//batch_size)"
   ]
  },
  {
   "cell_type": "markdown",
   "metadata": {
    "id": "0Qa8xG7M0XDD"
   },
   "source": [
    "Export Dataloader to file"
   ]
  },
  {
   "cell_type": "code",
   "execution_count": 11,
   "metadata": {
    "executionInfo": {
     "elapsed": 823,
     "status": "ok",
     "timestamp": 1666826589266,
     "user": {
      "displayName": "Austin Geary",
      "userId": "04443240831720776372"
     },
     "user_tz": 240
    },
    "id": "q3RatZZiO7NW"
   },
   "outputs": [],
   "source": [
    "torch.save(train_dataloader, obj_path + '/train_dataloader.pth')\n",
    "torch.save(validation_dataloader, obj_path + '/validation_dataloader.pth')\n",
    "torch.save(test_dataloader, obj_path + '/test_dataloader.pth')"
   ]
  },
  {
   "cell_type": "code",
   "execution_count": 12,
   "metadata": {
    "executionInfo": {
     "elapsed": 4,
     "status": "ok",
     "timestamp": 1666826589266,
     "user": {
      "displayName": "Austin Geary",
      "userId": "04443240831720776372"
     },
     "user_tz": 240
    },
    "id": "LO5OuP_uwrQ7"
   },
   "outputs": [],
   "source": [
    "#train_reloaded = torch.load(obj_path + '/train_dataloader.pth')"
   ]
  },
  {
   "cell_type": "markdown",
   "metadata": {
    "id": "wOrFPfiueMbV"
   },
   "source": [
    "## CNN"
   ]
  },
  {
   "cell_type": "markdown",
   "metadata": {
    "id": "XxGMj1sEeY70"
   },
   "source": [
    "Definition"
   ]
  },
  {
   "cell_type": "code",
   "execution_count": 13,
   "metadata": {},
   "outputs": [],
   "source": [
    "def checkpoint(model, best_loss, epoch, LR, path):\n",
    "    print('saving')\n",
    "    state = {\n",
    "        'model': model,\n",
    "        'best_loss': best_loss,\n",
    "        'epoch': epoch,\n",
    "        'rng_state': torch.get_rng_state(),\n",
    "        'LR': LR\n",
    "    }\n",
    "\n",
    "    torch.save(state, os.path.join(path, 'checkpoint') )"
   ]
  },
  {
   "cell_type": "code",
   "execution_count": 14,
   "metadata": {},
   "outputs": [
    {
     "name": "stdout",
     "output_type": "stream",
     "text": [
      "3.9.7\n",
      "1.12.1+cu102\n"
     ]
    }
   ],
   "source": [
    "from platform import python_version\n",
    "print(python_version())\n",
    "print(torch.__version__)"
   ]
  },
  {
   "cell_type": "code",
   "execution_count": 15,
   "metadata": {
    "executionInfo": {
     "elapsed": 935,
     "status": "ok",
     "timestamp": 1666827285738,
     "user": {
      "displayName": "Austin Geary",
      "userId": "04443240831720776372"
     },
     "user_tz": 240
    },
    "id": "18eTco2VePPZ",
    "scrolled": true
   },
   "outputs": [
    {
     "name": "stderr",
     "output_type": "stream",
     "text": [
      "Using cache found in /home/ausgear/.cache/torch/hub/pytorch_vision_v0.10.0\n",
      "/home/ausgear/.local/lib/python3.9/site-packages/torchvision/models/_utils.py:208: UserWarning: The parameter 'pretrained' is deprecated since 0.13 and will be removed in 0.15, please use 'weights' instead.\n",
      "  warnings.warn(\n",
      "/home/ausgear/.local/lib/python3.9/site-packages/torchvision/models/_utils.py:223: UserWarning: Arguments other than a weight enum or `None` for 'weights' are deprecated since 0.13 and will be removed in 0.15. The current behavior is equivalent to passing `weights=AlexNet_Weights.IMAGENET1K_V1`. You can also use `weights=AlexNet_Weights.DEFAULT` to get the most up-to-date weights.\n",
      "  warnings.warn(msg)\n"
     ]
    },
    {
     "name": "stdout",
     "output_type": "stream",
     "text": [
      "\t features.0.weight\n",
      "\t features.0.bias\n",
      "\t features.3.weight\n",
      "\t features.3.bias\n",
      "\t features.6.weight\n",
      "\t features.6.bias\n",
      "\t features.8.weight\n",
      "\t features.8.bias\n",
      "\t features.10.weight\n",
      "\t features.10.bias\n",
      "\t classifier.1.weight\n",
      "\t classifier.1.bias\n",
      "\t classifier.4.weight\n",
      "\t classifier.4.bias\n",
      "\t classifier.6.weight\n",
      "\t classifier.6.bias\n",
      "AlexNet(\n",
      "  (features): Sequential(\n",
      "    (0): Conv2d(1, 64, kernel_size=(11, 11), stride=(4, 4), padding=(2, 2))\n",
      "    (1): ReLU(inplace=True)\n",
      "    (2): MaxPool2d(kernel_size=3, stride=2, padding=0, dilation=1, ceil_mode=False)\n",
      "    (3): Conv2d(64, 192, kernel_size=(5, 5), stride=(1, 1), padding=(2, 2))\n",
      "    (4): ReLU(inplace=True)\n",
      "    (5): MaxPool2d(kernel_size=3, stride=2, padding=0, dilation=1, ceil_mode=False)\n",
      "    (6): Conv2d(192, 384, kernel_size=(3, 3), stride=(1, 1), padding=(1, 1))\n",
      "    (7): ReLU(inplace=True)\n",
      "    (8): Conv2d(384, 256, kernel_size=(3, 3), stride=(1, 1), padding=(1, 1))\n",
      "    (9): ReLU(inplace=True)\n",
      "    (10): Conv2d(256, 256, kernel_size=(3, 3), stride=(1, 1), padding=(1, 1))\n",
      "    (11): ReLU(inplace=True)\n",
      "    (12): MaxPool2d(kernel_size=3, stride=2, padding=0, dilation=1, ceil_mode=False)\n",
      "  )\n",
      "  (avgpool): AdaptiveAvgPool2d(output_size=(6, 6))\n",
      "  (classifier): Sequential(\n",
      "    (0): Dropout(p=0.5, inplace=False)\n",
      "    (1): Linear(in_features=9216, out_features=4096, bias=True)\n",
      "    (2): ReLU(inplace=True)\n",
      "    (3): Dropout(p=0.5, inplace=False)\n",
      "    (4): Linear(in_features=4096, out_features=1024, bias=True)\n",
      "    (5): ReLU(inplace=True)\n",
      "    (6): Linear(in_features=1024, out_features=1, bias=True)\n",
      "  )\n",
      ")\n"
     ]
    }
   ],
   "source": [
    "import torch.optim as optim\n",
    "from torch.optim.lr_scheduler import ExponentialLR, StepLR\n",
    "\n",
    "torch.cuda.empty_cache()\n",
    "\n",
    "feature_extract = False\n",
    "\n",
    "device = torch.device(\"cuda\" if torch.cuda.is_available() else \"cpu\")\n",
    "\n",
    "model = torch.hub.load('pytorch/vision:v0.10.0', 'alexnet', pretrained=True)\n",
    "\n",
    "# Freeze all layers if feature extract\n",
    "if feature_extract:\n",
    "    for params in model.parameters():\n",
    "        params.requires_grad=False\n",
    "\n",
    "#Adjust first layer to accept input size\n",
    "model.features[0] = nn.Conv2d(1, 64, kernel_size=(11, 11), stride=(4, 4), padding=(2, 2))\n",
    "\n",
    "#Adjust last couple layers to fit number of classes.\n",
    "model.classifier[4] = nn.Linear(4096,1024)\n",
    "model.classifier[6] = nn.Linear(1024,1)\n",
    "\n",
    "#print(model.classifier)\n",
    "\n",
    "# If feature extraction, only optimize/update the feautres in the\n",
    "# classifer layer\n",
    "if feature_extract:\n",
    "    params_to_update = []\n",
    "    for name,param in model.named_parameters():\n",
    "        if param.requires_grad == True:\n",
    "            params_to_update.append(param)\n",
    "            print(\"\\t\", name)\n",
    "# Else, we update all features.\n",
    "else:\n",
    "    params_to_update = model.parameters()\n",
    "    for name, param in model.named_parameters():\n",
    "        if param.requires_grad == True:\n",
    "            print(\"\\t\", name)\n",
    "\n",
    "print(model.eval())\n",
    "\n",
    "os.environ['CUDA_LAUNCH_BLOCKING'] = '1'\n",
    "model = model.to(device)\n",
    "\n",
    "init_learning_rate = 1e-2\n",
    "\n",
    "zero, one = label_df.iloc[X_train].Target.value_counts().tolist()\n",
    "loss_fn = torch.nn.BCEWithLogitsLoss(pos_weight=torch.tensor([zero/one]).to(device))\n",
    "\n",
    "opt = optim.SGD(model.parameters(), lr=init_learning_rate)\n",
    "scheduler = StepLR(opt, step_size=5, gamma=0.9)"
   ]
  },
  {
   "cell_type": "code",
   "execution_count": 16,
   "metadata": {
    "colab": {
     "base_uri": "https://localhost:8080/"
    },
    "id": "6Xq68vApgc4A",
    "outputId": "92ed6974-f76f-4002-9e6b-ae02bd76a299",
    "scrolled": true
   },
   "outputs": [
    {
     "name": "stdout",
     "output_type": "stream",
     "text": [
      "train idx: 0  time: 14:48:32.017944\n",
      "train idx: 10  time: 14:48:33.806213\n",
      "train idx: 20  time: 14:48:35.603706\n",
      "train idx: 30  time: 14:48:37.343904\n",
      "train idx: 40  time: 14:48:39.376104\n",
      "train idx: 50  time: 14:48:41.122146\n",
      "train idx: 60  time: 14:48:42.848309\n",
      "train idx: 70  time: 14:48:44.816690\n",
      "train idx: 80  time: 14:48:46.616565\n",
      "train idx: 90  time: 14:48:48.366496\n",
      "train idx: 100  time: 14:48:50.089371\n",
      "train idx: 110  time: 14:48:51.821738\n",
      "train idx: 120  time: 14:48:53.612051\n",
      "train idx: 130  time: 14:48:55.594326\n",
      "train idx: 140  time: 14:48:57.310278\n",
      "train idx: 150  time: 14:48:59.117330\n",
      "train idx: 160  time: 14:49:00.827706\n",
      "train idx: 170  time: 14:49:02.541206\n",
      "train idx: 180  time: 14:49:04.261276\n",
      "train idx: 190  time: 14:49:06.000749\n",
      "train idx: 200  time: 14:49:07.771894\n",
      "train idx: 210  time: 14:49:09.563192\n",
      "train idx: 220  time: 14:49:11.290862\n",
      "train idx: 230  time: 14:49:13.007269\n",
      "train idx: 240  time: 14:49:14.726275\n",
      "train idx: 250  time: 14:49:16.444228\n",
      "train idx: 260  time: 14:49:18.191733\n",
      "train idx: 270  time: 14:49:19.893517\n",
      "train idx: 280  time: 14:49:21.602316\n",
      "train idx: 290  time: 14:49:23.316696\n",
      "train idx: 300  time: 14:49:25.074044\n",
      "train idx: 310  time: 14:49:26.840255\n",
      "val idx: 0 time: 14:49:27.570541\n",
      "val idx: 10 time: 14:49:29.283941\n",
      "val idx: 20 time: 14:49:30.978550\n",
      "val idx: 30 time: 14:49:32.679829\n",
      "val idx: 40 time: 14:49:34.403677\n",
      "val idx: 50 time: 14:49:36.124645\n",
      "val idx: 60 time: 14:49:37.902530\n",
      "val idx: 70 time: 14:49:39.868849\n",
      "val idx: 80 time: 14:49:41.553561\n",
      "val idx: 90 time: 14:49:43.250524\n",
      "val idx: 100 time: 14:49:44.924539\n",
      "val idx: 110 time: 14:49:46.611771\n",
      "val idx: 120 time: 14:49:48.293598\n",
      "val idx: 130 time: 14:49:49.974846\n",
      "val idx: 140 time: 14:49:51.752558\n",
      "val idx: 150 time: 14:49:53.467644\n",
      "val idx: 160 time: 14:49:55.163842\n",
      "val idx: 170 time: 14:49:56.899169\n",
      "val idx: 180 time: 14:49:58.639768\n",
      "Epoch 1 completed - train loss: 251.5331 train correct pred: 54,896.0 val loss 170.164978 val correct pred: 33,063.0 LR: 0.010000\n",
      "saving\n",
      "train idx: 0  time: 14:50:01.669166\n",
      "train idx: 10  time: 14:50:03.326219\n",
      "train idx: 20  time: 14:50:05.003409\n",
      "train idx: 30  time: 14:50:06.671003\n",
      "train idx: 40  time: 14:50:08.340331\n",
      "train idx: 50  time: 14:50:10.011729\n",
      "train idx: 60  time: 14:50:11.677071\n",
      "train idx: 70  time: 14:50:13.325293\n",
      "train idx: 80  time: 14:50:14.983595\n",
      "train idx: 90  time: 14:50:16.632151\n",
      "train idx: 100  time: 14:50:18.278407\n",
      "train idx: 110  time: 14:50:19.938335\n",
      "train idx: 120  time: 14:50:21.584340\n",
      "train idx: 130  time: 14:50:23.223059\n",
      "train idx: 140  time: 14:50:24.870888\n",
      "train idx: 150  time: 14:50:26.520101\n",
      "train idx: 160  time: 14:50:28.158644\n",
      "train idx: 170  time: 14:50:29.809815\n",
      "train idx: 180  time: 14:50:31.469674\n",
      "train idx: 190  time: 14:50:33.128831\n",
      "train idx: 200  time: 14:50:34.792628\n",
      "train idx: 210  time: 14:50:36.459512\n",
      "train idx: 220  time: 14:50:38.111668\n",
      "train idx: 230  time: 14:50:39.772363\n",
      "train idx: 240  time: 14:50:41.435027\n",
      "train idx: 250  time: 14:50:43.084328\n",
      "train idx: 260  time: 14:50:44.738103\n",
      "train idx: 270  time: 14:50:46.389839\n",
      "train idx: 280  time: 14:50:48.041038\n",
      "train idx: 290  time: 14:50:49.692574\n",
      "train idx: 300  time: 14:50:51.348757\n",
      "train idx: 310  time: 14:50:52.994404\n",
      "val idx: 0 time: 14:50:53.619820\n",
      "val idx: 10 time: 14:50:55.464790\n",
      "val idx: 20 time: 14:50:57.088800\n",
      "val idx: 30 time: 14:50:58.716147\n",
      "val idx: 40 time: 14:51:00.341223\n",
      "val idx: 50 time: 14:51:01.968906\n",
      "val idx: 60 time: 14:51:03.586560\n",
      "val idx: 70 time: 14:51:05.198957\n",
      "val idx: 80 time: 14:51:06.820822\n",
      "val idx: 90 time: 14:51:08.432994\n",
      "val idx: 100 time: 14:51:10.052913\n",
      "val idx: 110 time: 14:51:11.668298\n",
      "val idx: 120 time: 14:51:13.269922\n",
      "val idx: 130 time: 14:51:14.878926\n",
      "val idx: 140 time: 14:51:16.482255\n",
      "val idx: 150 time: 14:51:18.102506\n",
      "val idx: 160 time: 14:51:19.713010\n",
      "val idx: 170 time: 14:51:21.314039\n",
      "val idx: 180 time: 14:51:22.921480\n",
      "Epoch 2 completed - train loss: 225.4011 train correct pred: 54,896.0 val loss 134.859421 val correct pred: 33,060.0 LR: 0.010000\n",
      "saving\n",
      "train idx: 0  time: 14:51:25.500266\n",
      "train idx: 10  time: 14:51:27.163174\n",
      "train idx: 20  time: 14:51:28.833893\n",
      "train idx: 30  time: 14:51:30.504066\n",
      "train idx: 40  time: 14:51:32.182171\n",
      "train idx: 50  time: 14:51:33.853255\n",
      "train idx: 60  time: 14:51:35.515262\n",
      "train idx: 70  time: 14:51:37.171505\n",
      "train idx: 80  time: 14:51:38.827852\n",
      "train idx: 90  time: 14:51:40.484187\n",
      "train idx: 100  time: 14:51:42.143960\n",
      "train idx: 110  time: 14:51:43.799918\n",
      "train idx: 120  time: 14:51:45.463343\n",
      "train idx: 130  time: 14:51:47.346478\n",
      "train idx: 140  time: 14:51:48.992110\n",
      "train idx: 150  time: 14:51:50.652789\n",
      "train idx: 160  time: 14:51:52.334178\n",
      "train idx: 170  time: 14:51:54.002935\n",
      "train idx: 180  time: 14:51:55.663643\n",
      "train idx: 190  time: 14:51:57.316960\n",
      "train idx: 200  time: 14:51:58.960611\n",
      "train idx: 210  time: 14:52:00.601866\n",
      "train idx: 220  time: 14:52:02.235361\n",
      "train idx: 230  time: 14:52:03.896759\n",
      "train idx: 240  time: 14:52:05.537903\n",
      "train idx: 250  time: 14:52:07.195980\n",
      "train idx: 260  time: 14:52:08.849342\n",
      "train idx: 270  time: 14:52:10.491201\n",
      "train idx: 280  time: 14:52:12.149415\n",
      "train idx: 290  time: 14:52:13.794114\n",
      "train idx: 300  time: 14:52:15.446893\n",
      "train idx: 310  time: 14:52:17.091332\n",
      "val idx: 0 time: 14:52:17.686901\n",
      "val idx: 10 time: 14:52:19.308318\n",
      "val idx: 20 time: 14:52:20.951555\n",
      "val idx: 30 time: 14:52:22.582014\n",
      "val idx: 40 time: 14:52:24.206710\n",
      "val idx: 50 time: 14:52:25.825534\n",
      "val idx: 60 time: 14:52:27.445211\n",
      "val idx: 70 time: 14:52:29.060470\n",
      "val idx: 80 time: 14:52:30.672913\n",
      "val idx: 90 time: 14:52:32.292069\n",
      "val idx: 100 time: 14:52:33.910463\n",
      "val idx: 110 time: 14:52:35.750229\n",
      "val idx: 120 time: 14:52:37.376082\n",
      "val idx: 130 time: 14:52:38.992313\n",
      "val idx: 140 time: 14:52:40.605162\n",
      "val idx: 150 time: 14:52:42.210647\n",
      "val idx: 160 time: 14:52:43.844181\n",
      "val idx: 170 time: 14:52:45.450231\n",
      "val idx: 180 time: 14:52:47.059601\n",
      "Epoch 3 completed - train loss: 216.1770 train correct pred: 54,872.0 val loss 132.077042 val correct pred: 33,062.0 LR: 0.010000\n",
      "saving\n",
      "train idx: 0  time: 14:52:49.422326\n",
      "train idx: 10  time: 14:52:51.079353\n",
      "train idx: 20  time: 14:52:52.768370\n",
      "train idx: 30  time: 14:52:54.456883\n",
      "train idx: 40  time: 14:52:56.140085\n",
      "train idx: 50  time: 14:52:57.803515\n",
      "train idx: 60  time: 14:52:59.460374\n",
      "train idx: 70  time: 14:53:01.124422\n",
      "train idx: 80  time: 14:53:02.788699\n",
      "train idx: 90  time: 14:53:04.445000\n",
      "train idx: 100  time: 14:53:06.102628\n",
      "train idx: 110  time: 14:53:07.770539\n",
      "train idx: 120  time: 14:53:09.413556\n",
      "train idx: 130  time: 14:53:11.069683\n",
      "train idx: 140  time: 14:53:12.719740\n",
      "train idx: 150  time: 14:53:14.389570\n",
      "train idx: 160  time: 14:53:16.047406\n",
      "train idx: 170  time: 14:53:17.694759\n",
      "train idx: 180  time: 14:53:19.357068\n",
      "train idx: 190  time: 14:53:20.996678\n",
      "train idx: 200  time: 14:53:22.656560\n",
      "train idx: 210  time: 14:53:24.301173\n",
      "train idx: 220  time: 14:53:25.947212\n",
      "train idx: 230  time: 14:53:27.591835\n",
      "train idx: 240  time: 14:53:29.243978\n",
      "train idx: 250  time: 14:53:30.896446\n",
      "train idx: 260  time: 14:53:32.556368\n",
      "train idx: 270  time: 14:53:34.199909\n",
      "train idx: 280  time: 14:53:35.855990\n",
      "train idx: 290  time: 14:53:37.503141\n",
      "train idx: 300  time: 14:53:39.154306\n",
      "train idx: 310  time: 14:53:40.789845\n",
      "val idx: 0 time: 14:53:41.538578\n",
      "val idx: 10 time: 14:53:43.157496\n",
      "val idx: 20 time: 14:53:44.783697\n",
      "val idx: 30 time: 14:53:46.424804\n",
      "val idx: 40 time: 14:53:48.268619\n",
      "val idx: 50 time: 14:53:49.893328\n",
      "val idx: 60 time: 14:53:51.506505\n",
      "val idx: 70 time: 14:53:53.119133\n",
      "val idx: 80 time: 14:53:54.723315\n",
      "val idx: 90 time: 14:53:56.339023\n",
      "val idx: 100 time: 14:53:57.950266\n",
      "val idx: 110 time: 14:53:59.556508\n",
      "val idx: 120 time: 14:54:01.362007\n",
      "val idx: 130 time: 14:54:02.956463\n",
      "val idx: 140 time: 14:54:04.569211\n",
      "val idx: 150 time: 14:54:06.381120\n",
      "val idx: 160 time: 14:54:07.980667\n",
      "val idx: 170 time: 14:54:09.582008\n",
      "val idx: 180 time: 14:54:11.184191\n",
      "Epoch 4 completed - train loss: 212.5853 train correct pred: 54,888.0 val loss 132.316605 val correct pred: 33,063.0 LR: 0.010000\n",
      "train idx: 0  time: 14:54:12.848850\n",
      "train idx: 10  time: 14:54:14.730865\n",
      "train idx: 20  time: 14:54:16.832936\n",
      "train idx: 30  time: 14:54:18.512862\n",
      "train idx: 40  time: 14:54:20.181866\n",
      "train idx: 50  time: 14:54:22.250287\n"
     ]
    },
    {
     "name": "stdout",
     "output_type": "stream",
     "text": [
      "train idx: 60  time: 14:54:23.893191\n",
      "train idx: 70  time: 14:54:25.752263\n",
      "train idx: 80  time: 14:54:27.618422\n",
      "train idx: 90  time: 14:54:29.269938\n",
      "train idx: 100  time: 14:54:30.920774\n",
      "train idx: 110  time: 14:54:32.773570\n",
      "train idx: 120  time: 14:54:34.622762\n",
      "train idx: 130  time: 14:54:36.269952\n",
      "train idx: 140  time: 14:54:37.922475\n",
      "train idx: 150  time: 14:54:39.582398\n",
      "train idx: 160  time: 14:54:41.237517\n",
      "train idx: 170  time: 14:54:43.097587\n",
      "train idx: 180  time: 14:54:44.948017\n",
      "train idx: 190  time: 14:54:46.601411\n",
      "train idx: 200  time: 14:54:48.262810\n",
      "train idx: 210  time: 14:54:49.917635\n",
      "train idx: 220  time: 14:54:51.574790\n",
      "train idx: 230  time: 14:54:53.227981\n",
      "train idx: 240  time: 14:54:55.081243\n",
      "train idx: 250  time: 14:54:56.941743\n",
      "train idx: 260  time: 14:54:59.002285\n",
      "train idx: 270  time: 14:55:00.665937\n",
      "train idx: 280  time: 14:55:02.302760\n",
      "train idx: 290  time: 14:55:03.938572\n",
      "train idx: 300  time: 14:55:05.592710\n",
      "train idx: 310  time: 14:55:07.431402\n",
      "val idx: 0 time: 14:55:08.010015\n",
      "val idx: 10 time: 14:55:09.842503\n",
      "val idx: 20 time: 14:55:11.719922\n",
      "val idx: 30 time: 14:55:13.350307\n",
      "val idx: 40 time: 14:55:14.979818\n",
      "val idx: 50 time: 14:55:16.597527\n",
      "val idx: 60 time: 14:55:18.429436\n",
      "val idx: 70 time: 14:55:20.248090\n",
      "val idx: 80 time: 14:55:22.279539\n",
      "val idx: 90 time: 14:55:23.915404\n",
      "val idx: 100 time: 14:55:25.586005\n",
      "val idx: 110 time: 14:55:27.214432\n",
      "val idx: 120 time: 14:55:28.834992\n",
      "val idx: 130 time: 14:55:30.449911\n",
      "val idx: 140 time: 14:55:32.481685\n",
      "val idx: 150 time: 14:55:34.296820\n",
      "val idx: 160 time: 14:55:36.121450\n",
      "val idx: 170 time: 14:55:37.961591\n",
      "val idx: 180 time: 14:55:39.566427\n",
      "Epoch 5 completed - train loss: 210.2153 train correct pred: 54,872.0 val loss 129.609833 val correct pred: 33,061.0 LR: 0.010000\n",
      "saving\n"
     ]
    }
   ],
   "source": [
    "import datetime\n",
    "\n",
    "best_loss = 1e+8\n",
    "best_epoch = 0\n",
    "epochs = 5\n",
    "\n",
    "os.environ['CUDA_LAUNCH_BLOCKING'] = '1'\n",
    "for epoch in range(epochs):\n",
    "    model.train()\n",
    "\n",
    "    total_training_loss = 0\n",
    "    total_val_loss = 0\n",
    "\n",
    "    train_correct = 0\n",
    "    val_correct = 0\n",
    "\n",
    "    for train_idx, (x, y) in enumerate(train_dataloader):\n",
    "\n",
    "        if train_idx % 10 == 0:\n",
    "            print(f'train idx: {train_idx}  time: {datetime.datetime.now().time()}')\n",
    "\n",
    "        y = y.unsqueeze(1)\n",
    "        \n",
    "        x, y = x.to(device), y.to(device)\n",
    "        \n",
    "        pred = model(x)\n",
    "        loss = loss_fn(pred, y.float())\n",
    "\n",
    "        opt.zero_grad()\n",
    "        loss.backward()\n",
    "        opt.step()\n",
    "\n",
    "        total_training_loss += loss\n",
    "        train_correct += (pred.argmax(1) == y).type(torch.float).sum().item()\n",
    "\n",
    "    with torch.no_grad():\n",
    "        model.eval()\n",
    "\n",
    "        for val_idx, (x, y) in enumerate(validation_dataloader):\n",
    "\n",
    "            if val_idx % 10 == 0:\n",
    "                print(f'val idx: {val_idx} time: {datetime.datetime.now().time()}')\n",
    "\n",
    "            y = y.unsqueeze(1)\n",
    "            (x, y) = (x.to(device), y.to(device))\n",
    "            pred = model(x)\n",
    "            total_val_loss += loss_fn(pred, y.float())\n",
    "            val_correct += (pred.argmax(1) == y).type(torch.float).sum().item()\n",
    "        \n",
    "    # break if no val loss improvement in 3 epochs\n",
    "    if ((epoch - best_epoch) >= 3):\n",
    "        print(\"no improvement in 3 epochs, break\")\n",
    "        break\n",
    "\n",
    "    lr = next(iter(opt.param_groups))['lr']\n",
    "    \n",
    "    print('Epoch {} completed - train loss: {:.4f} train correct pred: {:,} val loss {:4f} val correct pred: {:,} LR: {:4f}'.format(\n",
    "      epoch+1, total_training_loss, train_correct, total_val_loss, val_correct, lr \n",
    "          ))\n",
    "\n",
    "    # checkpoint model if has best val loss yet\n",
    "    if total_val_loss < best_loss:\n",
    "        best_loss = total_val_loss\n",
    "        best_epoch = epoch\n",
    "        checkpoint(model, best_loss, epoch, lr, obj_path)\n",
    "\n",
    "    scheduler.step()"
   ]
  },
  {
   "cell_type": "code",
   "execution_count": 17,
   "metadata": {},
   "outputs": [],
   "source": [
    "running_labels = torch.Tensor(0, 1).to(device)\n",
    "running_outputs = torch.Tensor(0, 1).to(device)\n",
    "\n",
    "with torch.no_grad():\n",
    "    model.eval()\n",
    "    for i, (inputs, labels) in enumerate(test_dataloader):\n",
    "        inputs, labels = inputs.to(device), labels.reshape(-1, 1).float().to(device)\n",
    "\n",
    "        outputs = model(inputs)\n",
    "\n",
    "        running_labels = torch.cat((running_labels, labels), dim=0)\n",
    "        running_outputs = torch.cat((running_outputs, outputs), dim=0)"
   ]
  },
  {
   "cell_type": "code",
   "execution_count": 18,
   "metadata": {},
   "outputs": [
    {
     "name": "stdout",
     "output_type": "stream",
     "text": [
      "precision:\t0.5887\n",
      "recall:\t\t0.7853\n",
      "f1:\t\t0.6729\n",
      "\n"
     ]
    },
    {
     "name": "stderr",
     "output_type": "stream",
     "text": [
      "/tmp/ipykernel_850054/3700865511.py:21: UserWarning: Matplotlib is currently using module://matplotlib_inline.backend_inline, which is a non-GUI backend, so cannot show the figure.\n",
      "  fig.show()\n"
     ]
    },
    {
     "data": {
      "image/png": "[encoded data removed]",
      "text/plain": [
       "<Figure size 450x300 with 2 Axes>"
      ]
     },
     "metadata": {
      "needs_background": "light"
     },
     "output_type": "display_data"
    }
   ],
   "source": [
    "import sklearn.metrics as metrics\n",
    "import seaborn as sns\n",
    "\n",
    "y_true = running_labels.cpu().numpy()\n",
    "y_pred = (running_outputs>=0.0).float().cpu().numpy()\n",
    "y_proba = torch.nn.Sigmoid()(running_outputs).cpu().numpy()\n",
    "\n",
    "precision = metrics.precision_score(y_true, y_pred)\n",
    "recall = metrics.recall_score(y_true, y_pred)\n",
    "f1 = metrics.f1_score(y_true, y_pred)\n",
    "\n",
    "print('precision:\\t{:.4f}'.format(precision))\n",
    "print('recall:\\t\\t{:.4f}'.format(recall))\n",
    "print('f1:\\t\\t{:.4f}'.format(f1))\n",
    "print()\n",
    "\n",
    "fig = plt.figure(dpi=75)\n",
    "ax = plt.gca()\n",
    "sns.heatmap(metrics.confusion_matrix(y_true, y_pred), annot=True, fmt=',', cmap='Blues')\n",
    "fig.tight_layout()\n",
    "fig.show()"
   ]
  },
  {
   "cell_type": "code",
   "execution_count": 19,
   "metadata": {},
   "outputs": [
    {
     "data": {
      "image/png": "[encoded data removed]",
      "text/plain": [
       "<Figure size 900x600 with 1 Axes>"
      ]
     },
     "metadata": {
      "needs_background": "light"
     },
     "output_type": "display_data"
    }
   ],
   "source": [
    "fpr, tpr, _ = metrics.roc_curve(y_true, y_proba)\n",
    "roc_auc_score = metrics.roc_auc_score(y_true, y_proba)\n",
    "\n",
    "no_skill = np.linspace(0, 1, 100)\n",
    "\n",
    "plt.figure(dpi=150)\n",
    "plt.plot(fpr, tpr, label='AUC {:.2f}'.format(roc_auc_score))\n",
    "plt.plot(no_skill, no_skill, '--r')\n",
    "plt.legend(loc='lower right')\n",
    "plt.xlim(0, 1)\n",
    "plt.ylim(0, 1)\n",
    "plt.ylabel('True-positive Rate')\n",
    "plt.xlabel('False-positive Rate')\n",
    "plt.tight_layout()\n",
    "plt.show()"
   ]
  },
  {
   "cell_type": "code",
   "execution_count": 20,
   "metadata": {},
   "outputs": [
    {
     "data": {
      "image/png": "[encoded data removed]",
      "text/plain": [
       "<Figure size 900x600 with 1 Axes>"
      ]
     },
     "metadata": {
      "needs_background": "light"
     },
     "output_type": "display_data"
    }
   ],
   "source": [
    "precision, recall, _ = metrics.precision_recall_curve(y_true, y_proba)\n",
    "auprc_score = metrics.auc(recall, precision)\n",
    "\n",
    "plt.figure(dpi=150)\n",
    "plt.plot(recall, precision, label='AUC {:.2f}'.format(auprc_score))\n",
    "plt.legend(loc='lower right')\n",
    "plt.xlim(0, 1)\n",
    "plt.ylim(0, 1)\n",
    "plt.ylabel('Precision')\n",
    "plt.xlabel('Recall')\n",
    "plt.tight_layout()\n",
    "plt.show()"
   ]
  }
 ],
 "metadata": {
  "colab": {
   "collapsed_sections": [
    "rguC2zzFIoy8"
   ],
   "provenance": [
    {
     "file_id": "1AKoj5cDyQEgf4sR7vLp_mVMUXDSgxrnK",
     "timestamp": 1628891508496
    }
   ]
  },
  "kernelspec": {
   "display_name": "Python 3 (ipykernel)",
   "language": "python",
   "name": "python3"
  },
  "language_info": {
   "codemirror_mode": {
    "name": "ipython",
    "version": 3
   },
   "file_extension": ".py",
   "mimetype": "text/x-python",
   "name": "python",
   "nbconvert_exporter": "python",
   "pygments_lexer": "ipython3",
   "version": "3.9.7"
  }
 },
 "nbformat": 4,
 "nbformat_minor": 1
}
