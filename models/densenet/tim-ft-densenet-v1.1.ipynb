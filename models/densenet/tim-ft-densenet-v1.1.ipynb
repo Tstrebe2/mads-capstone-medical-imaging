{
  "nbformat": 4,
  "nbformat_minor": 0,
  "metadata": {
    "colab": {
      "provenance": [],
      "machine_shape": "hm",
      "authorship_tag": "ABX9TyPsFm661+IKQlaDU1XL0GBi",
      "include_colab_link": true
    },
    "kernelspec": {
      "name": "python3",
      "display_name": "Python 3"
    },
    "language_info": {
      "name": "python"
    },
    "accelerator": "GPU",
    "gpuClass": "premium"
  },
  "cells": [
    {
      "cell_type": "markdown",
      "metadata": {
        "id": "view-in-github",
        "colab_type": "text"
      },
      "source": [
        "<a href=\"https://colab.research.google.com/github/Tstrebe2/umich-mads-capstone-project/blob/main/models/densenet/tim-ft-densenet-v1.1.ipynb\" target=\"_parent\"><img src=\"https://colab.research.google.com/assets/colab-badge.svg\" alt=\"Open In Colab\"/></a>"
      ]
    },
    {
      "cell_type": "code",
      "source": [
        "import sys\n",
        "\n",
        "!{sys.executable} -m pip install pydicom -q\n",
        "!{sys.executable} -m pip install torchmetrics -q"
      ],
      "metadata": {
        "id": "JduPGuQNzp7-",
        "outputId": "94ed3c55-6155-4b46-beb8-0a9c6db08eb7",
        "colab": {
          "base_uri": "https://localhost:8080/"
        }
      },
      "execution_count": 1,
      "outputs": [
        {
          "output_type": "stream",
          "name": "stdout",
          "text": [
            "\u001b[K     |████████████████████████████████| 2.0 MB 8.2 MB/s \n",
            "\u001b[K     |████████████████████████████████| 529 kB 8.2 MB/s \n",
            "\u001b[?25h"
          ]
        }
      ]
    },
    {
      "cell_type": "code",
      "source": [
        "from google.colab import drive\n",
        "drive.mount('/content/drive')"
      ],
      "metadata": {
        "id": "7xSxUD5n6A4P",
        "outputId": "fec333d2-23c7-4535-cb6c-57414d04b327",
        "colab": {
          "base_uri": "https://localhost:8080/"
        }
      },
      "execution_count": 2,
      "outputs": [
        {
          "output_type": "stream",
          "name": "stdout",
          "text": [
            "Mounted at /content/drive\n"
          ]
        }
      ]
    },
    {
      "cell_type": "code",
      "source": [
        "path = '/content/drive/MyDrive/capstone/assets/stage_2_train_images.zip'\n",
        "!mkdir -p /content/images\n",
        "!unzip -qq {path} -d /content/images"
      ],
      "metadata": {
        "id": "COAzi1-C6G5e"
      },
      "execution_count": 3,
      "outputs": []
    },
    {
      "cell_type": "code",
      "source": [
        "from torch.utils.data import DataLoader, Dataset\n",
        "from torch.optim.lr_scheduler import StepLR\n",
        "import torch.nn.functional as F\n",
        "import torch\n",
        "import torchvision\n",
        "import torchmetrics\n",
        "\n",
        "import pydicom as dicom\n",
        "from PIL import Image\n",
        "\n",
        "import sklearn.metrics as metrics\n",
        "from sklearn.model_selection import train_test_split\n",
        "\n",
        "import pandas as pd\n",
        "import numpy as np\n",
        "\n",
        "from functools import partial\n",
        "import matplotlib.pyplot as plt\n",
        "import seaborn as sns\n",
        "import time\n",
        "import os\n",
        "import copy"
      ],
      "metadata": {
        "id": "1lSl2uT68b-B"
      },
      "execution_count": 4,
      "outputs": []
    },
    {
      "cell_type": "code",
      "source": [
        "class CustomImageDataset(Dataset):\n",
        "  def __init__(self, annotations_file, img_dir, indices=None, transform=None, target_transform=None):\n",
        "    if indices:\n",
        "      self.img_labels = pd.read_csv(annotations_file).iloc[indices]\n",
        "    else:\n",
        "      self.img_labels = pd.read_csv(annotations_file)\n",
        "\n",
        "    self.img_dir = img_dir\n",
        "    self.transform = transform\n",
        "    self.target_transform = target_transform\n",
        "\n",
        "  def __len__(self):\n",
        "    return len(self.img_labels)\n",
        "\n",
        "  def __getitem__(self, idx):\n",
        "    img_path = ''.join([os.path.join(self.img_dir, self.img_labels.iloc[idx, 0]), '.dcm'])\n",
        "    \n",
        "    image = dicom.dcmread(img_path)\n",
        "    image = Image.fromarray(image.pixel_array)\n",
        "\n",
        "    label = self.img_labels.iloc[idx, -1]\n",
        "\n",
        "    if self.transform:\n",
        "        image = self.transform(image)\n",
        "    if self.target_transform:\n",
        "        label = self.target_transform(label)\n",
        "    return image, label"
      ],
      "metadata": {
        "id": "zNLXGSDI_kCX"
      },
      "execution_count": 5,
      "outputs": []
    },
    {
      "cell_type": "code",
      "source": [
        "annotations_file = '/content/drive/MyDrive/capstone/assets/stage_2_train_labels.csv.zip'\n",
        "img_dir = '/content/images'\n",
        "\n",
        "label_df = pd.read_csv(annotations_file).groupby('patientId').first().reset_index()\n",
        "\n",
        "X_train, X_test = train_test_split(label_df, test_size=.2, stratify=label_df.Target, random_state=99)\n",
        "X_val, X_test, = train_test_split(X_test, test_size=.5, stratify=X_test.Target, random_state=99)\n",
        "X_train, X_val, X_test = X_train.index.tolist(), X_val.index.tolist(), (X_test.index.tolist())\n",
        "\n",
        "len(X_train), len(X_val),  len(X_test)"
      ],
      "metadata": {
        "id": "MGHvAZz_JVvY",
        "outputId": "7e19b9d7-1bf5-4103-ccd6-a434ab919711",
        "colab": {
          "base_uri": "https://localhost:8080/"
        }
      },
      "execution_count": 6,
      "outputs": [
        {
          "output_type": "execute_result",
          "data": {
            "text/plain": [
              "(21347, 2668, 2669)"
            ]
          },
          "metadata": {},
          "execution_count": 6
        }
      ]
    },
    {
      "cell_type": "code",
      "source": [
        "mean = [0.5173]\n",
        "std = [0.2167]\n",
        "\n",
        "transforms = dict(\n",
        "  train = torchvision.transforms.Compose([\n",
        "      torchvision.transforms.RandomHorizontalFlip(),\n",
        "      # torchvision.transforms.RandomRotation((-5, 5)),\n",
        "      torchvision.transforms.Resize(256),\n",
        "      torchvision.transforms.CenterCrop(224),\n",
        "      torchvision.transforms.ToTensor(),\n",
        "      torchvision.transforms.Normalize(mean, std),\n",
        "  ]),\n",
        "  val = torchvision.transforms.Compose([\n",
        "      torchvision.transforms.Resize(256),\n",
        "      torchvision.transforms.CenterCrop(224),\n",
        "      torchvision.transforms.ToTensor(),\n",
        "      torchvision.transforms.Normalize(mean, std),\n",
        "  ])\n",
        ")\n",
        "\n",
        "target_transforms = torchvision.transforms.Compose([\n",
        "  torch.tensor,\n",
        "])\n",
        "\n",
        "datasets = dict(\n",
        "    train=CustomImageDataset(annotations_file, img_dir, indices=X_train, transform=transforms['train'], target_transform=target_transforms),\n",
        "    val=CustomImageDataset(annotations_file, img_dir, indices=X_val, transform=transforms['val'], target_transform=target_transforms),\n",
        "    test=CustomImageDataset(annotations_file, img_dir, indices=X_test, transform=transforms['val'], target_transform=target_transforms),\n",
        ")"
      ],
      "metadata": {
        "id": "w1nRRSEyAAz1"
      },
      "execution_count": 27,
      "outputs": []
    },
    {
      "cell_type": "code",
      "source": [
        "batch_size = 32\n",
        "\n",
        "data_loaders = dict(\n",
        "    train=DataLoader(datasets['train'], batch_size=batch_size, shuffle=True),\n",
        "    val=DataLoader(datasets['val'], batch_size=batch_size, shuffle=True),\n",
        "    test=DataLoader(datasets['test'], batch_size=batch_size),\n",
        ")\n",
        "\n",
        "dataset_sizes = {x:len(datasets[x]) for x in ('train', 'val', 'test')}\n",
        "\n",
        "print('training steps per epoch:', dataset_sizes['train']//batch_size)\n",
        "print('validation steps per epoch:', dataset_sizes['val']//batch_size)\n",
        "print('test steps per epoch:', dataset_sizes['test']//batch_size)"
      ],
      "metadata": {
        "id": "VjUshz9K1TwC",
        "outputId": "de2a25b4-c7f1-4a75-a1b1-66a8047af78d",
        "colab": {
          "base_uri": "https://localhost:8080/"
        }
      },
      "execution_count": 28,
      "outputs": [
        {
          "output_type": "stream",
          "name": "stdout",
          "text": [
            "training steps per epoch: 667\n",
            "validation steps per epoch: 83\n",
            "test steps per epoch: 83\n"
          ]
        }
      ]
    },
    {
      "cell_type": "code",
      "source": [
        "# Uncomment and run to get mean and standard deviation\n",
        "# for x, y in data_loaders['train']:\n",
        "#   break\n",
        "\n",
        "# x.mean(), x.std()"
      ],
      "metadata": {
        "id": "uuj4qtQREi_i"
      },
      "execution_count": null,
      "outputs": []
    },
    {
      "cell_type": "code",
      "source": [
        "model = torchvision.models.densenet121(weights='DEFAULT')\n",
        "# Change first layer to from 3 channel input to 1.\n",
        "model.features.conv0 = torch.nn.Conv2d(1, 64, kernel_size=(7, 7), stride=(2, 2), padding=(3, 3), bias=False)\n",
        "# Lets start by freezing the layers so that we only tune our classifier.\n",
        "for param in model.parameters():\n",
        "  param.requires_grad = False\n",
        "# add final layer with # outputs in same dimension of labels\n",
        "# these layers will have params.requires_grad=True\n",
        "model.classifier = torch.nn.Sequential(\n",
        "    torch.nn.Linear(model.classifier.in_features, 1))\n",
        "# Now lets only add the classifier layers to the optimizer\n",
        "params_to_update = []\n",
        "for name, param in model.named_parameters():\n",
        "  if param.requires_grad == True:\n",
        "    params_to_update.append(param)\n",
        "    print(\"\\t\",name)\n",
        "\n",
        "device = torch.device(\"cuda\" if torch.cuda.is_available() else \"cpu\")\n",
        "\n",
        "model = model.to(device)\n",
        "\n",
        "zero, one = label_df.iloc[X_train].Target.value_counts().tolist()\n",
        "\n",
        "criterion = torch.nn.BCEWithLogitsLoss(pos_weight=torch.tensor([3.0]).to(device))\n",
        "optimizer = torch.optim.SGD(params_to_update, lr=1e-3, momentum=0.9)\n",
        "scheduler = StepLR(optimizer, step_size=5, gamma=0.9)"
      ],
      "metadata": {
        "id": "P-jtkmQSHgil",
        "colab": {
          "base_uri": "https://localhost:8080/"
        },
        "outputId": "f4392ea5-2b33-4894-ceac-552fa95b3ffc"
      },
      "execution_count": 29,
      "outputs": [
        {
          "output_type": "stream",
          "name": "stdout",
          "text": [
            "\t classifier.0.weight\n",
            "\t classifier.0.bias\n"
          ]
        }
      ]
    },
    {
      "cell_type": "code",
      "source": [
        "def train_model(model, criterion, optimizer, scheduler, num_epochs):\n",
        "  since = time.time()\n",
        "\n",
        "  best_model_wts = copy.deepcopy(model.state_dict())\n",
        "  best_acc = 0.0\n",
        "  best_loss = 1e+8\n",
        "\n",
        "  for epoch in range(num_epochs):\n",
        "    print(f'Epoch {epoch}/{num_epochs-1}')\n",
        "    print('-' * 10)\n",
        "\n",
        "    for phase in ('train', 'val'):\n",
        "      if phase == 'train':\n",
        "        model.train()\n",
        "      else:\n",
        "        model.eval()\n",
        "\n",
        "      running_loss = 0.0\n",
        "      running_corrects = 0\n",
        "\n",
        "      for (inputs, labels) in data_loaders[phase]:\n",
        "        inputs = inputs.to(device)\n",
        "        labels = labels.reshape(-1, 1).float().to(device)\n",
        "\n",
        "        optimizer.zero_grad()\n",
        "\n",
        "        with torch.set_grad_enabled(phase=='train'):\n",
        "          outputs = model(inputs)\n",
        "          preds = (outputs >= 0.0).float()\n",
        "          loss = criterion(outputs, labels)\n",
        "\n",
        "          if phase == 'train':\n",
        "            loss.backward()\n",
        "            optimizer.step()\n",
        "\n",
        "        running_loss += loss.item() * inputs.size(0)\n",
        "        running_corrects += torch.sum(preds == labels.data)\n",
        "\n",
        "      if phase == 'train':\n",
        "        scheduler.step()\n",
        "\n",
        "      epoch_loss = running_loss / dataset_sizes[phase]\n",
        "      epoch_acc = running_corrects.double() / dataset_sizes[phase]\n",
        "      lr = next(iter(optimizer.param_groups))['lr']\n",
        "\n",
        "      print(f'{phase} Loss: {epoch_loss:.4f} Acc: {epoch_acc:.4f} LR: {lr:6f}')\n",
        "\n",
        "      # deep copy the model\n",
        "      if phase == 'val' and epoch_loss < best_loss:\n",
        "          best_loss = epoch_loss\n",
        "          best_acc = epoch_acc\n",
        "          best_model_wts = copy.deepcopy(model.state_dict())\n",
        "\n",
        "  time_elapsed = time.time() - since\n",
        "  print(f'Training complete in {time_elapsed // 60:.0f}m {time_elapsed % 60:.0f}s')\n",
        "  print(f'Best val Loss: {best_loss:4f}')\n",
        "  print(f'Best val Acc: {best_acc:4f}')\n",
        "\n",
        "  # load best model weights\n",
        "  model.load_state_dict(best_model_wts)\n",
        "  return model"
      ],
      "metadata": {
        "id": "LgkjpFIBIlDm"
      },
      "execution_count": 30,
      "outputs": []
    },
    {
      "cell_type": "code",
      "source": [
        "model = train_model(model, criterion, optimizer, scheduler, num_epochs=6)"
      ],
      "metadata": {
        "colab": {
          "base_uri": "https://localhost:8080/"
        },
        "id": "1z3-ShA1QZNv",
        "outputId": "7ef2c7c8-0da8-4161-b3a6-09caa804dafe"
      },
      "execution_count": 31,
      "outputs": [
        {
          "output_type": "stream",
          "name": "stdout",
          "text": [
            "Epoch 0/5\n",
            "----------\n",
            "train Loss: 0.8667 Acc: 0.6952 LR: 0.001000\n",
            "val Loss: 0.7729 Acc: 0.7268 LR: 0.001000\n",
            "Epoch 1/5\n",
            "----------\n",
            "train Loss: 0.8449 Acc: 0.7150 LR: 0.001000\n",
            "val Loss: 0.7776 Acc: 0.7166 LR: 0.001000\n",
            "Epoch 2/5\n",
            "----------\n",
            "train Loss: 0.8301 Acc: 0.7158 LR: 0.001000\n",
            "val Loss: 0.8039 Acc: 0.7864 LR: 0.001000\n",
            "Epoch 3/5\n",
            "----------\n",
            "train Loss: 0.8304 Acc: 0.7214 LR: 0.001000\n",
            "val Loss: 0.7735 Acc: 0.7226 LR: 0.001000\n",
            "Epoch 4/5\n",
            "----------\n",
            "train Loss: 0.8202 Acc: 0.7237 LR: 0.000900\n",
            "val Loss: 0.7586 Acc: 0.7575 LR: 0.000900\n",
            "Epoch 5/5\n",
            "----------\n",
            "train Loss: 0.8231 Acc: 0.7250 LR: 0.000900\n",
            "val Loss: 0.8340 Acc: 0.6615 LR: 0.000900\n",
            "Training complete in 31m 56s\n",
            "Best val Loss: 0.758599\n",
            "Best val Acc: 0.757496\n"
          ]
        }
      ]
    },
    {
      "cell_type": "code",
      "source": [
        "# Save model\n",
        "path = '/content/drive/MyDrive/capstone/models/tim-densenet-121-ft'\n",
        "\n",
        "torch.save({\n",
        "    'train_ix':X_train, \n",
        "    'val_ix':X_val, \n",
        "    'test_ix':X_test,\n",
        "    'model_state_dict': model.state_dict(),\n",
        "    'optimizer_state_dict': optimizer.state_dict(),\n",
        "  },\n",
        "  path\n",
        ")"
      ],
      "metadata": {
        "id": "7b9eg1v7_Nrp"
      },
      "execution_count": 32,
      "outputs": []
    },
    {
      "cell_type": "code",
      "source": [
        "# path = '/content/drive/MyDrive/capstone/models/tim-densenet-201-ft'\n",
        "# model.load_state_dict(torch.load(path)['model_state_dict'])\n",
        "# model = model.to(device)"
      ],
      "metadata": {
        "id": "9JccQKoGMMtq"
      },
      "execution_count": null,
      "outputs": []
    },
    {
      "cell_type": "code",
      "source": [
        "# Lets unfreeze and fine-tune the model for a couple of epochs\n",
        "for param in model.parameters():\n",
        "  param.requires_grad = True\n",
        "\n",
        "optimizer = torch.optim.SGD(model.parameters(), lr=1e-4, momentum=0.2)\n",
        "scheduler = StepLR(optimizer, step_size=3, gamma=0.7)"
      ],
      "metadata": {
        "id": "iopk3V8f-o7x"
      },
      "execution_count": 46,
      "outputs": []
    },
    {
      "cell_type": "code",
      "source": [
        "model = train_model(model, criterion, optimizer, scheduler, num_epochs=6)"
      ],
      "metadata": {
        "id": "NXeeND17-2w8",
        "outputId": "c8f08560-25c8-4bd3-b698-c6e5ec18e4a2",
        "colab": {
          "base_uri": "https://localhost:8080/"
        }
      },
      "execution_count": 47,
      "outputs": [
        {
          "output_type": "stream",
          "name": "stdout",
          "text": [
            "Epoch 0/5\n",
            "----------\n",
            "train Loss: 0.7964 Acc: 0.7339 LR: 0.000100\n",
            "val Loss: 0.7472 Acc: 0.7732 LR: 0.000100\n",
            "Epoch 1/5\n",
            "----------\n",
            "train Loss: 0.7753 Acc: 0.7423 LR: 0.000100\n",
            "val Loss: 0.7545 Acc: 0.7369 LR: 0.000100\n",
            "Epoch 2/5\n",
            "----------\n",
            "train Loss: 0.7632 Acc: 0.7470 LR: 0.000070\n",
            "val Loss: 0.7590 Acc: 0.7249 LR: 0.000070\n",
            "Epoch 3/5\n",
            "----------\n",
            "train Loss: 0.7517 Acc: 0.7529 LR: 0.000070\n",
            "val Loss: 0.7333 Acc: 0.7541 LR: 0.000070\n",
            "Epoch 4/5\n",
            "----------\n",
            "train Loss: 0.7388 Acc: 0.7548 LR: 0.000070\n",
            "val Loss: 0.7229 Acc: 0.7736 LR: 0.000070\n",
            "Epoch 5/5\n",
            "----------\n",
            "train Loss: 0.7349 Acc: 0.7575 LR: 0.000049\n",
            "val Loss: 0.7309 Acc: 0.7500 LR: 0.000049\n",
            "Training complete in 47m 3s\n",
            "Best val Loss: 0.722941\n",
            "Best val Acc: 0.773613\n"
          ]
        }
      ]
    },
    {
      "cell_type": "code",
      "source": [
        "running_labels = torch.Tensor(0, 1).to(device)\n",
        "running_outputs = torch.Tensor(0, 1).to(device)\n",
        "\n",
        "with torch.no_grad():\n",
        "  model.eval()\n",
        "  for i, (inputs, labels) in enumerate(data_loaders['test']):\n",
        "    inputs, labels = inputs.to(device), labels.reshape(-1, 1).float().to(device)\n",
        "\n",
        "    outputs = model(inputs)\n",
        "\n",
        "    running_labels = torch.cat((running_labels, labels), dim=0)\n",
        "    running_outputs = torch.cat((running_outputs, outputs), dim=0)"
      ],
      "metadata": {
        "id": "0q_N4b_l-kbU"
      },
      "execution_count": 48,
      "outputs": []
    },
    {
      "cell_type": "code",
      "source": [
        "y_true = running_labels.cpu().numpy()\n",
        "y_proba = torch.nn.Sigmoid()(running_outputs).cpu().numpy()\n",
        "\n",
        "precision, recall, thresholds = metrics.precision_recall_curve(y_true, y_proba)\n",
        "f1_scores = (2 * precision * recall) / (precision + recall)\n",
        "ix = np.argmax(f1_scores)\n",
        "best_thresh = thresholds[ix]\n",
        "\n",
        "y_pred = y_proba >= best_thresh #running_outputs.argmax(dim=1).cpu().numpy()\n",
        "\n",
        "precision = metrics.precision_score(y_true, y_pred)\n",
        "recall = metrics.recall_score(y_true, y_pred)\n",
        "f1 = metrics.f1_score(y_true, y_pred)\n",
        "\n",
        "print('best threshold\\t{:.4f}'.format(best_thresh))\n",
        "print('precision:\\t{:.4f}'.format(precision))\n",
        "print('recall:\\t\\t{:.4f}'.format(recall))\n",
        "print('f1:\\t\\t{:.4f}'.format(f1))\n",
        "print()\n",
        "\n",
        "fig = plt.figure(dpi=75)\n",
        "ax = plt.gca()\n",
        "sns.heatmap(metrics.confusion_matrix(y_true, y_pred), annot=True, fmt=',', cmap='Blues')\n",
        "fig.tight_layout()\n",
        "fig.show()"
      ],
      "metadata": {
        "id": "mkr9m55UOvd7",
        "outputId": "80217c39-eb7f-4144-dd12-bad8cad37c23",
        "colab": {
          "base_uri": "https://localhost:8080/",
          "height": 399
        }
      },
      "execution_count": 49,
      "outputs": [
        {
          "output_type": "stream",
          "name": "stdout",
          "text": [
            "best threshold\t0.5603\n",
            "precision:\t0.6389\n",
            "recall:\t\t0.7840\n",
            "f1:\t\t0.7040\n",
            "\n"
          ]
        },
        {
          "output_type": "display_data",
          "data": {
            "text/plain": [
              "<Figure size 450x300 with 2 Axes>"
            ],
            "image/png": "[encoded data removed]"
          },
          "metadata": {
            "needs_background": "light"
          }
        }
      ]
    },
    {
      "cell_type": "code",
      "source": [
        "fpr, tpr, _ = metrics.roc_curve(y_true, y_proba)\n",
        "roc_auc_score = metrics.roc_auc_score(y_true, y_proba)\n",
        "\n",
        "no_skill = np.linspace(0, 1, 100)\n",
        "\n",
        "plt.figure(dpi=150)\n",
        "plt.plot(fpr, tpr, label='AUC {:.2f}'.format(roc_auc_score))\n",
        "plt.plot(no_skill, no_skill, '--r')\n",
        "plt.legend(loc='lower right')\n",
        "plt.xlim(0, 1)\n",
        "plt.ylim(0, 1)\n",
        "plt.ylabel('True-positive Rate')\n",
        "plt.xlabel('False-positive Rate')\n",
        "plt.tight_layout()\n",
        "plt.show()"
      ],
      "metadata": {
        "id": "6ptiSB83BYGD",
        "outputId": "e8595c7f-7f89-41da-d542-f22f398bb57c",
        "colab": {
          "base_uri": "https://localhost:8080/",
          "height": 602
        }
      },
      "execution_count": 50,
      "outputs": [
        {
          "output_type": "display_data",
          "data": {
            "text/plain": [
              "<Figure size 900x600 with 1 Axes>"
            ],
            "image/png": "[encoded data removed]"
          },
          "metadata": {
            "needs_background": "light"
          }
        }
      ]
    },
    {
      "cell_type": "code",
      "source": [
        "precision, recall, _ = metrics.precision_recall_curve(y_true, y_proba)\n",
        "auprc_score = metrics.auc(recall, precision)\n",
        "\n",
        "plt.figure(dpi=150)\n",
        "plt.plot(recall, precision, label='AUC {:.2f}'.format(auprc_score))\n",
        "plt.legend(loc='lower right')\n",
        "plt.xlim(0, 1)\n",
        "plt.ylim(0, 1)\n",
        "plt.ylabel('Precision')\n",
        "plt.xlabel('Recall')\n",
        "plt.tight_layout()\n",
        "plt.show()"
      ],
      "metadata": {
        "id": "HCQJXI7zM0lY",
        "outputId": "788831aa-8550-4797-dd3c-ac868e46baec",
        "colab": {
          "base_uri": "https://localhost:8080/",
          "height": 602
        }
      },
      "execution_count": 51,
      "outputs": [
        {
          "output_type": "display_data",
          "data": {
            "text/plain": [
              "<Figure size 900x600 with 1 Axes>"
            ],
            "image/png": "[encoded data removed]"
          },
          "metadata": {
            "needs_background": "light"
          }
        }
      ]
    },
    {
      "cell_type": "code",
      "source": [
        "# Save model\n",
        "path = '/content/drive/MyDrive/capstone/models/tim-densenet-121'\n",
        "\n",
        "torch.save({\n",
        "    'train_ix':X_train, \n",
        "    'val_ix':X_val, \n",
        "    'test_ix':X_test,\n",
        "    'model_state_dict': model.state_dict(),\n",
        "    'optimizer_state_dict': optimizer.state_dict(),\n",
        "  },\n",
        "  path\n",
        ")"
      ],
      "metadata": {
        "id": "qVEnyHpxbYGJ"
      },
      "execution_count": 53,
      "outputs": []
    }
  ]
}