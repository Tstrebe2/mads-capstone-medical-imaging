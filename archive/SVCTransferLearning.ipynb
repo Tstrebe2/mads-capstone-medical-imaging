{
 "cells": [
  {
   "cell_type": "code",
   "execution_count": null,
   "id": "c492642a",
   "metadata": {},
   "outputs": [],
   "source": [
    "import pandas as pd\n",
    "import numpy as np\n",
    "from sklearn.svm import LinearSVC\n",
    "from sklearn.svm import SVC\n",
    "from sklearn.pipeline import make_pipeline\n",
    "from sklearn.preprocessing import StandardScaler\n",
    "from sklearn.metrics import average_precision_score, f1_score, roc_auc_score\n",
    "\n",
    "\n",
    "\n",
    "print('Starting Read')\n",
    "featuresDf = pd.read_csv('~/Downloads/rnsa-img-features.csv')\n",
    "\n",
    "train = featuresDf[featuresDf['split'] == 'train']\n",
    "test = featuresDf[featuresDf['split'] == 'test']\n",
    "val = featuresDf[featuresDf['split'] == 'val']\n",
    "\n",
    "print('Creating Train')\n",
    "X_train = train[train.columns[~train.columns.isin(['index','patient_id', 'target', 'split'])]]\n",
    "X_test = test[test.columns[~test.columns.isin(['index','patient_id', 'target', 'split'])]]\n",
    "X_val = val[val.columns[~val.columns.isin(['index','patient_id', 'target', 'split'])]]\n",
    "y_train = train[['target']]\n",
    "y_test = test[['target']]\n",
    "y_val = val[['target']]\n",
    "\n",
    "print('Making Params')\n",
    "# Uncomment this block of code to do a gridsearch in order to find optimal parameters \n",
    "#     params = [{\"kernel\": [\"linear\"],\n",
    "#         \"C\" : [.01,.1,1, 10,50, 100]}, \n",
    "#         {\"kernel\": [\"rbf\"],\n",
    "#         \"C\" : [.01,.1,1, 10,50, 100],\n",
    "#         \"gamma\": [1e-2,1e-3,1e-5, 1e-6]\n",
    "#         }]\n",
    "\n",
    "#     clf = GridSearchCV(svm, params, cv = 5, n_jobs = 4, verbose = 3, scoring = 'average_precision')\n",
    "#     print('SVM: Optimal Parameters: ', str(clf.best_params_))\n",
    "\n",
    "print('initializing SVC')\n",
    "\n",
    "model = make_pipeline(StandardScaler(),\n",
    "                      SVC( kernel = 'rbf', C = 0.05, gamma = 1e-3, class_weight = 'balanced', max_iter = 10000, random_state = 99)\n",
    "                     ).fit(X_train, np.array(y_train.values).ravel())\n",
    "\n",
    "y_score = model.decision_function(X_test)\n",
    "y_pred = model.predict(X_test)\n",
    "\n",
    "score = average_precision_score(y_test, y_score)\n",
    "\n",
    "f1 = f1_score(y_test, y_pred)\n",
    "\n",
    "roc = roc_auc_score(y_test, y_pred)\n"
   ]
  },
  {
   "cell_type": "markdown",
   "id": "0f1f03c2",
   "metadata": {},
   "source": [
    "Best Scores: (Average Precision:0.687, F1: 0.631, ROC AUC: 0.797)\n"
   ]
  },
  {
   "cell_type": "code",
   "execution_count": null,
   "id": "e4e7bd86",
   "metadata": {},
   "outputs": [],
   "source": []
  }
 ],
 "metadata": {
  "kernelspec": {
   "display_name": "Python 3 (ipykernel)",
   "language": "python",
   "name": "python3"
  },
  "language_info": {
   "codemirror_mode": {
    "name": "ipython",
    "version": 3
   },
   "file_extension": ".py",
   "mimetype": "text/x-python",
   "name": "python",
   "nbconvert_exporter": "python",
   "pygments_lexer": "ipython3",
   "version": "3.9.12"
  }
 },
 "nbformat": 4,
 "nbformat_minor": 5
}
