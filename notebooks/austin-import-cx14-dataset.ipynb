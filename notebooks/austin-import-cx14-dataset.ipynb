{
 "cells": [
  {
   "cell_type": "markdown",
   "metadata": {
    "id": "view-in-github"
   },
   "source": [
    "<a href=\"https://colab.research.google.com/github/Tstrebe2/umich-mads-capstone-project/blob/main/tim-ft-densenet.ipynb\" target=\"_parent\"><img src=\"https://colab.research.google.com/assets/colab-badge.svg\" alt=\"Open In Colab\"/></a>"
   ]
  },
  {
   "cell_type": "code",
   "execution_count": 1,
   "metadata": {
    "colab": {
     "base_uri": "https://localhost:8080/"
    },
    "executionInfo": {
     "elapsed": 14483,
     "status": "ok",
     "timestamp": 1668043520658,
     "user": {
      "displayName": "Austin Geary",
      "userId": "04443240831720776372"
     },
     "user_tz": 300
    },
    "id": "7xSxUD5n6A4P",
    "outputId": "9f482268-825f-4cf3-cb6a-db121900b088"
   },
   "outputs": [],
   "source": [
    "#from google.colab import drive\n",
    "#drive.mount('/content/drive')"
   ]
  },
  {
   "cell_type": "code",
   "execution_count": 2,
   "metadata": {
    "executionInfo": {
     "elapsed": 138,
     "status": "ok",
     "timestamp": 1668043523331,
     "user": {
      "displayName": "Austin Geary",
      "userId": "04443240831720776372"
     },
     "user_tz": 300
    },
    "id": "COAzi1-C6G5e"
   },
   "outputs": [],
   "source": [
    "import os\n",
    "\n",
    "#path = '/content/drive/MyDrive/SIADS_699_Capstone/Capstone_Team_Project' #Google Drive path\n",
    "path = '/home/ausgear' #Great Lakes\n",
    "data_path = os.path.join(path, 'data/chest-xray-14')\n",
    "obj_path = os.path.join(path, 'python_objects')"
   ]
  },
  {
   "cell_type": "code",
   "execution_count": 3,
   "metadata": {
    "colab": {
     "base_uri": "https://localhost:8080/",
     "height": 572
    },
    "executionInfo": {
     "elapsed": 1229974,
     "status": "error",
     "timestamp": 1668045699400,
     "user": {
      "displayName": "Austin Geary",
      "userId": "04443240831720776372"
     },
     "user_tz": 300
    },
    "id": "16VChn4P-nn1",
    "outputId": "92341214-043c-4e6f-bef3-602f8f47f71f"
   },
   "outputs": [
    {
     "name": "stdout",
     "output_type": "stream",
     "text": [
      "timestamp2022-11-09 21:07:20.764362\n",
      "Downloading /home/ausgear/data/100K_dataset/images_01.tar.gz...\n",
      "Extracting /home/ausgear/data/100K_dataset/images_01.tar.gz...\n",
      "Deleting /home/ausgear/data/100K_dataset/images_01.tar.gz...\n",
      "timestamp2022-11-09 21:11:02.279917\n",
      "Downloading /home/ausgear/data/100K_dataset/images_02.tar.gz...\n",
      "Extracting /home/ausgear/data/100K_dataset/images_02.tar.gz...\n",
      "Deleting /home/ausgear/data/100K_dataset/images_02.tar.gz...\n",
      "timestamp2022-11-09 21:18:48.598280\n",
      "Downloading /home/ausgear/data/100K_dataset/images_03.tar.gz...\n",
      "Extracting /home/ausgear/data/100K_dataset/images_03.tar.gz...\n",
      "Deleting /home/ausgear/data/100K_dataset/images_03.tar.gz...\n",
      "timestamp2022-11-09 21:26:50.288225\n",
      "Downloading /home/ausgear/data/100K_dataset/images_04.tar.gz...\n",
      "Extracting /home/ausgear/data/100K_dataset/images_04.tar.gz...\n",
      "Deleting /home/ausgear/data/100K_dataset/images_04.tar.gz...\n",
      "timestamp2022-11-09 21:34:53.894243\n",
      "Downloading /home/ausgear/data/100K_dataset/images_05.tar.gz...\n",
      "Extracting /home/ausgear/data/100K_dataset/images_05.tar.gz...\n",
      "Deleting /home/ausgear/data/100K_dataset/images_05.tar.gz...\n",
      "timestamp2022-11-09 21:42:46.198757\n",
      "Downloading /home/ausgear/data/100K_dataset/images_06.tar.gz...\n",
      "Extracting /home/ausgear/data/100K_dataset/images_06.tar.gz...\n",
      "Deleting /home/ausgear/data/100K_dataset/images_06.tar.gz...\n",
      "timestamp2022-11-09 21:50:04.173996\n",
      "Downloading /home/ausgear/data/100K_dataset/images_07.tar.gz...\n",
      "Extracting /home/ausgear/data/100K_dataset/images_07.tar.gz...\n",
      "Deleting /home/ausgear/data/100K_dataset/images_07.tar.gz...\n",
      "timestamp2022-11-09 21:57:34.898123\n",
      "Downloading /home/ausgear/data/100K_dataset/images_08.tar.gz...\n",
      "Extracting /home/ausgear/data/100K_dataset/images_08.tar.gz...\n",
      "Deleting /home/ausgear/data/100K_dataset/images_08.tar.gz...\n",
      "timestamp2022-11-09 22:05:07.500729\n",
      "Downloading /home/ausgear/data/100K_dataset/images_09.tar.gz...\n",
      "Extracting /home/ausgear/data/100K_dataset/images_09.tar.gz...\n",
      "Deleting /home/ausgear/data/100K_dataset/images_09.tar.gz...\n",
      "timestamp2022-11-09 22:14:11.098131\n",
      "Downloading /home/ausgear/data/100K_dataset/images_10.tar.gz...\n",
      "Extracting /home/ausgear/data/100K_dataset/images_10.tar.gz...\n",
      "Deleting /home/ausgear/data/100K_dataset/images_10.tar.gz...\n",
      "timestamp2022-11-09 22:23:00.349721\n",
      "Downloading /home/ausgear/data/100K_dataset/images_11.tar.gz...\n",
      "Extracting /home/ausgear/data/100K_dataset/images_11.tar.gz...\n",
      "Deleting /home/ausgear/data/100K_dataset/images_11.tar.gz...\n",
      "timestamp2022-11-09 22:32:00.118721\n",
      "Downloading /home/ausgear/data/100K_dataset/images_12.tar.gz...\n",
      "Extracting /home/ausgear/data/100K_dataset/images_12.tar.gz...\n",
      "Deleting /home/ausgear/data/100K_dataset/images_12.tar.gz...\n",
      "Download complete. Please check the checksums\n"
     ]
    }
   ],
   "source": [
    "#!/usr/bin/env python3\n",
    "# Download the 56 zip files in Images_png in batches\n",
    "import urllib.request\n",
    "from datetime import datetime\n",
    "import tarfile\n",
    "\n",
    "# URLs for the zip files\n",
    "links = [\n",
    "    'https://nihcc.box.com/shared/static/vfk49d74nhbxq3nqjg0900w5nvkorp5c.gz',\n",
    "    'https://nihcc.box.com/shared/static/i28rlmbvmfjbl8p2n3ril0pptcmcu9d1.gz',\n",
    "    'https://nihcc.box.com/shared/static/f1t00wrtdk94satdfb9olcolqx20z2jp.gz',\n",
    "\t  'https://nihcc.box.com/shared/static/0aowwzs5lhjrceb3qp67ahp0rd1l1etg.gz',\n",
    "    'https://nihcc.box.com/shared/static/v5e3goj22zr6h8tzualxfsqlqaygfbsn.gz',\n",
    "\t  'https://nihcc.box.com/shared/static/asi7ikud9jwnkrnkj99jnpfkjdes7l6l.gz',\n",
    "\t  'https://nihcc.box.com/shared/static/jn1b4mw4n6lnh74ovmcjb8y48h8xj07n.gz',\n",
    "    'https://nihcc.box.com/shared/static/tvpxmn7qyrgl0w8wfh9kqfjskv6nmm1j.gz',\n",
    "\t  'https://nihcc.box.com/shared/static/upyy3ml7qdumlgk2rfcvlb9k6gvqq2pj.gz',\n",
    "\t  'https://nihcc.box.com/shared/static/l6nilvfa9cg3s28tqv1qc1olm3gnz54p.gz',\n",
    "\t  'https://nihcc.box.com/shared/static/hhq8fkdgvcari67vfhs7ppg2w6ni4jze.gz',\n",
    "\t  'https://nihcc.box.com/shared/static/ioqwiy20ihqwyr8pf4c24eazhh281pbu.gz'\n",
    "]\n",
    "\n",
    "for idx, link in enumerate(links):\n",
    "    print(f'timestamp{datetime.now()}')\n",
    "    fn = os.path.join(data_path,'images_%02d.tar.gz') % (idx+1)\n",
    "    if not(os.path.isfile(fn)):\n",
    "      print('Downloading '+fn+'...')\n",
    "      urllib.request.urlretrieve(link, fn)  # download the zip file\n",
    "      file = tarfile.open(fn)\n",
    "      print('Extracting '+fn+'...')\n",
    "      file.extractall(data_path)\n",
    "      file.close()\n",
    "      print('Deleting '+fn+'...')\n",
    "      os.remove(fn)\n",
    "\n",
    "print(\"Download complete. Please check the checksums\")"
   ]
  }
 ],
 "metadata": {
  "colab": {
   "machine_shape": "hm",
   "provenance": []
  },
  "gpuClass": "premium",
  "kernelspec": {
   "display_name": "Python 3 (ipykernel)",
   "language": "python",
   "name": "python3"
  },
  "language_info": {
   "codemirror_mode": {
    "name": "ipython",
    "version": 3
   },
   "file_extension": ".py",
   "mimetype": "text/x-python",
   "name": "python",
   "nbconvert_exporter": "python",
   "pygments_lexer": "ipython3",
   "version": "3.9.7"
  }
 },
 "nbformat": 4,
 "nbformat_minor": 1
}
