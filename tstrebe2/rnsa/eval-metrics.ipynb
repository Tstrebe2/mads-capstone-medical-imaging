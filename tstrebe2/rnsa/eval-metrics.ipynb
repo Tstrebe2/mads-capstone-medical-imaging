{
 "cells": [
  {
   "cell_type": "code",
   "execution_count": null,
   "id": "431ced0f-0c45-4ea5-9ef8-dd308402303c",
   "metadata": {},
   "outputs": [],
   "source": [
    "\n",
    "TL_THRESH = 0.3948"
   ]
  },
  {
   "cell_type": "code",
   "execution_count": null,
   "id": "c15ea2c2-fe0c-4e94-b5f2-46f8e948496b",
   "metadata": {},
   "outputs": [],
   "source": [
    "df_patients = pd.read_csv(patient_data_path, index_col='index')\n",
    "\n",
    "df_patients['age_group'] = pd.cut(df_patients.patient_age, \n",
    "                                  [0, 1, 5, 12, 18, 44, 64, 79, np.inf], \n",
    "                                  labels=['Infant 1 year-old', \n",
    "                                          'preschool (2-5)', \n",
    "                                          'Child (6-12)', \n",
    "                                          'Adolescent (13-18)', \n",
    "                                          'Adult (19-44)', \n",
    "                                          'Middle age (45-64)', \n",
    "                                          'Aged (65-79)', 'Aged 80+'])\n",
    "df_patients['view_position'] = df_patients['view_position'].map({'AP':'Anterior/Posterior', 'PA':'Posterior/Anterior'})\n",
    "\n",
    "df_patients['densenet_prediction'] = (df_patients['densenet_predict_proba'] >= TL_THRESH).astype(int)\n",
    "\n",
    "df_patients.head()"
   ]
  }
 ],
 "metadata": {
  "kernelspec": {
   "display_name": "Python 3 (ipykernel)",
   "language": "python",
   "name": "python3"
  },
  "language_info": {
   "codemirror_mode": {
    "name": "ipython",
    "version": 3
   },
   "file_extension": ".py",
   "mimetype": "text/x-python",
   "name": "python",
   "nbconvert_exporter": "python",
   "pygments_lexer": "ipython3",
   "version": "3.9.7"
  }
 },
 "nbformat": 4,
 "nbformat_minor": 5
}
